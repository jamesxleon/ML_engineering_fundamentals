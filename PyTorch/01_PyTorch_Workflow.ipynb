{
  "nbformat": 4,
  "nbformat_minor": 0,
  "metadata": {
    "colab": {
      "provenance": []
    },
    "kernelspec": {
      "name": "python3",
      "display_name": "Python 3"
    },
    "language_info": {
      "name": "python"
    }
  },
  "cells": [
    {
      "cell_type": "markdown",
      "source": [
        "# PyTorch Workflow\n",
        "\n",
        "We will be going through each step from getting the data into numbers, number representation, trainig and deploy. End-to-end workflow!\n"
      ],
      "metadata": {
        "id": "gPTiQjwJDJPt"
      }
    },
    {
      "cell_type": "code",
      "execution_count": 58,
      "metadata": {
        "colab": {
          "base_uri": "https://localhost:8080/"
        },
        "id": "uHUuIaTl5K6I",
        "outputId": "9b69a7a9-611b-4953-9f11-5cdcdb63bec8"
      },
      "outputs": [
        {
          "output_type": "execute_result",
          "data": {
            "text/plain": [
              "{1: 'data (prepare and load)',\n",
              " 2: 'build model',\n",
              " 3: 'fitting the model to data (training)',\n",
              " 4: 'making predictions and evaluating a model (inference)',\n",
              " 5: 'saving and loading a model',\n",
              " 6: 'putting it all together'}"
            ]
          },
          "metadata": {},
          "execution_count": 58
        }
      ],
      "source": [
        "what_were_covering = {1: \"data (prepare and load)\",\n",
        "                      2: \"build model\",\n",
        "                      3: \"fitting the model to data (training)\",\n",
        "                      4: \"making predictions and evaluating a model (inference)\",\n",
        "                      5: \"saving and loading a model\",\n",
        "                      6: \"putting it all together\"}\n",
        "what_were_covering"
      ]
    },
    {
      "cell_type": "code",
      "source": [
        "import torch\n",
        "from torch import nn # nn contains all of PyTorch's building blocks for neural network achitecture\n",
        "import matplotlib.pyplot as plt\n",
        "\n",
        "# Check PyTorch version\n",
        "torch.__version__"
      ],
      "metadata": {
        "colab": {
          "base_uri": "https://localhost:8080/",
          "height": 35
        },
        "id": "4bI_MPFIEA8S",
        "outputId": "404f3007-75dd-47ce-832b-bba863c2a75a"
      },
      "execution_count": 59,
      "outputs": [
        {
          "output_type": "execute_result",
          "data": {
            "text/plain": [
              "'2.1.0+cu118'"
            ],
            "application/vnd.google.colaboratory.intrinsic+json": {
              "type": "string"
            }
          },
          "metadata": {},
          "execution_count": 59
        }
      ]
    },
    {
      "cell_type": "markdown",
      "source": [
        "## 1. Data (Preparing and Loading)\n",
        "\n",
        "Data can be almost anything... in machine learning.\n",
        "\n",
        "* Excel spreadsheet\n",
        "* Images of any kind\n",
        "* Videos (Youtube has lots of data...)\n",
        "* Audio like songs or podcasts\n",
        "* DNA\n",
        "* Text\n",
        "\n",
        "Machine learning is a game of two parts:\n",
        "1. Get data into a numerical representation.\n",
        "2. Build a model to learn patterns in that numerical representation.\n",
        "\n",
        "To shorcase this, let's create some *known* data using the linear regression formula.\n",
        "\n",
        "We'll use a linear regression formula to make a straight line with known **parameters**"
      ],
      "metadata": {
        "id": "nVG2fIRuEaAz"
      }
    },
    {
      "cell_type": "code",
      "source": [
        "# Create *known* parameters\n",
        "weight = 0.7\n",
        "bias = 0.3\n",
        "\n",
        "# Create data\n",
        "start = 0\n",
        "end = 1\n",
        "step = 0.02\n",
        "# Capital X is notation for tensors, while lowercase y is notation for the dependant variable\n",
        "X = torch.arange(start, end, step).unsqueeze(dim=1)\n",
        "y = weight * X + bias # Linear Regression formula\n",
        "\n",
        "# Print the first 10 values of X (inputs) and y (outputs)\n",
        "print(X[:10], y[:10])\n",
        "\n",
        "# Plot data\n",
        "plt.plot(X.numpy(), y.numpy(), 'ro', label='Generic data')\n",
        "plt.legend()\n",
        "plt.show()"
      ],
      "metadata": {
        "colab": {
          "base_uri": "https://localhost:8080/",
          "height": 769
        },
        "id": "tfT14ahmEVxu",
        "outputId": "b042186a-f11f-4000-8b35-8804d84a9f18"
      },
      "execution_count": 60,
      "outputs": [
        {
          "output_type": "stream",
          "name": "stdout",
          "text": [
            "tensor([[0.0000],\n",
            "        [0.0200],\n",
            "        [0.0400],\n",
            "        [0.0600],\n",
            "        [0.0800],\n",
            "        [0.1000],\n",
            "        [0.1200],\n",
            "        [0.1400],\n",
            "        [0.1600],\n",
            "        [0.1800]]) tensor([[0.3000],\n",
            "        [0.3140],\n",
            "        [0.3280],\n",
            "        [0.3420],\n",
            "        [0.3560],\n",
            "        [0.3700],\n",
            "        [0.3840],\n",
            "        [0.3980],\n",
            "        [0.4120],\n",
            "        [0.4260]])\n"
          ]
        },
        {
          "output_type": "display_data",
          "data": {
            "text/plain": [
              "<Figure size 640x480 with 1 Axes>"
            ],
            "image/png": "[encoded data removed]"
          },
          "metadata": {}
        }
      ]
    },
    {
      "cell_type": "code",
      "source": [
        "len(X), len(y)"
      ],
      "metadata": {
        "colab": {
          "base_uri": "https://localhost:8080/"
        },
        "id": "BjTCZyxFaWGC",
        "outputId": "83144f58-e1cd-49c3-fe95-54b2f4789bd3"
      },
      "execution_count": 61,
      "outputs": [
        {
          "output_type": "execute_result",
          "data": {
            "text/plain": [
              "(50, 50)"
            ]
          },
          "metadata": {},
          "execution_count": 61
        }
      ]
    },
    {
      "cell_type": "markdown",
      "source": [
        "### Splitting data into training and test sets (one of the most important concepts in machine learning data)\n",
        "\n",
        "Analogy:\n",
        "\n",
        "Course materials -> Practice exam -> Final exam\n",
        "\n",
        "Training set -> Validation set -> Test set\n",
        "\n",
        "Model learns paterns -> Model tunes patterns -> See if the model is ready for Generalization\n",
        "\n",
        "60-80% -> 10-20% -> 10-20%\n",
        "\n",
        "Let's create a training set with out data"
      ],
      "metadata": {
        "id": "kNl_umnsYGbn"
      }
    },
    {
      "cell_type": "code",
      "source": [
        "# Create a train/test split (a method for our simple data)\n",
        "train_split = int(0.8 * len(X))\n",
        "X_train, y_train = X[:train_split], y[:train_split]\n",
        "X_test, y_test = X[train_split:], y[train_split:]\n",
        "\n",
        "len(X_train), len(y_train), len(X_test), len(y_test)"
      ],
      "metadata": {
        "colab": {
          "base_uri": "https://localhost:8080/"
        },
        "id": "iqAy1b1KYggY",
        "outputId": "b7c4b959-6ada-41f2-a784-fdcff8b2c8f3"
      },
      "execution_count": 62,
      "outputs": [
        {
          "output_type": "execute_result",
          "data": {
            "text/plain": [
              "(40, 40, 10, 10)"
            ]
          },
          "metadata": {},
          "execution_count": 62
        }
      ]
    },
    {
      "cell_type": "code",
      "source": [
        "X_train, y_train"
      ],
      "metadata": {
        "colab": {
          "base_uri": "https://localhost:8080/"
        },
        "id": "MWN6jdtIauPz",
        "outputId": "f61698ad-5b84-4861-b57d-790d29d5beb9"
      },
      "execution_count": 63,
      "outputs": [
        {
          "output_type": "execute_result",
          "data": {
            "text/plain": [
              "(tensor([[0.0000],\n",
              "         [0.0200],\n",
              "         [0.0400],\n",
              "         [0.0600],\n",
              "         [0.0800],\n",
              "         [0.1000],\n",
              "         [0.1200],\n",
              "         [0.1400],\n",
              "         [0.1600],\n",
              "         [0.1800],\n",
              "         [0.2000],\n",
              "         [0.2200],\n",
              "         [0.2400],\n",
              "         [0.2600],\n",
              "         [0.2800],\n",
              "         [0.3000],\n",
              "         [0.3200],\n",
              "         [0.3400],\n",
              "         [0.3600],\n",
              "         [0.3800],\n",
              "         [0.4000],\n",
              "         [0.4200],\n",
              "         [0.4400],\n",
              "         [0.4600],\n",
              "         [0.4800],\n",
              "         [0.5000],\n",
              "         [0.5200],\n",
              "         [0.5400],\n",
              "         [0.5600],\n",
              "         [0.5800],\n",
              "         [0.6000],\n",
              "         [0.6200],\n",
              "         [0.6400],\n",
              "         [0.6600],\n",
              "         [0.6800],\n",
              "         [0.7000],\n",
              "         [0.7200],\n",
              "         [0.7400],\n",
              "         [0.7600],\n",
              "         [0.7800]]),\n",
              " tensor([[0.3000],\n",
              "         [0.3140],\n",
              "         [0.3280],\n",
              "         [0.3420],\n",
              "         [0.3560],\n",
              "         [0.3700],\n",
              "         [0.3840],\n",
              "         [0.3980],\n",
              "         [0.4120],\n",
              "         [0.4260],\n",
              "         [0.4400],\n",
              "         [0.4540],\n",
              "         [0.4680],\n",
              "         [0.4820],\n",
              "         [0.4960],\n",
              "         [0.5100],\n",
              "         [0.5240],\n",
              "         [0.5380],\n",
              "         [0.5520],\n",
              "         [0.5660],\n",
              "         [0.5800],\n",
              "         [0.5940],\n",
              "         [0.6080],\n",
              "         [0.6220],\n",
              "         [0.6360],\n",
              "         [0.6500],\n",
              "         [0.6640],\n",
              "         [0.6780],\n",
              "         [0.6920],\n",
              "         [0.7060],\n",
              "         [0.7200],\n",
              "         [0.7340],\n",
              "         [0.7480],\n",
              "         [0.7620],\n",
              "         [0.7760],\n",
              "         [0.7900],\n",
              "         [0.8040],\n",
              "         [0.8180],\n",
              "         [0.8320],\n",
              "         [0.8460]]))"
            ]
          },
          "metadata": {},
          "execution_count": 63
        }
      ]
    },
    {
      "cell_type": "markdown",
      "source": [
        "How might we better visualize or data?\n",
        "\n",
        "This is where the data explorer's motto comes in!\n",
        "\n",
        "\"Visualize, visualize, visualize!\""
      ],
      "metadata": {
        "id": "0sMu3aMebWBM"
      }
    },
    {
      "cell_type": "code",
      "source": [
        "def plot_predictions(train_data = X_train,\n",
        "                    train_labels = y_train,\n",
        "                    test_data = X_test,\n",
        "                    test_labels = y_test,\n",
        "                    predictions = None):\n",
        "  \"\"\"\n",
        "  Plots training data, test data and compares predictions.\n",
        "  \"\"\"\n",
        "  plt.figure(figsize=(10,7))\n",
        "\n",
        "  # Check the documentation for the scatter function if there are any doubts\n",
        "  # Plot training data in blue\n",
        "  plt.scatter(train_data, train_labels, c = 'b', label='Training data')\n",
        "\n",
        "  # Plot test data in green\n",
        "  plt.scatter(test_data, test_labels, c = 'g', label='Testing data')\n",
        "\n",
        "  # Are there predictions?\n",
        "  if predictions is not None:\n",
        "    # Plot the predictions if they exist\n",
        "    plt.scatter(test_data, predictions, c = 'r', label='Predictions')\n",
        "\n",
        "  # Show the legend\n",
        "  plt.legend(prop={'size': 14})"
      ],
      "metadata": {
        "id": "C57x2mZubRb_"
      },
      "execution_count": 64,
      "outputs": []
    },
    {
      "cell_type": "code",
      "source": [
        "plot_predictions()"
      ],
      "metadata": {
        "colab": {
          "base_uri": "https://localhost:8080/",
          "height": 599
        },
        "id": "IFfmnSKJdFe1",
        "outputId": "09e6bb41-351f-4d9a-ab9f-97bf13ada5b3"
      },
      "execution_count": 65,
      "outputs": [
        {
          "output_type": "display_data",
          "data": {
            "text/plain": [
              "<Figure size 1000x700 with 1 Axes>"
            ],
            "image/png": "[encoded data removed]"
          },
          "metadata": {}
        }
      ]
    },
    {
      "cell_type": "markdown",
      "source": [
        "## 2. Build model\n",
        "\n",
        "Our first PyTorch model! This is very exciting... I hope you have some experience with OOP, though\n",
        "\n",
        "What our model class does:\n",
        "* Start with random values (weight and bias)\n",
        "* Look at training data and adjust the random values to better represent (or get closer to) the ideal values (the weight & bias values we used to create the data)\n",
        "\n",
        "How does it do so?\n",
        "\n",
        "Through two main algorithms:\n",
        "1. Gradient descent\n",
        "2. Backpropagation"
      ],
      "metadata": {
        "id": "QLYk4ShadXV0"
      }
    },
    {
      "cell_type": "code",
      "source": [
        "from torch import nn\n",
        "\n",
        "# Create a linear regression model class\n",
        "class LinearRegressionModel(nn.Module): # <- almost everything in PyTorch inherits from nn.module\n",
        "  # You can stack modules to create progressively more complex models\n",
        "\n",
        "  # Constructor\n",
        "  def __init__(self):\n",
        "    super().__init__()\n",
        "    # Parameter is a subclass of Tensor that gets automatically added to the list of a Module parameters\n",
        "    self.weights = nn.Parameter(torch.randn(1, # <- start with a random weight and try to adjust it to the ideal weight\n",
        "                                            requires_grad=True, # <- can this parameter be updated via gradient descent?\n",
        "                                            dtype=torch.float)) # <- Pytorch loves the datatype torch.float32\n",
        "    self.bias = nn.Parameter(torch.randn(1,\n",
        "                                         requires_grad = True,\n",
        "                                         dtype=torch.float))\n",
        "\n",
        "  # Forward method to define the computation in the model\n",
        "  def forward(self, x: torch.Tensor) -> torch.Tensor: # <- \"x\" is the input data\n",
        "    return self.weights * x + self.bias # This is for the linear regression formula"
      ],
      "metadata": {
        "id": "wNqupOhLdHD2"
      },
      "execution_count": 66,
      "outputs": []
    },
    {
      "cell_type": "markdown",
      "source": [
        "The previous explicit implementation is only for educative purposes, most times we would be using the already implemented classes. Specially with bigger models we won't explicitly initialize the weights and biases, but rather entire layers.\n",
        "\n",
        "You can check the [torch.nn](https://pytorch.org/tutorials/beginner/nn_tutorial.html) documentation. Essentially:\n",
        "- nn.module contains the building blocks (A neural network can be considered a computational graph)\n",
        "- torch.nn.Parameter : model parameters are the values to be used at each computation (the values to try and learn)\n",
        "- requires_grad=True means PyTorch will track the gradients for a specific parameter for use with torch.autograd and gradient descent\n",
        "- any subclass of nn.module needs to override forward() which defines the forward computation of the model!\n",
        "\n",
        "Once the parameters have been randomly initialized, we want to correctly update them. There is where gradient descent and backpropagation come on handy.\n",
        "\n",
        "It is useful to refer to the [torch cheatshet](https://pytorch.org/tutorials/beginner/ptcheat.html)"
      ],
      "metadata": {
        "id": "NTbzG1r0ER9h"
      }
    },
    {
      "cell_type": "markdown",
      "source": [
        "### Checking the contents of our PyTorch module.\n",
        "\n",
        "Let's see what's inside our pytorch model using .parameters()"
      ],
      "metadata": {
        "id": "IpJsK2FnGxYg"
      }
    },
    {
      "cell_type": "code",
      "source": [
        "# Create a random seed\n",
        "torch.manual_seed(42) # this is only for illustration, we want to start ideally from a random state\n",
        "\n",
        "# Create an instance of the model\n",
        "model_0 = LinearRegressionModel()\n",
        "\n",
        "# Check the contents of the model\n",
        "list(model_0.parameters())"
      ],
      "metadata": {
        "colab": {
          "base_uri": "https://localhost:8080/"
        },
        "id": "cK_zMTXoFKHw",
        "outputId": "0a854f59-a8c7-4966-ef5a-e9f99b7735a2"
      },
      "execution_count": 67,
      "outputs": [
        {
          "output_type": "execute_result",
          "data": {
            "text/plain": [
              "[Parameter containing:\n",
              " tensor([0.3367], requires_grad=True),\n",
              " Parameter containing:\n",
              " tensor([0.1288], requires_grad=True)]"
            ]
          },
          "metadata": {},
          "execution_count": 67
        }
      ]
    },
    {
      "cell_type": "code",
      "source": [
        "model_0.state_dict()"
      ],
      "metadata": {
        "colab": {
          "base_uri": "https://localhost:8080/"
        },
        "id": "UiIobgMjHPHJ",
        "outputId": "f440ea16-8d69-4a99-d3cb-4262edf659ac"
      },
      "execution_count": 68,
      "outputs": [
        {
          "output_type": "execute_result",
          "data": {
            "text/plain": [
              "OrderedDict([('weights', tensor([0.3367])), ('bias', tensor([0.1288]))])"
            ]
          },
          "metadata": {},
          "execution_count": 68
        }
      ]
    },
    {
      "cell_type": "code",
      "source": [
        "weight, bias"
      ],
      "metadata": {
        "colab": {
          "base_uri": "https://localhost:8080/"
        },
        "id": "tx2VFmOnHmOn",
        "outputId": "6cf0d289-3d22-4fc4-ce78-599d317b356f"
      },
      "execution_count": 69,
      "outputs": [
        {
          "output_type": "execute_result",
          "data": {
            "text/plain": [
              "(0.7, 0.3)"
            ]
          },
          "metadata": {},
          "execution_count": 69
        }
      ]
    },
    {
      "cell_type": "markdown",
      "source": [
        "In this example, we want to move the random initial parameters to the ideal values for weight and bias. Though, in most cases we don't know what the ideal values are"
      ],
      "metadata": {
        "id": "tnvkBhB3HtEx"
      }
    },
    {
      "cell_type": "markdown",
      "source": [
        "### Making predicitons using `torch.inference_mode()`\n",
        "\n",
        "To check our model's predictive power, let's see how well it predicts y_test bases on X_test.\n",
        "\n",
        "When we pass data through our model, it's going to run it through the forward() method."
      ],
      "metadata": {
        "id": "4_OWcvk9Ho32"
      }
    },
    {
      "cell_type": "code",
      "source": [
        "# the ideal y outputs for every X input in the test set\n",
        "X_test, y_test"
      ],
      "metadata": {
        "colab": {
          "base_uri": "https://localhost:8080/"
        },
        "id": "Y7F1Z7LxIQ0N",
        "outputId": "569c9908-0007-41cf-d11f-d333a36cf572"
      },
      "execution_count": 70,
      "outputs": [
        {
          "output_type": "execute_result",
          "data": {
            "text/plain": [
              "(tensor([[0.8000],\n",
              "         [0.8200],\n",
              "         [0.8400],\n",
              "         [0.8600],\n",
              "         [0.8800],\n",
              "         [0.9000],\n",
              "         [0.9200],\n",
              "         [0.9400],\n",
              "         [0.9600],\n",
              "         [0.9800]]),\n",
              " tensor([[0.8600],\n",
              "         [0.8740],\n",
              "         [0.8880],\n",
              "         [0.9020],\n",
              "         [0.9160],\n",
              "         [0.9300],\n",
              "         [0.9440],\n",
              "         [0.9580],\n",
              "         [0.9720],\n",
              "         [0.9860]]))"
            ]
          },
          "metadata": {},
          "execution_count": 70
        }
      ]
    },
    {
      "cell_type": "code",
      "source": [
        "# make predictions with model\n",
        "with torch.inference_mode():\n",
        "  # Predicting in inference mode instead of using pred = model(X) is that we avoid\n",
        "  # Keeping information that we do not need (the grad_gn)\n",
        "  y_preds = model_0(X_test)\n",
        "\n",
        "# An alternative is torch.no_grad(), however inference_mode() is prefered\n",
        "with torch.no_grad():\n",
        "  y_preds = model_0(X_test)\n",
        "\n",
        "# the resulting y outputs for every X input in the test set\n",
        "y_preds"
      ],
      "metadata": {
        "colab": {
          "base_uri": "https://localhost:8080/"
        },
        "id": "J_2cHE4PIIt4",
        "outputId": "c8d99fff-178e-49c3-b8df-a1ae14c55354"
      },
      "execution_count": 71,
      "outputs": [
        {
          "output_type": "execute_result",
          "data": {
            "text/plain": [
              "tensor([[0.3982],\n",
              "        [0.4049],\n",
              "        [0.4116],\n",
              "        [0.4184],\n",
              "        [0.4251],\n",
              "        [0.4318],\n",
              "        [0.4386],\n",
              "        [0.4453],\n",
              "        [0.4520],\n",
              "        [0.4588]])"
            ]
          },
          "metadata": {},
          "execution_count": 71
        }
      ]
    },
    {
      "cell_type": "code",
      "source": [
        "# Of course, this sucks. It is randomly predicting because we have not trained a thing yet\n",
        "plot_predictions(predictions=y_preds)"
      ],
      "metadata": {
        "colab": {
          "base_uri": "https://localhost:8080/",
          "height": 599
        },
        "id": "MjpK-0gtIqgv",
        "outputId": "28064315-88cc-468f-e4da-ebebf2d802e2"
      },
      "execution_count": 72,
      "outputs": [
        {
          "output_type": "display_data",
          "data": {
            "text/plain": [
              "<Figure size 1000x700 with 1 Axes>"
            ],
            "image/png": "[encoded data removed]"
          },
          "metadata": {}
        }
      ]
    },
    {
      "cell_type": "markdown",
      "source": [
        "## 3. Train Model\n",
        "\n",
        "The idea of training is for a model to move from \"unknown/random\" parameter to some known parameters.\n",
        "\n",
        "Poor representation -> Better representation.\n",
        "\n",
        "The way we do it is through the use of a Loss function.\n",
        "\n",
        "* Note: a Loss function may also be called cost function or criterion\n",
        "\n",
        "Things we need to train:\n",
        "\n",
        "* **Loss function:** A function to measure how wrong is the output of the model from the expected values.\n",
        "* **Optimizer:** Takes into account the loss of a model and adjusts the model's parameters (weight & bias)\n",
        "\n",
        "Specificlly for PyTorch, we need:\n",
        "\n",
        "*A training loop\n",
        "*A testing loop"
      ],
      "metadata": {
        "id": "e742K5cdJyHF"
      }
    },
    {
      "cell_type": "code",
      "source": [
        "list(model_0.parameters())"
      ],
      "metadata": {
        "colab": {
          "base_uri": "https://localhost:8080/"
        },
        "id": "08HFPUNaKBtP",
        "outputId": "5ee6ca7c-90a4-4887-ca82-4f80b79a1496"
      },
      "execution_count": 73,
      "outputs": [
        {
          "output_type": "execute_result",
          "data": {
            "text/plain": [
              "[Parameter containing:\n",
              " tensor([0.3367], requires_grad=True),\n",
              " Parameter containing:\n",
              " tensor([0.1288], requires_grad=True)]"
            ]
          },
          "metadata": {},
          "execution_count": 73
        }
      ]
    },
    {
      "cell_type": "code",
      "source": [
        "model_0.state_dict()"
      ],
      "metadata": {
        "colab": {
          "base_uri": "https://localhost:8080/"
        },
        "id": "U4ZJVlJ8Kmnj",
        "outputId": "ef3f06e9-9337-4cd6-b639-6dabde9d7b60"
      },
      "execution_count": 74,
      "outputs": [
        {
          "output_type": "execute_result",
          "data": {
            "text/plain": [
              "OrderedDict([('weights', tensor([0.3367])), ('bias', tensor([0.1288]))])"
            ]
          },
          "metadata": {},
          "execution_count": 74
        }
      ]
    },
    {
      "cell_type": "code",
      "source": [
        "# Setup a loss function\n",
        "loss_fn = nn.L1Loss()\n",
        "\n",
        "# Setup an optimizer (stochastic gradient descent)\n",
        "optimizer = torch.optim.SGD(params=model_0.parameters(),\n",
        "                            lr = 0.01) # lr = learning rate = possibly the most important hyperparameter you can set"
      ],
      "metadata": {
        "id": "G6MjK8lkKopj"
      },
      "execution_count": 75,
      "outputs": []
    },
    {
      "cell_type": "markdown",
      "source": [
        "Remember our weights tensor was randomly initialized as 0.3367? This means the following learning rates would change the weights as exposed:\n",
        "\n",
        "* lr = 0.1 -> moves the 0.**_3_**367 digit\n",
        "* lr = 0.01 -> moves the 0.3**_3_**67 digit\n",
        "* lr = 0.001 -> moves the 0.33**_6_**7 digit\n",
        "\n",
        "And so on...\n",
        "\n",
        "Optimizer helps to tell if the way we are adjusting the loss function is working well or if we've got to move on a different direction in case results are not behaving as expected.\n",
        "\n",
        "**Note: Learning scheduler**\n",
        "\n",
        "A learning schedulers makes the steps of the learning rate get smaller as they approach to the minima to avoid jumping over it."
      ],
      "metadata": {
        "id": "f2YppZFIaXDN"
      }
    },
    {
      "cell_type": "markdown",
      "source": [
        "**What loss function and optimize should I use?**\n",
        "\n",
        "This usually comes from experiences. Some examples are:\n",
        "* For Linear regression, `nn.L1Loss()` and `torch.optim.SGD()` will suffice.\n",
        "* For binary classification problems, a loss function like `nn.BCSLoss()` will be needed.\n",
        "\n",
        "And so, the answer to this question will be case specific."
      ],
      "metadata": {
        "id": "tDkS8cklcpmw"
      }
    },
    {
      "cell_type": "markdown",
      "source": [
        "### Building a training loop (and testing loop) in PyTorch\n",
        "\n",
        "A couple of thins we need in a training loop:\n",
        "0. Loop through the data\n",
        "1. Forward pass (this involves data moving through the model's `forward()` function) to make predictions on data - also called forward propagation\n",
        "2. Calculate the loss (compare forward pass predictions to ground truth labels)\n",
        "3. Optimizer zero grad\n",
        "4. Loss backward - move backwards through the network to calculate the gradients of each of the parameters of our model with respect to the loss (**Backpropagation**)\n",
        "5. Optimizer step- use the optimizer to adjust our model's parameters to try and improve the loss (**Gradient descent** - gradient is a slope)\n"
      ],
      "metadata": {
        "id": "Eni8Ptn2cKFL"
      }
    },
    {
      "cell_type": "code",
      "source": [
        "# This is just to initialize everything off in case you want to run experiments with the code below\n",
        "torch.manual_seed(42)\n",
        "\n",
        "model_1 = LinearRegressionModel()\n",
        "loss_fn = nn.L1Loss()\n",
        "optimizer = torch.optim.SGD(params=model_1.parameters(), lr=0.01)\n",
        "list(model_1.parameters())"
      ],
      "metadata": {
        "colab": {
          "base_uri": "https://localhost:8080/"
        },
        "id": "IkOxdg3ZF_uO",
        "outputId": "aefbbd49-fb57-47b5-a906-09dd134c011a"
      },
      "execution_count": 76,
      "outputs": [
        {
          "output_type": "execute_result",
          "data": {
            "text/plain": [
              "[Parameter containing:\n",
              " tensor([0.3367], requires_grad=True),\n",
              " Parameter containing:\n",
              " tensor([0.1288], requires_grad=True)]"
            ]
          },
          "metadata": {},
          "execution_count": 76
        }
      ]
    },
    {
      "cell_type": "code",
      "source": [
        "# An epoch is one loop trough the data...\n",
        "epochs = 200 # <- this is a hyperparameter as we set it ourselves\n",
        "\n",
        "### Tracking experiments demand tracking different values\n",
        "epoch_count = []\n",
        "loss_values = []\n",
        "test_loss_values = []\n",
        "\n",
        "### Training time!\n",
        "# 0. Loop through the data\n",
        "for epoch in range(epochs):\n",
        "  # Set the model to training mode\n",
        "  model_1.train() # train mode in PyTorch set all parameters that require gradients to True\n",
        "\n",
        "  # 1. Forward pass\n",
        "  y_pred = model_1(X_train)\n",
        "\n",
        "  # 2. Calculate the loss\n",
        "  loss = loss_fn(y_pred, y_train) # <- remember it receives input first, target then\n",
        "\n",
        "  # 3. Optimizer zero grad (reset the gradients as they accumulate by default)\n",
        "  optimizer.zero_grad()\n",
        "\n",
        "  # 4. Perform Backpropagation on the loss with respect to the parameters of the model\n",
        "  loss.backward() # <- compute the gradient of every parameter with require_grad = True\n",
        "\n",
        "  # 5. Step the optimizer (perform gradient descent)\n",
        "  optimizer.step() # <- move on the computed gradient\n",
        "\n",
        "  ### Testing\n",
        "  model_1.eval() # turns off settings not needed for evaluation (dropout/batch normalization/etc)\n",
        "\n",
        "  with torch.inference_mode(): # turns off gradient tracking (Also, fastest way of testing things)\n",
        "    # with torch.no_grad() works too, but it's slower\n",
        "\n",
        "    # 1. Forward pass\n",
        "    test_pred = model_1(X_test)\n",
        "\n",
        "    # 2. Calculate the loss\n",
        "    test_loss = loss_fn(test_pred, y_test)\n",
        "\n",
        "  # Print the loss every 10 epochs\n",
        "  if (epoch + 1) % 10 == 0:\n",
        "    epoch_count.append(epoch+1)\n",
        "    loss_values.append(loss.item())\n",
        "    test_loss_values.append(test_loss.item())\n",
        "\n",
        "    # Print the epoch and loss\n",
        "    print(f'Epoch: {epoch + 1} | Loss: {loss.item():.4f} | Test_loss: {test_loss.item():.4f}')\n",
        "    # Print model state_dict\n",
        "    print(model_1.state_dict())"
      ],
      "metadata": {
        "colab": {
          "base_uri": "https://localhost:8080/"
        },
        "id": "267SH927dHz4",
        "outputId": "93a8f80b-6ca5-497e-8eaa-ee85e64d4e96"
      },
      "execution_count": 77,
      "outputs": [
        {
          "output_type": "stream",
          "name": "stdout",
          "text": [
            "Epoch: 10 | Loss: 0.2092 | Test_loss: 0.3598\n",
            "OrderedDict([('weights', tensor([0.3757])), ('bias', tensor([0.2288]))])\n",
            "Epoch: 20 | Loss: 0.0968 | Test_loss: 0.2282\n",
            "OrderedDict([('weights', tensor([0.4146])), ('bias', tensor([0.3258]))])\n",
            "Epoch: 30 | Loss: 0.0546 | Test_loss: 0.1497\n",
            "OrderedDict([('weights', tensor([0.4483])), ('bias', tensor([0.3743]))])\n",
            "Epoch: 40 | Loss: 0.0459 | Test_loss: 0.1154\n",
            "OrderedDict([('weights', tensor([0.4728])), ('bias', tensor([0.3868]))])\n",
            "Epoch: 50 | Loss: 0.0420 | Test_loss: 0.1003\n",
            "OrderedDict([('weights', tensor([0.4920])), ('bias', tensor([0.3848]))])\n",
            "Epoch: 60 | Loss: 0.0385 | Test_loss: 0.0893\n",
            "OrderedDict([('weights', tensor([0.5100])), ('bias', tensor([0.3798]))])\n",
            "Epoch: 70 | Loss: 0.0351 | Test_loss: 0.0810\n",
            "OrderedDict([('weights', tensor([0.5272])), ('bias', tensor([0.3728]))])\n",
            "Epoch: 80 | Loss: 0.0317 | Test_loss: 0.0734\n",
            "OrderedDict([('weights', tensor([0.5441])), ('bias', tensor([0.3653]))])\n",
            "Epoch: 90 | Loss: 0.0282 | Test_loss: 0.0652\n",
            "OrderedDict([('weights', tensor([0.5613])), ('bias', tensor([0.3583]))])\n",
            "Epoch: 100 | Loss: 0.0248 | Test_loss: 0.0569\n",
            "OrderedDict([('weights', tensor([0.5784])), ('bias', tensor([0.3513]))])\n",
            "Epoch: 110 | Loss: 0.0214 | Test_loss: 0.0493\n",
            "OrderedDict([('weights', tensor([0.5954])), ('bias', tensor([0.3438]))])\n",
            "Epoch: 120 | Loss: 0.0179 | Test_loss: 0.0410\n",
            "OrderedDict([('weights', tensor([0.6126])), ('bias', tensor([0.3368]))])\n",
            "Epoch: 130 | Loss: 0.0145 | Test_loss: 0.0334\n",
            "OrderedDict([('weights', tensor([0.6295])), ('bias', tensor([0.3293]))])\n",
            "Epoch: 140 | Loss: 0.0111 | Test_loss: 0.0252\n",
            "OrderedDict([('weights', tensor([0.6467])), ('bias', tensor([0.3223]))])\n",
            "Epoch: 150 | Loss: 0.0076 | Test_loss: 0.0169\n",
            "OrderedDict([('weights', tensor([0.6638])), ('bias', tensor([0.3153]))])\n",
            "Epoch: 160 | Loss: 0.0042 | Test_loss: 0.0093\n",
            "OrderedDict([('weights', tensor([0.6808])), ('bias', tensor([0.3078]))])\n",
            "Epoch: 170 | Loss: 0.0026 | Test_loss: 0.0084\n",
            "OrderedDict([('weights', tensor([0.6990])), ('bias', tensor([0.3093]))])\n",
            "Epoch: 180 | Loss: 0.0026 | Test_loss: 0.0084\n",
            "OrderedDict([('weights', tensor([0.6990])), ('bias', tensor([0.3093]))])\n",
            "Epoch: 190 | Loss: 0.0026 | Test_loss: 0.0084\n",
            "OrderedDict([('weights', tensor([0.6990])), ('bias', tensor([0.3093]))])\n",
            "Epoch: 200 | Loss: 0.0026 | Test_loss: 0.0084\n",
            "OrderedDict([('weights', tensor([0.6990])), ('bias', tensor([0.3093]))])\n"
          ]
        }
      ]
    },
    {
      "cell_type": "code",
      "source": [
        "# Plot the loss curves\n",
        "plt.plot(epoch_count, loss_values, label='Train loss')\n",
        "plt.plot(epoch_count, test_loss_values, label='Test loss')\n",
        "plt.title(\"Training and test loss curves\")\n",
        "plt.xlabel(\"Epoch\")\n",
        "plt.ylabel(\"Loss\")\n",
        "plt.legend()\n",
        "plt.show()"
      ],
      "metadata": {
        "colab": {
          "base_uri": "https://localhost:8080/",
          "height": 472
        },
        "id": "m3Q7ptjPGl-W",
        "outputId": "b34dd9c9-c487-48b8-b540-28aca72d8fb3"
      },
      "execution_count": 78,
      "outputs": [
        {
          "output_type": "display_data",
          "data": {
            "text/plain": [
              "<Figure size 640x480 with 1 Axes>"
            ],
            "image/png": "[encoded data removed]"
          },
          "metadata": {}
        }
      ]
    },
    {
      "cell_type": "markdown",
      "source": [
        "**Note:** In this toy problem we now exactly what the value we are looking for is for the weights and the bias (0.7 and 0.3). So we can check how closely they got to the desired values by checking the state_dict(). Then, we use inference_mode() to get updated predictions and now we see how they evolved over time"
      ],
      "metadata": {
        "id": "8wJcvDg4CWeA"
      }
    },
    {
      "cell_type": "code",
      "source": [
        "model_1.state_dict()"
      ],
      "metadata": {
        "colab": {
          "base_uri": "https://localhost:8080/"
        },
        "id": "7dwTfmubBh1U",
        "outputId": "d8659d98-4a98-4fed-fa41-77c5f15550c0"
      },
      "execution_count": 79,
      "outputs": [
        {
          "output_type": "execute_result",
          "data": {
            "text/plain": [
              "OrderedDict([('weights', tensor([0.6990])), ('bias', tensor([0.3093]))])"
            ]
          },
          "metadata": {},
          "execution_count": 79
        }
      ]
    },
    {
      "cell_type": "code",
      "source": [
        "with torch.inference_mode():\n",
        "  y_preds_new = model_1(X_test)\n",
        "\n",
        "plot_predictions(predictions=y_preds_new)"
      ],
      "metadata": {
        "colab": {
          "base_uri": "https://localhost:8080/",
          "height": 599
        },
        "id": "iCsVrz8yBxWG",
        "outputId": "8dc84000-a53d-4bdd-e798-60723fd51304"
      },
      "execution_count": 80,
      "outputs": [
        {
          "output_type": "display_data",
          "data": {
            "text/plain": [
              "<Figure size 1000x700 with 1 Axes>"
            ],
            "image/png": "[encoded data removed]"
          },
          "metadata": {}
        }
      ]
    },
    {
      "cell_type": "markdown",
      "source": [
        "## Saving a model in PyTorch\n",
        "\n",
        "There are three main methods you should know about for saving and loading models in PyTorch.\n",
        "1. `torch.save()` - allows you to save a PyTorch object in Python's pickle format\n",
        "2. `torch.load()` - allows you to load a saved PyTorch object\n",
        "3. `torch.nn.Module.load_state_dict()` - this allows to load a model's saved state dictionary\n",
        "\n",
        "See: https://pytorch.org/tutorials/beginner/saving_loading_models.html\n",
        "\n",
        "Something interesting I found out is that saving a model checkpoint is ~2-3 times larger than the model alone as we've got to save the model's state_dict as well as the optimizer's state_dict (which contains the gradient descent parameters), external `nn.Emedding` layers, last epoch of training, latest recorded loss, etc.\n",
        "\n",
        "A convention is to save the PyTorch object as .pth (`torch.save` will zip this), use torchscript for scalability and deploy (also works in c++), and a dictionary a components as a .tar file."
      ],
      "metadata": {
        "id": "vom4lF-vIGMO"
      }
    },
    {
      "cell_type": "code",
      "source": [
        "# When working with enourmous models, it won't be so easy to check the state_dict, but the intuition is the same\n",
        "model_1.state_dict()"
      ],
      "metadata": {
        "colab": {
          "base_uri": "https://localhost:8080/"
        },
        "id": "FwJZHL2RzMhr",
        "outputId": "5105d271-2110-45c8-ed9c-c2c4be7239ce"
      },
      "execution_count": 81,
      "outputs": [
        {
          "output_type": "execute_result",
          "data": {
            "text/plain": [
              "OrderedDict([('weights', tensor([0.6990])), ('bias', tensor([0.3093]))])"
            ]
          },
          "metadata": {},
          "execution_count": 81
        }
      ]
    },
    {
      "cell_type": "code",
      "source": [
        "# Saving out PyTorch model\n",
        "from pathlib import Path\n",
        "\n",
        "# 1. Create models directory\n",
        "MODEL_PATH = Path(\"models\")\n",
        "MODEL_PATH.mkdir(parents=True, exist_ok=True)\n",
        "\n",
        "# 2. Create model save path\n",
        "MODEL_NAME = \"01_PyTorch_Workflow.pth\"\n",
        "MODEL_SAVE_PATH = MODEL_PATH / MODEL_NAME\n",
        "\n",
        "# 3. Save the model state_dict\n",
        "print(f\"Saving model to: {MODEL_SAVE_PATH}\")\n",
        "torch.save(model_1.state_dict(),\n",
        "           MODEL_SAVE_PATH)"
      ],
      "metadata": {
        "colab": {
          "base_uri": "https://localhost:8080/"
        },
        "id": "-5zf5ZbpzfnP",
        "outputId": "8c99e1ef-ea2b-4ea8-c1b2-08c45fc223d8"
      },
      "execution_count": 82,
      "outputs": [
        {
          "output_type": "stream",
          "name": "stdout",
          "text": [
            "Saving model to: models/01_PyTorch_Workflow.pth\n"
          ]
        }
      ]
    },
    {
      "cell_type": "code",
      "source": [
        "!ls -l models"
      ],
      "metadata": {
        "colab": {
          "base_uri": "https://localhost:8080/"
        },
        "id": "orpI4qcu4Nux",
        "outputId": "3b1eda0f-7dd0-4f38-fa04-512c00e29d63"
      },
      "execution_count": 83,
      "outputs": [
        {
          "output_type": "stream",
          "name": "stdout",
          "text": [
            "total 8\n",
            "-rw-r--r-- 1 root root 1568 Dec  4 16:36 01_PyTorch_Workflow.pth\n",
            "-rw-r--r-- 1 root root 1560 Dec  4 13:55 model_1.pth\n"
          ]
        }
      ]
    },
    {
      "cell_type": "markdown",
      "source": [
        "## Loading a PyTorch model\n",
        "Since we saved our model's state_dict rather than the entire model, we must initialize the model again and use the `.load_state_dict` method to update its weights"
      ],
      "metadata": {
        "id": "f58H8TOA47_l"
      }
    },
    {
      "cell_type": "code",
      "source": [
        "# Now let's try to load a model for inference\n",
        "\n",
        "# First, we instantiate a new instance of our model class\n",
        "loaded_model = LinearRegressionModel()\n",
        "\n",
        "# Check the state_dict before update\n",
        "loaded_model.state_dict()"
      ],
      "metadata": {
        "colab": {
          "base_uri": "https://localhost:8080/"
        },
        "id": "foeOwpaO4iad",
        "outputId": "17a7bf58-627c-479c-c349-9442e3c1aa5a"
      },
      "execution_count": 84,
      "outputs": [
        {
          "output_type": "execute_result",
          "data": {
            "text/plain": [
              "OrderedDict([('weights', tensor([0.2345])), ('bias', tensor([0.2303]))])"
            ]
          },
          "metadata": {},
          "execution_count": 84
        }
      ]
    },
    {
      "cell_type": "code",
      "source": [
        "# Then, load the weights from the saved .pth\n",
        "loaded_model.load_state_dict(torch.load(MODEL_SAVE_PATH))\n",
        "\n",
        "# Check the state_dict now\n",
        "loaded_model.state_dict()"
      ],
      "metadata": {
        "colab": {
          "base_uri": "https://localhost:8080/"
        },
        "id": "8OIBqoKV5Fsd",
        "outputId": "5ab5868d-e1ca-4c1d-ebc9-c104b1941e2d"
      },
      "execution_count": 85,
      "outputs": [
        {
          "output_type": "execute_result",
          "data": {
            "text/plain": [
              "OrderedDict([('weights', tensor([0.6990])), ('bias', tensor([0.3093]))])"
            ]
          },
          "metadata": {},
          "execution_count": 85
        }
      ]
    },
    {
      "cell_type": "code",
      "source": [
        "# Let's see if this actually works!\n",
        "loaded_model.eval(), model_1.eval()\n",
        "with torch.inference_mode():\n",
        "  y_preds_loaded = loaded_model(X_test)\n",
        "  y_preds = model_1(X_test)\n",
        "\n",
        "y_preds_loaded == y_preds"
      ],
      "metadata": {
        "colab": {
          "base_uri": "https://localhost:8080/"
        },
        "id": "RR3v6QPL52Ah",
        "outputId": "e0a327e3-3978-4d54-b095-20cef47a0e5e"
      },
      "execution_count": 86,
      "outputs": [
        {
          "output_type": "execute_result",
          "data": {
            "text/plain": [
              "tensor([[True],\n",
              "        [True],\n",
              "        [True],\n",
              "        [True],\n",
              "        [True],\n",
              "        [True],\n",
              "        [True],\n",
              "        [True],\n",
              "        [True],\n",
              "        [True]])"
            ]
          },
          "metadata": {},
          "execution_count": 86
        }
      ]
    },
    {
      "cell_type": "markdown",
      "source": [
        "## 6. Putting it all together\n",
        "\n",
        "Let's go back through the steps above and put it all together"
      ],
      "metadata": {
        "id": "BA4fjF5N6dnv"
      }
    },
    {
      "cell_type": "code",
      "source": [
        "# Import PyTorch and matplotlib\n",
        "import torch\n",
        "from torch import nn\n",
        "import matplotlib.pyplot as plt\n",
        "\n",
        "# Check PyTorch version\n",
        "torch.__version__"
      ],
      "metadata": {
        "colab": {
          "base_uri": "https://localhost:8080/",
          "height": 35
        },
        "id": "Z8T-mo376upt",
        "outputId": "39d25e3b-b746-453c-ed60-725aaef740da"
      },
      "execution_count": 87,
      "outputs": [
        {
          "output_type": "execute_result",
          "data": {
            "text/plain": [
              "'2.1.0+cu118'"
            ],
            "application/vnd.google.colaboratory.intrinsic+json": {
              "type": "string"
            }
          },
          "metadata": {},
          "execution_count": 87
        }
      ]
    },
    {
      "cell_type": "markdown",
      "source": [
        "Create device-agnostic code.\n",
        "\n",
        "Use either GPU or CPU depending on what's available"
      ],
      "metadata": {
        "id": "zUn5raUb68bX"
      }
    },
    {
      "cell_type": "code",
      "source": [
        "# Setup device agnostic code\n",
        "device = \"cuda\" if torch.cuda.is_available() else \"cpu\"\n",
        "print(f\"Using device: {device}\")"
      ],
      "metadata": {
        "colab": {
          "base_uri": "https://localhost:8080/"
        },
        "id": "I9yiPAT47A-p",
        "outputId": "f1394119-5a54-45d2-b3b3-081b454aa94d"
      },
      "execution_count": 88,
      "outputs": [
        {
          "output_type": "stream",
          "name": "stdout",
          "text": [
            "Using device: cpu\n"
          ]
        }
      ]
    },
    {
      "cell_type": "markdown",
      "source": [
        "### 6.1 Data"
      ],
      "metadata": {
        "id": "o01bSQlU6xU7"
      }
    },
    {
      "cell_type": "code",
      "source": [
        "# Create some data using linear regression formula y = weight * X + bias\n",
        "weight = 0.7\n",
        "bias = 0.3\n",
        "\n",
        "# Create range values\n",
        "start = 0\n",
        "end = 1\n",
        "step = 0.02\n",
        "\n",
        "# Create X and Y (features and labels)\n",
        "X = torch.arange(start, end, step).unsqueeze(dim=1) # without unsqueeze, errors will pop up\n",
        "y = weight * X + bias\n",
        "X[:10], y[:10]"
      ],
      "metadata": {
        "colab": {
          "base_uri": "https://localhost:8080/"
        },
        "id": "alDPwKc96BzD",
        "outputId": "5753e7ee-a36b-4e8d-956c-66a4a9a8e751"
      },
      "execution_count": 89,
      "outputs": [
        {
          "output_type": "execute_result",
          "data": {
            "text/plain": [
              "(tensor([[0.0000],\n",
              "         [0.0200],\n",
              "         [0.0400],\n",
              "         [0.0600],\n",
              "         [0.0800],\n",
              "         [0.1000],\n",
              "         [0.1200],\n",
              "         [0.1400],\n",
              "         [0.1600],\n",
              "         [0.1800]]),\n",
              " tensor([[0.3000],\n",
              "         [0.3140],\n",
              "         [0.3280],\n",
              "         [0.3420],\n",
              "         [0.3560],\n",
              "         [0.3700],\n",
              "         [0.3840],\n",
              "         [0.3980],\n",
              "         [0.4120],\n",
              "         [0.4260]]))"
            ]
          },
          "metadata": {},
          "execution_count": 89
        }
      ]
    },
    {
      "cell_type": "code",
      "source": [
        "# Split data\n",
        "train_split = int(0.8 * len(X))\n",
        "X_train, y_train = X[:train_split], y[:train_split]\n",
        "X_test, y_test = X[train_split:], y[train_split:]\n",
        "\n",
        "len(X_train), len(y_train), len(X_test), len(y_test)"
      ],
      "metadata": {
        "colab": {
          "base_uri": "https://localhost:8080/"
        },
        "id": "eYh9egjK_Ib1",
        "outputId": "e66e3392-742c-4468-c651-64bc8f768a30"
      },
      "execution_count": 90,
      "outputs": [
        {
          "output_type": "execute_result",
          "data": {
            "text/plain": [
              "(40, 40, 10, 10)"
            ]
          },
          "metadata": {},
          "execution_count": 90
        }
      ]
    },
    {
      "cell_type": "code",
      "source": [
        "# Plot the data (using the plot_prediction function above)\n",
        "plot_predictions(X_train, y_train, X_test, y_test)"
      ],
      "metadata": {
        "colab": {
          "base_uri": "https://localhost:8080/",
          "height": 599
        },
        "id": "pgpDcfOq_X74",
        "outputId": "8cd5c5ee-d725-4192-993d-c746db31c602"
      },
      "execution_count": 91,
      "outputs": [
        {
          "output_type": "display_data",
          "data": {
            "text/plain": [
              "<Figure size 1000x700 with 1 Axes>"
            ],
            "image/png": "[encoded data removed]"
          },
          "metadata": {}
        }
      ]
    },
    {
      "cell_type": "markdown",
      "source": [
        "### 6.2 Building a PyTorch Linear model\n",
        "\n",
        "`torch.nn` contains the most important layers we would ever use in machine learning.\n",
        "\n",
        "`nn.Linear` performs a linear regression behind the scenes, for instance."
      ],
      "metadata": {
        "id": "1S2LC80Z_imb"
      }
    },
    {
      "cell_type": "code",
      "source": [
        "# Create a linear model by subclassing nn.Module\n",
        "class LinearRegressionModelV2(nn.Module):\n",
        "  # this time, instead of initializing the parameters, let's initialize a layer\n",
        "  def __init__(self):\n",
        "    super().__init__()\n",
        "    # Using nn.Linear() for creating the model's parameters / also called: linear transform, probing layer, fully connected layer, dense layer (in tf)\n",
        "    self.linear_layer = nn.Linear(in_features=1, # <- one feature gets in for this case\n",
        "                                  out_features=1) # <- one feature gets out for the input (which is also one in this case)\n",
        "\n",
        "  # Here we explicitly define that the x we are expecting is a torch.Tensor and -> torch.Tensor means it returns a torch.Tensor\n",
        "  def forward(self, x: torch.Tensor) -> torch.Tensor:\n",
        "    return self.linear_layer(x)\n",
        "\n",
        "# Set the manual seed\n",
        "torch.manual_seed(42)\n",
        "\n",
        "model_1 = LinearRegressionModelV2()\n",
        "model_1, model_1.state_dict()"
      ],
      "metadata": {
        "colab": {
          "base_uri": "https://localhost:8080/"
        },
        "id": "IswQkdlm_gqz",
        "outputId": "11700506-baee-4e4a-d33f-dd1d66973637"
      },
      "execution_count": 92,
      "outputs": [
        {
          "output_type": "execute_result",
          "data": {
            "text/plain": [
              "(LinearRegressionModelV2(\n",
              "   (linear_layer): Linear(in_features=1, out_features=1, bias=True)\n",
              " ),\n",
              " OrderedDict([('linear_layer.weight', tensor([[0.7645]])),\n",
              "              ('linear_layer.bias', tensor([0.8300]))]))"
            ]
          },
          "metadata": {},
          "execution_count": 92
        }
      ]
    },
    {
      "cell_type": "code",
      "source": [
        "# Check the model current device\n",
        "model_1.to(device)\n",
        "next(model_1.parameters()).device"
      ],
      "metadata": {
        "colab": {
          "base_uri": "https://localhost:8080/"
        },
        "id": "W3T3bOrQEFys",
        "outputId": "c4e75249-db89-4446-e1ff-ed9a6c423a7d"
      },
      "execution_count": 93,
      "outputs": [
        {
          "output_type": "execute_result",
          "data": {
            "text/plain": [
              "device(type='cpu')"
            ]
          },
          "metadata": {},
          "execution_count": 93
        }
      ]
    },
    {
      "cell_type": "markdown",
      "source": [
        "### 6.3 Training\n",
        "\n",
        "For training we need:\n",
        "* Loss function\n",
        "* Optimizer\n",
        "* Training Loop\n",
        "* Testing Loop"
      ],
      "metadata": {
        "id": "pJKVagsHEqEQ"
      }
    },
    {
      "cell_type": "code",
      "source": [
        "# Setup loss function\n",
        "loss_fn = nn.L1Loss()\n",
        "\n",
        "# Setup optimizer\n",
        "optimizer = torch.optim.SGD(params=model_1.parameters(),\n",
        "                            lr=0.01)"
      ],
      "metadata": {
        "id": "a575CfsTEwmt"
      },
      "execution_count": 94,
      "outputs": []
    },
    {
      "cell_type": "code",
      "source": [
        "# Let's write a training loop\n",
        "torch.manual_seed(42)\n",
        "\n",
        "epochs = 200\n",
        "\n",
        "# Device agnostic code for data\n",
        "X_train, y_train = X_train.to(device), y_train.to(device)\n",
        "X_test, y_test = X_test.to(device), y_test.to(device)\n",
        "\n",
        "for epoch in range(epochs):\n",
        "  model_1.train()\n",
        "\n",
        "  # 1. Forward pass\n",
        "  y_pred = model_1(X_train)\n",
        "\n",
        "  # 2. Compute the loss\n",
        "  loss = loss_fn(y_pred, y_train)\n",
        "\n",
        "  # 3. Optimizer zero grad\n",
        "  optimizer.zero_grad()\n",
        "\n",
        "  # 4. Perform backpropagation\n",
        "  loss.backward()\n",
        "\n",
        "  # 5. Optimizer step\n",
        "  optimizer.step()\n",
        "\n",
        "  ### Testing\n",
        "  model_1.eval()\n",
        "  with torch.inference_mode():\n",
        "    test_pred = model_1(X_test)\n",
        "    test_loss = loss_fn(test_pred, y_test)\n",
        "\n",
        "  # Print out what's happening\n",
        "  if epoch % 10 == 0:\n",
        "    print(f\"Epoch: {epoch}, Loss: {loss:.4f}, Test Loss: {test_loss:.4f}\")"
      ],
      "metadata": {
        "colab": {
          "base_uri": "https://localhost:8080/"
        },
        "id": "qoblk0bVFDph",
        "outputId": "f9891d57-c229-4827-e72d-440af47db22c"
      },
      "execution_count": 95,
      "outputs": [
        {
          "output_type": "stream",
          "name": "stdout",
          "text": [
            "Epoch: 0, Loss: 0.5552, Test Loss: 0.5740\n",
            "Epoch: 10, Loss: 0.4400, Test Loss: 0.4393\n",
            "Epoch: 20, Loss: 0.3248, Test Loss: 0.3046\n",
            "Epoch: 30, Loss: 0.2095, Test Loss: 0.1698\n",
            "Epoch: 40, Loss: 0.0943, Test Loss: 0.0351\n",
            "Epoch: 50, Loss: 0.0239, Test Loss: 0.0478\n",
            "Epoch: 60, Loss: 0.0200, Test Loss: 0.0458\n",
            "Epoch: 70, Loss: 0.0165, Test Loss: 0.0375\n",
            "Epoch: 80, Loss: 0.0131, Test Loss: 0.0299\n",
            "Epoch: 90, Loss: 0.0097, Test Loss: 0.0217\n",
            "Epoch: 100, Loss: 0.0062, Test Loss: 0.0141\n",
            "Epoch: 110, Loss: 0.0028, Test Loss: 0.0058\n",
            "Epoch: 120, Loss: 0.0013, Test Loss: 0.0138\n",
            "Epoch: 130, Loss: 0.0013, Test Loss: 0.0138\n",
            "Epoch: 140, Loss: 0.0013, Test Loss: 0.0138\n",
            "Epoch: 150, Loss: 0.0013, Test Loss: 0.0138\n",
            "Epoch: 160, Loss: 0.0013, Test Loss: 0.0138\n",
            "Epoch: 170, Loss: 0.0013, Test Loss: 0.0138\n",
            "Epoch: 180, Loss: 0.0013, Test Loss: 0.0138\n",
            "Epoch: 190, Loss: 0.0013, Test Loss: 0.0138\n"
          ]
        }
      ]
    },
    {
      "cell_type": "code",
      "source": [
        "# Let's see how the parameters updated after training\n",
        "model_1.state_dict(), weight, bias"
      ],
      "metadata": {
        "colab": {
          "base_uri": "https://localhost:8080/"
        },
        "id": "OVnj9TYzFypU",
        "outputId": "90d1e2d2-704f-429c-bea7-076e4c393204"
      },
      "execution_count": 96,
      "outputs": [
        {
          "output_type": "execute_result",
          "data": {
            "text/plain": [
              "(OrderedDict([('linear_layer.weight', tensor([[0.6968]])),\n",
              "              ('linear_layer.bias', tensor([0.3025]))]),\n",
              " 0.7,\n",
              " 0.3)"
            ]
          },
          "metadata": {},
          "execution_count": 96
        }
      ]
    },
    {
      "cell_type": "markdown",
      "source": [
        "### 6.4 Making and evaluating predictions"
      ],
      "metadata": {
        "id": "Yv6ptULLF5px"
      }
    },
    {
      "cell_type": "code",
      "source": [
        "# Turn model into evaluation mode\n",
        "model_1.eval()\n",
        "\n",
        "# Make predictions\n",
        "with torch.inference_mode():\n",
        "  y_preds = model_1(X_test)\n",
        "\n",
        "y_preds"
      ],
      "metadata": {
        "colab": {
          "base_uri": "https://localhost:8080/"
        },
        "id": "5nA1GmgoGIx1",
        "outputId": "add8de82-ac21-4322-bc21-496b58543721"
      },
      "execution_count": 97,
      "outputs": [
        {
          "output_type": "execute_result",
          "data": {
            "text/plain": [
              "tensor([[0.8600],\n",
              "        [0.8739],\n",
              "        [0.8878],\n",
              "        [0.9018],\n",
              "        [0.9157],\n",
              "        [0.9296],\n",
              "        [0.9436],\n",
              "        [0.9575],\n",
              "        [0.9714],\n",
              "        [0.9854]])"
            ]
          },
          "metadata": {},
          "execution_count": 97
        }
      ]
    },
    {
      "cell_type": "code",
      "source": [
        "# Visualize!\n",
        "plot_predictions(predictions=y_preds)"
      ],
      "metadata": {
        "colab": {
          "base_uri": "https://localhost:8080/",
          "height": 599
        },
        "id": "ACS2F2RrGSEW",
        "outputId": "53cb385f-2c95-4658-aab8-bc3b3e7c2c25"
      },
      "execution_count": 98,
      "outputs": [
        {
          "output_type": "display_data",
          "data": {
            "text/plain": [
              "<Figure size 1000x700 with 1 Axes>"
            ],
            "image/png": "[encoded data removed]"
          },
          "metadata": {}
        }
      ]
    },
    {
      "cell_type": "markdown",
      "source": [
        "### 6.5 Saving & loading a train model"
      ],
      "metadata": {
        "id": "i2mQrg95GX2o"
      }
    },
    {
      "cell_type": "code",
      "source": [
        "# Save the model\n",
        "from pathlib import Path\n",
        "\n",
        "# 1. Create a models directory\n",
        "MODEL_PATH = Path(\"models\")\n",
        "MODEL_PATH.mkdir(parents=True, exist_ok=True)\n",
        "\n",
        "# 2. Create model save path\n",
        "MODEL_NAME = \"model_1.pth\"\n",
        "MODEL_SAVE_PATH = MODEL_PATH / MODEL_NAME\n",
        "\n",
        "# 3. Save the model state dict\n",
        "print(f\"Saving model to: {MODEL_SAVE_PATH}\")\n",
        "torch.save(obj=model_1.state_dict(),\n",
        "           f=MODEL_SAVE_PATH)"
      ],
      "metadata": {
        "colab": {
          "base_uri": "https://localhost:8080/"
        },
        "id": "zcRTXeBYGgv1",
        "outputId": "ddc9e0a9-ff92-4157-d805-81360a954b99"
      },
      "execution_count": 99,
      "outputs": [
        {
          "output_type": "stream",
          "name": "stdout",
          "text": [
            "Saving model to: models/model_1.pth\n"
          ]
        }
      ]
    },
    {
      "cell_type": "code",
      "source": [
        "# Load a PyTorch model\n",
        "\n",
        "# Create a new instance of the model\n",
        "loaded_model_1 = LinearRegressionModelV2()\n",
        "loaded_model_1.state_dict()"
      ],
      "metadata": {
        "colab": {
          "base_uri": "https://localhost:8080/"
        },
        "id": "gAAqaa-AG8qC",
        "outputId": "4613b271-0d0e-4980-9f90-b82705bd60b8"
      },
      "execution_count": 100,
      "outputs": [
        {
          "output_type": "execute_result",
          "data": {
            "text/plain": [
              "OrderedDict([('linear_layer.weight', tensor([[0.7645]])),\n",
              "             ('linear_layer.bias', tensor([0.8300]))])"
            ]
          },
          "metadata": {},
          "execution_count": 100
        }
      ]
    },
    {
      "cell_type": "code",
      "source": [
        "# Load the saved model_1 state_dict\n",
        "loaded_model_1.load_state_dict(torch.load(MODEL_SAVE_PATH))\n",
        "\n",
        "# Put the model to device\n",
        "loaded_model_1.to(device)\n",
        "\n",
        "loaded_model_1.state_dict(), next(loaded_model_1.parameters()).device"
      ],
      "metadata": {
        "colab": {
          "base_uri": "https://localhost:8080/"
        },
        "id": "wVSQzJ1THae4",
        "outputId": "4875bb2e-9f77-4e07-8149-787f098953af"
      },
      "execution_count": 101,
      "outputs": [
        {
          "output_type": "execute_result",
          "data": {
            "text/plain": [
              "(OrderedDict([('linear_layer.weight', tensor([[0.6968]])),\n",
              "              ('linear_layer.bias', tensor([0.3025]))]),\n",
              " device(type='cpu'))"
            ]
          },
          "metadata": {},
          "execution_count": 101
        }
      ]
    },
    {
      "cell_type": "code",
      "source": [
        "# Evaluate loaded model\n",
        "loaded_model_1.eval()\n",
        "with torch.inference_mode():\n",
        "  loaded_model_1_preds = loaded_model_1(X_test)\n",
        "\n",
        "y_preds == loaded_model_1_preds"
      ],
      "metadata": {
        "colab": {
          "base_uri": "https://localhost:8080/"
        },
        "id": "qCVkdNvIHtmd",
        "outputId": "f8b1878e-c6bb-4472-b30b-8bff6f3c0a87"
      },
      "execution_count": 102,
      "outputs": [
        {
          "output_type": "execute_result",
          "data": {
            "text/plain": [
              "tensor([[True],\n",
              "        [True],\n",
              "        [True],\n",
              "        [True],\n",
              "        [True],\n",
              "        [True],\n",
              "        [True],\n",
              "        [True],\n",
              "        [True],\n",
              "        [True]])"
            ]
          },
          "metadata": {},
          "execution_count": 102
        }
      ]
    },
    {
      "cell_type": "markdown",
      "source": [
        "## Exercises & Extra-curriculum\n",
        "\n",
        "Check:\n",
        "* Read What is [torch.nn](https://pytorch.org/tutorials/beginner/nn_tutorial.html), really? by Jeremy Howard for a deeper understanding of how one of the most important modules in PyTorch works.\n",
        "* Spend 10-minutes scrolling through and checking out the [PyTorch documentation cheatsheet](https://pytorch.org/tutorials/beginner/ptcheat.html) for all of the different PyTorch modules you might come across.\n",
        "* Spend 10-minutes reading the [loading and saving documentation on the PyTorch website](https://pytorch.org/tutorials/beginner/saving_loading_models.html) to become more familiar with the different saving and loading options in PyTorch.\n",
        "* Spend 1-2 hours read/watching the following for an overview of the internals of gradient descent and backpropagation, the two main algorithms that have been working in the background to help our model learn.\n",
        "* [Wikipedia page for gradient descent] (https://en.wikipedia.org/wiki/Gradient_descent)\n",
        "* [Gradient Descent Algorithm — a deep dive](https://towardsdatascience.com/gradient-descent-algorithm-a-deep-dive-cf04e8115f21) by Robert Kwiatkowski\n",
        "* [Gradient descent, how neural networks learn](https://youtu.be/IHZwWFHWa-w) video by 3Blue1Brown\n",
        "* [What is backpropagation really doing?](https://youtu.be/Ilg3gGewQ5U) video by 3Blue1Brown\n",
        "* [Backpropagation Wikipedia Page](https://en.wikipedia.org/wiki/Backpropagation)"
      ],
      "metadata": {
        "id": "u5Xoeex1IZho"
      }
    },
    {
      "cell_type": "markdown",
      "source": [
        "1. Create a straight line dataset using the linear regression formula (weight * X + bias).\n",
        "Set weight=0.3 and bias=0.9 there should be at least 100 datapoints total.\n",
        "Split the data into 80% training, 20% testing.\n",
        "Plot the training and testing data so it becomes visual.\n"
      ],
      "metadata": {
        "id": "YY92nQEPr3zt"
      }
    },
    {
      "cell_type": "code",
      "source": [
        "# Device - agnostic code\n",
        "device = \"cuda\" if torch.cuda.is_available() else \"cpu\"\n",
        "print(f\"Using {device} device\")"
      ],
      "metadata": {
        "colab": {
          "base_uri": "https://localhost:8080/"
        },
        "id": "raA6HF7NyUWS",
        "outputId": "1d5ac441-b817-4a53-f36d-39acb6cf3c26"
      },
      "execution_count": 156,
      "outputs": [
        {
          "output_type": "stream",
          "name": "stdout",
          "text": [
            "Using cpu device\n"
          ]
        }
      ]
    },
    {
      "cell_type": "code",
      "source": [
        "# Create straight line dataset\n",
        "weight = 0.3\n",
        "bias = 0.9\n",
        "\n",
        "start= -20\n",
        "end = 30\n",
        "step = 0.3\n",
        "\n",
        "X = torch.arange(start, end, step).unsqueeze(dim=1)\n",
        "y = weight * X + bias\n",
        "\n",
        "X[:10], y[:10]"
      ],
      "metadata": {
        "colab": {
          "base_uri": "https://localhost:8080/"
        },
        "id": "LQdEu954r3mS",
        "outputId": "d29e34a1-1ca8-45a9-9051-86d7a8630141"
      },
      "execution_count": 157,
      "outputs": [
        {
          "output_type": "execute_result",
          "data": {
            "text/plain": [
              "(tensor([[-20.0000],\n",
              "         [-19.7000],\n",
              "         [-19.4000],\n",
              "         [-19.1000],\n",
              "         [-18.8000],\n",
              "         [-18.5000],\n",
              "         [-18.2000],\n",
              "         [-17.9000],\n",
              "         [-17.6000],\n",
              "         [-17.3000]]),\n",
              " tensor([[-5.1000],\n",
              "         [-5.0100],\n",
              "         [-4.9200],\n",
              "         [-4.8300],\n",
              "         [-4.7400],\n",
              "         [-4.6500],\n",
              "         [-4.5600],\n",
              "         [-4.4700],\n",
              "         [-4.3800],\n",
              "         [-4.2900]]))"
            ]
          },
          "metadata": {},
          "execution_count": 157
        }
      ]
    },
    {
      "cell_type": "code",
      "source": [
        "# I forgot to remove single dimensions from the X matrix and suffered a lot bacause of shape mismatching\n",
        "# X.shape, y.shape"
      ],
      "metadata": {
        "id": "oNy9zYy0xpva"
      },
      "execution_count": 158,
      "outputs": []
    },
    {
      "cell_type": "code",
      "source": [
        "# Train test split\n",
        "train_test = int(len(X) * 0.8)\n",
        "\n",
        "X_train, y_train = X[:train_test], y[:train_test]\n",
        "X_test, y_test = X[train_test:], y[train_test:]\n",
        "\n",
        "len(X_train), len(y_train), len(X_test), len(y_test)"
      ],
      "metadata": {
        "colab": {
          "base_uri": "https://localhost:8080/"
        },
        "id": "DprAy7fqH_az",
        "outputId": "08102700-27ab-4134-c6d9-a6c17176e253"
      },
      "execution_count": 159,
      "outputs": [
        {
          "output_type": "execute_result",
          "data": {
            "text/plain": [
              "(133, 133, 34, 34)"
            ]
          },
          "metadata": {},
          "execution_count": 159
        }
      ]
    },
    {
      "cell_type": "code",
      "source": [
        "plot_predictions(X_train, y_train, X_test, y_test)"
      ],
      "metadata": {
        "colab": {
          "base_uri": "https://localhost:8080/",
          "height": 599
        },
        "id": "RzHQHvWPsnWh",
        "outputId": "856aa418-8be5-478a-ad17-a68abcb3d44b"
      },
      "execution_count": 160,
      "outputs": [
        {
          "output_type": "display_data",
          "data": {
            "text/plain": [
              "<Figure size 1000x700 with 1 Axes>"
            ],
            "image/png": "[encoded data removed]"
          },
          "metadata": {}
        }
      ]
    },
    {
      "cell_type": "markdown",
      "source": [
        "2. Build a PyTorch model by subclassing nn.Module.\n",
        "\n",
        "Inside should be a randomly initialized nn.Parameter() with requires_grad=True, one for weights and one for bias.\n",
        "\n",
        "Implement the forward() method to compute the linear regression function you used to create the dataset in 1.\n",
        "\n",
        "Once you've constructed the model, make an instance of it and check its state_dict().\n",
        "\n",
        "Note: If you'd like to use nn.Linear() instead of nn.Parameter() you can."
      ],
      "metadata": {
        "id": "6zfd1_e1swq1"
      }
    },
    {
      "cell_type": "code",
      "source": [
        "class LinearRegressionExercise(nn.Module):\n",
        "  def __init__(self):\n",
        "    super().__init__()\n",
        "    self.linear_layer = nn.Linear(in_features=1,\n",
        "                                  out_features=1)\n",
        "\n",
        "  def forward(self, x: torch.Tensor) -> torch.Tensor:\n",
        "    return self.linear_layer(x)\n",
        "\n",
        "class LinearRegressionNoNNLinear(nn.Module):\n",
        "  def __init__(self):\n",
        "    super().__init__()\n",
        "    self.weight = nn.Parameter(torch.rand(1,\n",
        "                                          requires_grad=True,\n",
        "                                          dtype=torch.float))\n",
        "    self.bias = nn.Parameter(torch.rand(1,\n",
        "                                        requires_grad=True,\n",
        "                                        dtype=torch.float))\n",
        "\n",
        "  def forward(self, x):\n",
        "    return self.weight * x + self.bias"
      ],
      "metadata": {
        "id": "2f6qoYNIssWs"
      },
      "execution_count": 161,
      "outputs": []
    },
    {
      "cell_type": "markdown",
      "source": [
        "3. Create a loss function and optimizer using nn.L1Loss() and torch.optim.SGD(params, lr) respectively.\n",
        "\n",
        "Set the learning rate of the optimizer to be 0.01 and the parameters to optimize should be the model parameters from the model you created in 2.\n",
        "\n",
        "Write a training loop to perform the appropriate training steps for 300 epochs.\n",
        "\n",
        "The training loop should test the model on the test dataset every 20 epochs."
      ],
      "metadata": {
        "id": "CheWj3Ajt7y6"
      }
    },
    {
      "cell_type": "code",
      "source": [
        "torch.manual_seed(42)\n",
        "\n",
        "linear_layer_rm = LinearRegressionExercise()\n",
        "parameters_rm = LinearRegressionNoNNLinear()\n",
        "\n",
        "# Move models to device\n",
        "linear_layer_rm.to(device)\n",
        "parameters_rm.to(device)\n",
        "\n",
        "loss_fn = nn.L1Loss()\n",
        "optimizer_ll = torch.optim.SGD(linear_layer_rm.parameters(), lr=0.01)\n",
        "optimizer_param = torch.optim.SGD(parameters_rm.parameters(), lr=0.01)\n",
        "\n",
        "linear_layer_rm.state_dict(), parameters_rm.state_dict()"
      ],
      "metadata": {
        "colab": {
          "base_uri": "https://localhost:8080/"
        },
        "id": "VP0Ywp6ytDnf",
        "outputId": "546c89d0-c9bd-46bf-beca-bf96a75bd150"
      },
      "execution_count": 162,
      "outputs": [
        {
          "output_type": "execute_result",
          "data": {
            "text/plain": [
              "(OrderedDict([('linear_layer.weight', tensor([[0.7645]])),\n",
              "              ('linear_layer.bias', tensor([0.8300]))]),\n",
              " OrderedDict([('weight', tensor([0.3829])), ('bias', tensor([0.9593]))]))"
            ]
          },
          "metadata": {},
          "execution_count": 162
        }
      ]
    },
    {
      "cell_type": "code",
      "source": [
        "### Training\n",
        "epochs = 300\n",
        "\n",
        "# logs\n",
        "train_loss_values_ll = []\n",
        "test_loss_values_ll = []\n",
        "\n",
        "train_loss_values = []\n",
        "test_loss_values = []\\\n",
        "\n",
        "# Device - agnostic data\n",
        "X_train, y_train = X_train.to(device), y_train.to(device)\n",
        "X_test, y_test = X_test.to(device), y_test.to(device)\n",
        "\n",
        "for epoch in range(epochs):\n",
        "  linear_layer_rm.train()\n",
        "  parameters_rm.train()\n",
        "\n",
        "  # Forward Pass\n",
        "  ll_preds = linear_layer_rm(X_train)\n",
        "  pram_preds = parameters_rm(X_train)\n",
        "\n",
        "  # Loss\n",
        "  ll_loss = loss_fn(ll_preds, y_train)\n",
        "  pram_loss = loss_fn(pram_preds, y_train)\n",
        "\n",
        "  # Optimizer zero grad\n",
        "  optimizer_ll.zero_grad()\n",
        "  optimizer_param.zero_grad()\n",
        "\n",
        "  # Backpropagate\n",
        "  ll_loss.backward()\n",
        "  pram_loss.backward()\n",
        "\n",
        "  # Optimizer step\n",
        "  optimizer_ll.step()\n",
        "  optimizer_param.step()\n",
        "\n",
        "  ### Testing\n",
        "  linear_layer_rm.eval()\n",
        "  parameters_rm.eval()\n",
        "  with torch.inference_mode():\n",
        "    ll_preds_test = linear_layer_rm(X_test)\n",
        "    pram_preds_test = parameters_rm(X_test)\n",
        "\n",
        "    loss_ll_test = loss_fn(ll_preds_test, y_test)\n",
        "    loss_pram_test = loss_fn(pram_preds_test, y_test)\n",
        "\n",
        "  # Logs\n",
        "  train_loss_values_ll.append(ll_loss.item())\n",
        "  test_loss_values_ll.append(loss_ll_test.item())\n",
        "\n",
        "  train_loss_values.append(pram_loss.item())\n",
        "  test_loss_values.append(loss_pram_test.item())\n",
        "\n",
        "  # Prints\n",
        "  if epoch % 20 == 0:\n",
        "    print(f'Linear Layer inititialized model')\n",
        "    print(f'Epoch: {epoch} | Train Loss: {ll_loss.item():.4f} | Test Loss: {loss_ll_test.item():.4f}')\n",
        "    print(f'Parameters initialized model')\n",
        "    print(f'Epoch: {epoch} | Train Loss: {pram_loss.item():.4f} | Test Loss: {loss_pram_test.item():.4f}')"
      ],
      "metadata": {
        "colab": {
          "base_uri": "https://localhost:8080/"
        },
        "id": "ova_EbcvuqQN",
        "outputId": "2dfb0e61-b283-499c-a25c-568c1ca2111f"
      },
      "execution_count": 163,
      "outputs": [
        {
          "output_type": "stream",
          "name": "stdout",
          "text": [
            "Linear Layer inititialized model\n",
            "Epoch: 0 | Train Loss: 4.6351 | Test Loss: 8.9954\n",
            "Parameters initialized model\n",
            "Epoch: 0 | Train Loss: 0.8271 | Test Loss: 0.3582\n",
            "Linear Layer inititialized model\n",
            "Epoch: 20 | Train Loss: 0.6132 | Test Loss: 1.0091\n",
            "Parameters initialized model\n",
            "Epoch: 20 | Train Loss: 0.7036 | Test Loss: 0.6798\n",
            "Linear Layer inititialized model\n",
            "Epoch: 40 | Train Loss: 0.5854 | Test Loss: 1.0662\n",
            "Parameters initialized model\n",
            "Epoch: 40 | Train Loss: 0.6712 | Test Loss: 0.7699\n",
            "Linear Layer inititialized model\n",
            "Epoch: 60 | Train Loss: 0.5757 | Test Loss: 1.0834\n",
            "Parameters initialized model\n",
            "Epoch: 60 | Train Loss: 0.6531 | Test Loss: 0.8232\n",
            "Linear Layer inititialized model\n",
            "Epoch: 80 | Train Loss: 0.5664 | Test Loss: 1.0990\n",
            "Parameters initialized model\n",
            "Epoch: 80 | Train Loss: 0.6412 | Test Loss: 0.8583\n",
            "Linear Layer inititialized model\n",
            "Epoch: 100 | Train Loss: 0.5632 | Test Loss: 1.1005\n",
            "Parameters initialized model\n",
            "Epoch: 100 | Train Loss: 0.6367 | Test Loss: 0.8740\n",
            "Linear Layer inititialized model\n",
            "Epoch: 120 | Train Loss: 0.5601 | Test Loss: 1.1049\n",
            "Parameters initialized model\n",
            "Epoch: 120 | Train Loss: 0.6327 | Test Loss: 0.8881\n",
            "Linear Layer inititialized model\n",
            "Epoch: 140 | Train Loss: 0.5585 | Test Loss: 1.1057\n",
            "Parameters initialized model\n",
            "Epoch: 140 | Train Loss: 0.6324 | Test Loss: 0.8916\n",
            "Linear Layer inititialized model\n",
            "Epoch: 160 | Train Loss: 0.5569 | Test Loss: 1.1064\n",
            "Parameters initialized model\n",
            "Epoch: 160 | Train Loss: 0.6309 | Test Loss: 0.8968\n",
            "Linear Layer inititialized model\n",
            "Epoch: 180 | Train Loss: 0.5554 | Test Loss: 1.1071\n",
            "Parameters initialized model\n",
            "Epoch: 180 | Train Loss: 0.6294 | Test Loss: 0.9020\n",
            "Linear Layer inititialized model\n",
            "Epoch: 200 | Train Loss: 0.5541 | Test Loss: 1.1072\n",
            "Parameters initialized model\n",
            "Epoch: 200 | Train Loss: 0.6280 | Test Loss: 0.9073\n",
            "Linear Layer inititialized model\n",
            "Epoch: 220 | Train Loss: 0.5556 | Test Loss: 1.1020\n",
            "Parameters initialized model\n",
            "Epoch: 220 | Train Loss: 0.6265 | Test Loss: 0.9125\n",
            "Linear Layer inititialized model\n",
            "Epoch: 240 | Train Loss: 0.5570 | Test Loss: 1.0968\n",
            "Parameters initialized model\n",
            "Epoch: 240 | Train Loss: 0.6250 | Test Loss: 0.9178\n",
            "Linear Layer inititialized model\n",
            "Epoch: 260 | Train Loss: 0.5573 | Test Loss: 1.0962\n",
            "Parameters initialized model\n",
            "Epoch: 260 | Train Loss: 0.6242 | Test Loss: 0.9204\n",
            "Linear Layer inititialized model\n",
            "Epoch: 280 | Train Loss: 0.5573 | Test Loss: 1.0962\n",
            "Parameters initialized model\n",
            "Epoch: 280 | Train Loss: 0.6242 | Test Loss: 0.9204\n"
          ]
        }
      ]
    },
    {
      "cell_type": "markdown",
      "source": [
        "4. Make predictions with the trained model on the test data.\n",
        "\n",
        "Visualize these predictions against the original training and testing data (note: you may need to make sure the predictions are not on the GPU if you want to use non-CUDA-enabled libraries such as matplotlib to plot)."
      ],
      "metadata": {
        "id": "5wSR5ITGyPVr"
      }
    },
    {
      "cell_type": "code",
      "source": [
        "with torch.inference_mode():\n",
        "  ll_preds_test = linear_layer_rm(X_test)\n",
        "  pram_preds_test = parameters_rm(X_test)\n",
        "\n",
        "print(\"Linear Layer\")\n",
        "plot_predictions(X_train, y_train, X_test, y_test, ll_preds_test)\n",
        "print(\"Parameters\")\n",
        "plot_predictions(X_train, y_train, X_test, y_test, pram_preds_test)"
      ],
      "metadata": {
        "colab": {
          "base_uri": "https://localhost:8080/",
          "height": 1000
        },
        "id": "NTbpr46Audz8",
        "outputId": "6a8dee33-717f-41de-9125-149a2abe9168"
      },
      "execution_count": 166,
      "outputs": [
        {
          "output_type": "stream",
          "name": "stdout",
          "text": [
            "Linear Layer\n",
            "Parameters\n"
          ]
        },
        {
          "output_type": "display_data",
          "data": {
            "text/plain": [
              "<Figure size 1000x700 with 1 Axes>"
            ],
            "image/png": "[encoded data removed]"
          },
          "metadata": {}
        },
        {
          "output_type": "display_data",
          "data": {
            "text/plain": [
              "<Figure size 1000x700 with 1 Axes>"
            ],
            "image/png": "[encoded data removed]"
          },
          "metadata": {}
        }
      ]
    },
    {
      "cell_type": "markdown",
      "source": [
        "5. Save your trained model's state_dict() to file.\n",
        "\n",
        "Create a new instance of your model class you made in 2. and load in the state_dict() you just saved to it.\n",
        "\n",
        "Perform predictions on your test data with the loaded model and confirm they match the original model predictions from 4."
      ],
      "metadata": {
        "id": "yEuhVEAezXc2"
      }
    },
    {
      "cell_type": "code",
      "source": [
        "# Save the model\n",
        "torch.save(linear_layer_rm.state_dict(), \"linear_layer_rm.pth\")\n",
        "torch.save(parameters_rm.state_dict(), \"parameters_rm.pth\")\n",
        "\n",
        "# Load the model\n",
        "linear_layer_rm = LinearRegressionExercise()\n",
        "parameters_rm = LinearRegressionNoNNLinear()\n",
        "\n",
        "linear_layer_rm.load_state_dict(torch.load(\"linear_layer_rm.pth\"))\n",
        "parameters_rm.load_state_dict(torch.load(\"parameters_rm.pth\"))"
      ],
      "metadata": {
        "id": "4q2ULutDy2v_"
      },
      "execution_count": null,
      "outputs": []
    }
  ]
}