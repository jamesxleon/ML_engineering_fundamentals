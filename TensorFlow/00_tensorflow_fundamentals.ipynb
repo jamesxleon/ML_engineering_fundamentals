{
  "nbformat": 4,
  "nbformat_minor": 0,
  "metadata": {
    "colab": {
      "provenance": []
    },
    "kernelspec": {
      "name": "python3",
      "display_name": "Python 3"
    },
    "language_info": {
      "name": "python"
    }
  },
  "cells": [
    {
      "cell_type": "code",
      "source": [
        "! git clone https://github.com/jamesxleon/TensorFlow_fundamentals.git"
      ],
      "metadata": {
        "colab": {
          "base_uri": "https://localhost:8080/"
        },
        "id": "ohYbXMhGj8CK",
        "outputId": "35c1637e-df37-4aaa-8f04-3f9a5cc69d27"
      },
      "execution_count": 7,
      "outputs": [
        {
          "output_type": "stream",
          "name": "stdout",
          "text": [
            "Cloning into 'TensorFlow_fundamentals'...\n",
            "remote: Enumerating objects: 7, done.\u001b[K\n",
            "remote: Counting objects: 100% (7/7), done.\u001b[K\n",
            "remote: Compressing objects: 100% (7/7), done.\u001b[K\n",
            "remote: Total 7 (delta 1), reused 0 (delta 0), pack-reused 0\u001b[K\n",
            "Receiving objects: 100% (7/7), 4.15 KiB | 1.04 MiB/s, done.\n",
            "Resolving deltas: 100% (1/1), done.\n"
          ]
        }
      ]
    },
    {
      "cell_type": "code",
      "source": [
        "%cd  TensorFlow_fundamentals"
      ],
      "metadata": {
        "colab": {
          "base_uri": "https://localhost:8080/"
        },
        "id": "-C_G_pDvkEuM",
        "outputId": "880bc89d-9a46-4f88-fe9e-fdcc7b5e6ed7"
      },
      "execution_count": 9,
      "outputs": [
        {
          "output_type": "stream",
          "name": "stdout",
          "text": [
            "/content/TensorFlow_fundamentals\n"
          ]
        }
      ]
    },
    {
      "cell_type": "markdown",
      "source": [
        "In this notebook we are going to cover some of the most fundamental concepts of tensors using TensorFlow\n",
        "\n",
        "More specifically, we are foing to cover:\n",
        "* Intro to tensors\n",
        "* Getting info from tensors\n",
        "* Manipulating tensors\n",
        "* Tensors & Numpy\n",
        "* Using @tf.function (to speed up regular Python functions)\n",
        "* Using GPUs (or TPUs) with tensorFlow\n",
        "* Exercises to try!"
      ],
      "metadata": {
        "id": "3KHdWM81yfGb"
      }
    },
    {
      "cell_type": "markdown",
      "source": [
        "## Intro to tensors"
      ],
      "metadata": {
        "id": "QXMCKZRMPh1H"
      }
    },
    {
      "cell_type": "code",
      "source": [
        "# Import tensorflow\n",
        "import tensorflow as tf\n",
        "print(tf.__version__)"
      ],
      "metadata": {
        "colab": {
          "base_uri": "https://localhost:8080/"
        },
        "id": "FvclarWMzLae",
        "outputId": "820cdd7a-4527-413f-fda8-926a25e97018"
      },
      "execution_count": 2,
      "outputs": [
        {
          "output_type": "stream",
          "name": "stdout",
          "text": [
            "2.13.0\n"
          ]
        }
      ]
    },
    {
      "cell_type": "code",
      "source": [
        "# Create tensors with tf.constant()\n",
        "scalar = tf.constant(7)\n",
        "scalar"
      ],
      "metadata": {
        "colab": {
          "base_uri": "https://localhost:8080/"
        },
        "id": "P4bvk1DizYdN",
        "outputId": "a8e71be8-ed4f-45d1-93e2-2a37f5282663"
      },
      "execution_count": 4,
      "outputs": [
        {
          "output_type": "execute_result",
          "data": {
            "text/plain": [
              "<tf.Tensor: shape=(), dtype=int32, numpy=7>"
            ]
          },
          "metadata": {},
          "execution_count": 4
        }
      ]
    },
    {
      "cell_type": "code",
      "source": [
        "# Check the dimensions of a tensor (ndim stands for number of dimensions)\n",
        "scalar.ndim"
      ],
      "metadata": {
        "colab": {
          "base_uri": "https://localhost:8080/"
        },
        "id": "1opMFygHz0vN",
        "outputId": "8c8ec4e7-65b9-4bd7-dc4f-8262d210d1f7"
      },
      "execution_count": 5,
      "outputs": [
        {
          "output_type": "execute_result",
          "data": {
            "text/plain": [
              "0"
            ]
          },
          "metadata": {},
          "execution_count": 5
        }
      ]
    },
    {
      "cell_type": "code",
      "source": [
        "#Create a vector\n",
        "vector = tf.constant([10,10])\n",
        "vector"
      ],
      "metadata": {
        "colab": {
          "base_uri": "https://localhost:8080/"
        },
        "id": "S8b6cKOS0DxB",
        "outputId": "2e72db2c-9efd-45bc-fdc9-46a4be792db2"
      },
      "execution_count": 6,
      "outputs": [
        {
          "output_type": "execute_result",
          "data": {
            "text/plain": [
              "<tf.Tensor: shape=(2,), dtype=int32, numpy=array([10, 10], dtype=int32)>"
            ]
          },
          "metadata": {},
          "execution_count": 6
        }
      ]
    },
    {
      "cell_type": "code",
      "source": [
        "# Check d of v\n",
        "vector.ndim"
      ],
      "metadata": {
        "colab": {
          "base_uri": "https://localhost:8080/"
        },
        "id": "E_pr2TDR0Ib_",
        "outputId": "b31ca703-77b7-4a4b-fdd4-c4c13d75bb0e"
      },
      "execution_count": 7,
      "outputs": [
        {
          "output_type": "execute_result",
          "data": {
            "text/plain": [
              "1"
            ]
          },
          "metadata": {},
          "execution_count": 7
        }
      ]
    },
    {
      "cell_type": "code",
      "source": [
        "# Create a matrix (More than 1D)\n",
        "matrix = tf.constant([[10,7],\n",
        "                     [7,10]])\n",
        "matrix"
      ],
      "metadata": {
        "colab": {
          "base_uri": "https://localhost:8080/"
        },
        "id": "s3I0bBIO0Lpt",
        "outputId": "affbe7df-37d6-43eb-fde2-304ce2522e53"
      },
      "execution_count": 9,
      "outputs": [
        {
          "output_type": "execute_result",
          "data": {
            "text/plain": [
              "<tf.Tensor: shape=(2, 2), dtype=int32, numpy=\n",
              "array([[10,  7],\n",
              "       [ 7, 10]], dtype=int32)>"
            ]
          },
          "metadata": {},
          "execution_count": 9
        }
      ]
    },
    {
      "cell_type": "code",
      "source": [
        "matrix.ndim"
      ],
      "metadata": {
        "colab": {
          "base_uri": "https://localhost:8080/"
        },
        "id": "QLt2OTEM0Skd",
        "outputId": "590de80c-eec9-46c7-9b3e-fda02c9a1cc5"
      },
      "execution_count": 10,
      "outputs": [
        {
          "output_type": "execute_result",
          "data": {
            "text/plain": [
              "2"
            ]
          },
          "metadata": {},
          "execution_count": 10
        }
      ]
    },
    {
      "cell_type": "code",
      "source": [
        "# Create another matrix\n",
        "another_matrix = tf.constant([\n",
        "    [10., 7.0],\n",
        "    [3., 2.],\n",
        "    [8., 9.]\n",
        "], dtype = tf.float16) # specify the data type with dtype parameter. default is 32bit precision (more exact). 16bit takes less space\n",
        "\n",
        "another_matrix"
      ],
      "metadata": {
        "colab": {
          "base_uri": "https://localhost:8080/"
        },
        "id": "PvdGS45C0WQh",
        "outputId": "5384e35f-124c-4b31-cced-81b9d4727284"
      },
      "execution_count": 12,
      "outputs": [
        {
          "output_type": "execute_result",
          "data": {
            "text/plain": [
              "<tf.Tensor: shape=(3, 2), dtype=float16, numpy=\n",
              "array([[10.,  7.],\n",
              "       [ 3.,  2.],\n",
              "       [ 8.,  9.]], dtype=float16)>"
            ]
          },
          "metadata": {},
          "execution_count": 12
        }
      ]
    },
    {
      "cell_type": "code",
      "source": [
        "# The number of dimensions?\n",
        "another_matrix.ndim #still 2 because the dimensions are the number of values inside the shape"
      ],
      "metadata": {
        "colab": {
          "base_uri": "https://localhost:8080/"
        },
        "id": "pWr0xpFf5r0j",
        "outputId": "faa6c009-26a9-42a5-b091-cf9835b853ef"
      },
      "execution_count": 14,
      "outputs": [
        {
          "output_type": "execute_result",
          "data": {
            "text/plain": [
              "2"
            ]
          },
          "metadata": {},
          "execution_count": 14
        }
      ]
    },
    {
      "cell_type": "code",
      "source": [
        "# Let's create a tensor\n",
        "tensor = tf.constant([\n",
        "    [[1, 2, 3], [4, 5, 6]],\n",
        "    [[7, 8, 9], [10, 11, 12]],\n",
        "    [[13, 14, 15], [16, 17, 18]]\n",
        "])\n",
        "\n",
        "tensor"
      ],
      "metadata": {
        "colab": {
          "base_uri": "https://localhost:8080/"
        },
        "id": "cE9oOSe-56Ww",
        "outputId": "ec274579-f88f-45d6-d3f7-52ebced401c5"
      },
      "execution_count": 15,
      "outputs": [
        {
          "output_type": "execute_result",
          "data": {
            "text/plain": [
              "<tf.Tensor: shape=(3, 2, 3), dtype=int32, numpy=\n",
              "array([[[ 1,  2,  3],\n",
              "        [ 4,  5,  6]],\n",
              "\n",
              "       [[ 7,  8,  9],\n",
              "        [10, 11, 12]],\n",
              "\n",
              "       [[13, 14, 15],\n",
              "        [16, 17, 18]]], dtype=int32)>"
            ]
          },
          "metadata": {},
          "execution_count": 15
        }
      ]
    },
    {
      "cell_type": "code",
      "source": [
        "# Now we have 3 elements in the shape, so it's logical to have a 3 dimension shape\n",
        "tensor.ndim\n",
        "\n",
        "# Matrix and tensors will be used as interchangeable terms throughout the course"
      ],
      "metadata": {
        "colab": {
          "base_uri": "https://localhost:8080/"
        },
        "id": "_f7Vmvyt6TLP",
        "outputId": "345bc709-9b02-48c4-d3ba-c6e87cd9a372"
      },
      "execution_count": 17,
      "outputs": [
        {
          "output_type": "execute_result",
          "data": {
            "text/plain": [
              "3"
            ]
          },
          "metadata": {},
          "execution_count": 17
        }
      ]
    },
    {
      "cell_type": "markdown",
      "source": [
        "What we've created so far:\n",
        "- Scalar: a single number\n",
        "- Vector: a number with direction (e.g. wind speed and direction)\n",
        "- Matrix: a 2 dimensional array of numbers\n",
        "- Tensor: an n-dimensional array of numbers (where n can be any number, a 0-dimensional tensor is a scalar, a 1-dimensional tensor is a vector)"
      ],
      "metadata": {
        "id": "0SvD_Gng6hUI"
      }
    },
    {
      "cell_type": "markdown",
      "source": [
        "### Creating tensors with tf.Variable"
      ],
      "metadata": {
        "id": "pjCOcFIciBsX"
      }
    },
    {
      "cell_type": "code",
      "source": [
        "# Let's check tf.variable() now\n",
        "# Create the same tensor with tf.Variable as above which will be a variable tensor\n",
        "changeable_tensor = tf.Variable([10,7])\n",
        "unchangeable_tensor = tf.constant([10,7])\n",
        "changeable_tensor, unchangeable_tensor"
      ],
      "metadata": {
        "colab": {
          "base_uri": "https://localhost:8080/"
        },
        "id": "Rm7Dvqfg7FzG",
        "outputId": "b50293e6-6504-479e-a297-5ec279be62fc"
      },
      "execution_count": 5,
      "outputs": [
        {
          "output_type": "execute_result",
          "data": {
            "text/plain": [
              "(<tf.Variable 'Variable:0' shape=(2,) dtype=int32, numpy=array([10,  7], dtype=int32)>,\n",
              " <tf.Tensor: shape=(2,), dtype=int32, numpy=array([10,  7], dtype=int32)>)"
            ]
          },
          "metadata": {},
          "execution_count": 5
        }
      ]
    },
    {
      "cell_type": "code",
      "source": [
        "# Let's try change one of the elements in out changeable tensor\n",
        "changeable_tensor[0] #indexing to 0"
      ],
      "metadata": {
        "colab": {
          "base_uri": "https://localhost:8080/"
        },
        "id": "1yvNp52NiamV",
        "outputId": "2180ce22-cbfc-4f33-83c4-305914be5ff2"
      },
      "execution_count": 11,
      "outputs": [
        {
          "output_type": "execute_result",
          "data": {
            "text/plain": [
              "<tf.Tensor: shape=(), dtype=int32, numpy=10>"
            ]
          },
          "metadata": {},
          "execution_count": 11
        }
      ]
    },
    {
      "cell_type": "code",
      "source": [
        "changeable_tensor[0] = 7 # This not supports item assignment, so this is wrong"
      ],
      "metadata": {
        "colab": {
          "base_uri": "https://localhost:8080/",
          "height": 181
        },
        "id": "515mXY3fi44J",
        "outputId": "d351bbae-cd5d-49fa-e7bf-3e5b46666993"
      },
      "execution_count": 12,
      "outputs": [
        {
          "output_type": "error",
          "ename": "TypeError",
          "evalue": "ignored",
          "traceback": [
            "\u001b[0;31m---------------------------------------------------------------------------\u001b[0m",
            "\u001b[0;31mTypeError\u001b[0m                                 Traceback (most recent call last)",
            "\u001b[0;32m<ipython-input-12-fb289cfcfddb>\u001b[0m in \u001b[0;36m<cell line: 1>\u001b[0;34m()\u001b[0m\n\u001b[0;32m----> 1\u001b[0;31m \u001b[0mchangeable_tensor\u001b[0m\u001b[0;34m[\u001b[0m\u001b[0;36m0\u001b[0m\u001b[0;34m]\u001b[0m \u001b[0;34m=\u001b[0m \u001b[0;36m7\u001b[0m \u001b[0;31m# This not supports item assignment, so this is wrong\u001b[0m\u001b[0;34m\u001b[0m\u001b[0;34m\u001b[0m\u001b[0m\n\u001b[0m",
            "\u001b[0;31mTypeError\u001b[0m: 'ResourceVariable' object does not support item assignment"
          ]
        }
      ]
    },
    {
      "cell_type": "code",
      "source": [
        "# So lets try .assign()\n",
        "changeable_tensor[0].assign(7)\n",
        "changeable_tensor # It works now!"
      ],
      "metadata": {
        "colab": {
          "base_uri": "https://localhost:8080/"
        },
        "id": "cJkGTnPDkbsV",
        "outputId": "7b267f75-d4ad-400c-c5e1-eeb9f6a941fe"
      },
      "execution_count": 13,
      "outputs": [
        {
          "output_type": "execute_result",
          "data": {
            "text/plain": [
              "<tf.Variable 'Variable:0' shape=(2,) dtype=int32, numpy=array([7, 7], dtype=int32)>"
            ]
          },
          "metadata": {},
          "execution_count": 13
        }
      ]
    },
    {
      "cell_type": "code",
      "source": [
        "# Let's try to change a constant tensor\n",
        "#unchangeable_tensor_[0] = 7 # It doesn't support item assignment either\n",
        "#unchangeable_tensor[0].assing() # There is not assign method for constant tensors"
      ],
      "metadata": {
        "id": "lRvMbQBlkldQ"
      },
      "execution_count": 14,
      "outputs": []
    },
    {
      "cell_type": "markdown",
      "source": [
        "> 🔑  This is a demonstration of how we might want to have tensors that change or that don't depending on the context we are working in. A lot of times we won't have to decide on this as TensorFlow most times creates the tensors for our neural networks. However, if in doubt, use tf.constant and change it later if needed\n",
        "\n",
        "### Creating random tensors\n",
        "\n",
        "Random tensors are tensors of some arbitrary size which contain random numbers"
      ],
      "metadata": {
        "id": "BOU5fqIzk9mC"
      }
    },
    {
      "cell_type": "code",
      "source": [
        "# Create two random (but the same) tensors\n",
        "random_1 = tf.random.Generator.from_seed(42) # set seed for reproducibility\n",
        "random_1 = random_1.normal(shape=(3,2)) # Our tensor should be 2 dimensional\n",
        "\n",
        "# random.uniform generates numbers from an uniform distribution which is a distribution that has constant probability\n",
        "# So what is random.normal? outputs random values from a normal distribution\n",
        "# A normal distribution is a distribution that represents many variables as a symmetrical bell-shaped graph\n",
        "\n",
        "random_2 = tf.random.Generator.from_seed(42)\n",
        "random_2 = random_2.normal(shape=(3,2))\n",
        "\n",
        "#Are they equal?\n",
        "random_1, random_2, random_1 == random_1"
      ],
      "metadata": {
        "colab": {
          "base_uri": "https://localhost:8080/"
        },
        "id": "P3fiq8w1ljmj",
        "outputId": "6bc4b089-5817-472f-b11f-0400d761a7bf"
      },
      "execution_count": 21,
      "outputs": [
        {
          "output_type": "execute_result",
          "data": {
            "text/plain": [
              "(<tf.Tensor: shape=(3, 2), dtype=float32, numpy=\n",
              " array([[-0.7565803 , -0.06854702],\n",
              "        [ 0.07595026, -1.2573844 ],\n",
              "        [-0.23193763, -1.8107855 ]], dtype=float32)>,\n",
              " <tf.Tensor: shape=(3, 2), dtype=float32, numpy=\n",
              " array([[-0.7565803 , -0.06854702],\n",
              "        [ 0.07595026, -1.2573844 ],\n",
              "        [-0.23193763, -1.8107855 ]], dtype=float32)>,\n",
              " <tf.Tensor: shape=(3, 2), dtype=bool, numpy=\n",
              " array([[ True,  True],\n",
              "        [ True,  True],\n",
              "        [ True,  True]])>)"
            ]
          },
          "metadata": {},
          "execution_count": 21
        }
      ]
    },
    {
      "cell_type": "code",
      "source": [
        "### I'll try an uniform random tensor now\n",
        "random_uniform = tf.random.Generator.from_seed(3)\n",
        "random_uniform = random_uniform.uniform(shape=(3,2))\n",
        "random_uniform"
      ],
      "metadata": {
        "colab": {
          "base_uri": "https://localhost:8080/"
        },
        "id": "KGlrCbYzrbF3",
        "outputId": "b9b884d1-79f5-4339-9818-d4fd685da587"
      },
      "execution_count": 23,
      "outputs": [
        {
          "output_type": "execute_result",
          "data": {
            "text/plain": [
              "<tf.Tensor: shape=(3, 2), dtype=float32, numpy=\n",
              "array([[0.13229859, 0.5348098 ],\n",
              "       [0.57090175, 0.50970507],\n",
              "       [0.48252344, 0.15580535]], dtype=float32)>"
            ]
          },
          "metadata": {},
          "execution_count": 23
        }
      ]
    },
    {
      "cell_type": "markdown",
      "source": [
        "### What if we want to shuffle the order?\n",
        "\n",
        "Let's say we are working on an image classification problema and the first 10k images are from a class and the last 5k are from the other. This order might affect what our model learns, lying towards the class with the most appeareances on the first phases of the training while ignoring the last ones. That's why we need to shuffle this values to learn both at the same time."
      ],
      "metadata": {
        "id": "Vhh_G3_5p4ed"
      }
    },
    {
      "cell_type": "code",
      "source": [
        "# Shuffle a tensor (valuable for when you want to shuffle your data so the inherent order doesn't affect learning)\n",
        "not_shuffled = tf.constant([\n",
        "    [10,7],\n",
        "    [3,4],\n",
        "    [2,5]\n",
        "    ])\n",
        "\n",
        "# What is the dimension?\n",
        "not_shuffled.ndim"
      ],
      "metadata": {
        "colab": {
          "base_uri": "https://localhost:8080/"
        },
        "id": "CfisadUyrrms",
        "outputId": "33601ce8-ae6d-4878-f6d2-b00c0a9698cf"
      },
      "execution_count": 24,
      "outputs": [
        {
          "output_type": "execute_result",
          "data": {
            "text/plain": [
              "2"
            ]
          },
          "metadata": {},
          "execution_count": 24
        }
      ]
    },
    {
      "cell_type": "code",
      "source": [
        "# Shuffle the not_shuffled tensor\n",
        "tf.random.shuffle(not_shuffled)"
      ],
      "metadata": {
        "colab": {
          "base_uri": "https://localhost:8080/"
        },
        "id": "Ju26RDA9saYS",
        "outputId": "c9d7d84b-2448-4bff-b665-eec86edf4589"
      },
      "execution_count": 27,
      "outputs": [
        {
          "output_type": "execute_result",
          "data": {
            "text/plain": [
              "<tf.Tensor: shape=(3, 2), dtype=int32, numpy=\n",
              "array([[ 3,  4],\n",
              "       [10,  7],\n",
              "       [ 2,  5]], dtype=int32)>"
            ]
          },
          "metadata": {},
          "execution_count": 27
        }
      ]
    },
    {
      "cell_type": "code",
      "source": [
        "# Let's shuffle again to notice how the order changes every run if there is no seed\n",
        "tf.random.shuffle(not_shuffled)"
      ],
      "metadata": {
        "colab": {
          "base_uri": "https://localhost:8080/"
        },
        "id": "jNdk5HtXsy0h",
        "outputId": "13d3f93e-69e3-4ce4-e3ab-4ff5eed07490"
      },
      "execution_count": 28,
      "outputs": [
        {
          "output_type": "execute_result",
          "data": {
            "text/plain": [
              "<tf.Tensor: shape=(3, 2), dtype=int32, numpy=\n",
              "array([[10,  7],\n",
              "       [ 3,  4],\n",
              "       [ 2,  5]], dtype=int32)>"
            ]
          },
          "metadata": {},
          "execution_count": 28
        }
      ]
    },
    {
      "cell_type": "code",
      "source": [
        "# Shuffle the not_shuffled tensor using a seed\n",
        "tf.random.shuffle(not_shuffled, seed=42)\n",
        "# Still get different results!!!"
      ],
      "metadata": {
        "colab": {
          "base_uri": "https://localhost:8080/"
        },
        "id": "hzVSrVLptJts",
        "outputId": "014a7412-bc2b-4573-a519-ce383420a477"
      },
      "execution_count": 39,
      "outputs": [
        {
          "output_type": "execute_result",
          "data": {
            "text/plain": [
              "<tf.Tensor: shape=(3, 2), dtype=int32, numpy=\n",
              "array([[ 3,  4],\n",
              "       [ 2,  5],\n",
              "       [10,  7]], dtype=int32)>"
            ]
          },
          "metadata": {},
          "execution_count": 39
        }
      ]
    },
    {
      "cell_type": "code",
      "source": [
        "# So how to use a seed?\n",
        "tf.random.set_seed(42) # Global seed\n",
        "tf.random.shuffle(not_shuffled, seed=42) # Operation level seed\n",
        "\n",
        "# Now we get the same result! But why?\n",
        "# Random seeds rely on two types of seed: global level and operation level seeds"
      ],
      "metadata": {
        "colab": {
          "base_uri": "https://localhost:8080/"
        },
        "id": "WdIkNnbbtLp3",
        "outputId": "d818036e-955d-482e-879c-3daa7a2b432d"
      },
      "execution_count": 40,
      "outputs": [
        {
          "output_type": "execute_result",
          "data": {
            "text/plain": [
              "<tf.Tensor: shape=(3, 2), dtype=int32, numpy=\n",
              "array([[10,  7],\n",
              "       [ 3,  4],\n",
              "       [ 2,  5]], dtype=int32)>"
            ]
          },
          "metadata": {},
          "execution_count": 40
        }
      ]
    },
    {
      "cell_type": "markdown",
      "source": [
        " **From the tensorflow docs: **\n",
        " Operations that rely on a random seed actually derive it from two seeds: the global and operation-level seeds. This sets the global seed.\n",
        "\n",
        "Its interactions with operation-level seeds is as follows:\n",
        "\n",
        "- If neither the global seed nor the operation seed is set: A randomly picked seed is used for this op.\n",
        "- If the global seed is set, but the operation seed is not: The system deterministically picks an operation seed in conjunction with the global seed so that it gets a unique random sequence. Within the same version of tensorflow and user code, this sequence is deterministic. However across different versions, this sequence might change. If the code depends on particular seeds to work, specify both global and operation-level seeds explicitly.\n",
        "- If the operation seed is set, but the global seed is not set: A default global seed and the specified operation seed are used to determine the random sequence.\n",
        "- If both the global and the operation seed are set: Both seeds are used in conjunction to determine the random sequence."
      ],
      "metadata": {
        "id": "qU-7KU-Etc1N"
      }
    },
    {
      "cell_type": "code",
      "source": [
        "tf.random.shuffle(not_shuffled, seed=42)"
      ],
      "metadata": {
        "id": "H8-8R2isuD07",
        "colab": {
          "base_uri": "https://localhost:8080/"
        },
        "outputId": "8e944e8f-b5eb-4440-b1dd-3e51855e245e"
      },
      "execution_count": 41,
      "outputs": [
        {
          "output_type": "execute_result",
          "data": {
            "text/plain": [
              "<tf.Tensor: shape=(3, 2), dtype=int32, numpy=\n",
              "array([[ 2,  5],\n",
              "       [10,  7],\n",
              "       [ 3,  4]], dtype=int32)>"
            ]
          },
          "metadata": {},
          "execution_count": 41
        }
      ]
    },
    {
      "cell_type": "markdown",
      "source": [
        "Every time you run an experiment within a NN, depending on the random initial state you might get different results so you must want to know the seeds you've been working with in order to make reproducible experiments"
      ],
      "metadata": {
        "id": "mcporH9Wx0BA"
      }
    },
    {
      "cell_type": "markdown",
      "source": [
        "### Other ways to create tensors (Using numpy)"
      ],
      "metadata": {
        "id": "pd9IDWsryOQN"
      }
    },
    {
      "cell_type": "code",
      "source": [
        "# Create a tensor of all ones\n",
        "tf.ones([10,7])"
      ],
      "metadata": {
        "colab": {
          "base_uri": "https://localhost:8080/"
        },
        "id": "ptHWlJ2CyX4b",
        "outputId": "69db1273-1672-420f-dd55-fe5f698e2b9b"
      },
      "execution_count": 43,
      "outputs": [
        {
          "output_type": "execute_result",
          "data": {
            "text/plain": [
              "<tf.Tensor: shape=(10, 7), dtype=float32, numpy=\n",
              "array([[1., 1., 1., 1., 1., 1., 1.],\n",
              "       [1., 1., 1., 1., 1., 1., 1.],\n",
              "       [1., 1., 1., 1., 1., 1., 1.],\n",
              "       [1., 1., 1., 1., 1., 1., 1.],\n",
              "       [1., 1., 1., 1., 1., 1., 1.],\n",
              "       [1., 1., 1., 1., 1., 1., 1.],\n",
              "       [1., 1., 1., 1., 1., 1., 1.],\n",
              "       [1., 1., 1., 1., 1., 1., 1.],\n",
              "       [1., 1., 1., 1., 1., 1., 1.],\n",
              "       [1., 1., 1., 1., 1., 1., 1.]], dtype=float32)>"
            ]
          },
          "metadata": {},
          "execution_count": 43
        }
      ]
    },
    {
      "cell_type": "code",
      "source": [
        "# Create a tensor of all zeros\n",
        "tf.zeros(shape=(3,4))"
      ],
      "metadata": {
        "colab": {
          "base_uri": "https://localhost:8080/"
        },
        "id": "fXpuQ30cybUO",
        "outputId": "a28b1f22-ee47-451e-c1f2-cf62fe1aa4b3"
      },
      "execution_count": 46,
      "outputs": [
        {
          "output_type": "execute_result",
          "data": {
            "text/plain": [
              "<tf.Tensor: shape=(3, 4), dtype=float32, numpy=\n",
              "array([[0., 0., 0., 0.],\n",
              "       [0., 0., 0., 0.],\n",
              "       [0., 0., 0., 0.]], dtype=float32)>"
            ]
          },
          "metadata": {},
          "execution_count": 46
        }
      ]
    },
    {
      "cell_type": "markdown",
      "source": [
        "> The main difference between NumPy arrays and TensorFlow tensors is that tensors can be run on a GPU ( much faster for numerical computing)"
      ],
      "metadata": {
        "id": "IaAMHpGcygsU"
      }
    },
    {
      "cell_type": "code",
      "source": [
        "# NumPy into tensors\n",
        "import numpy as np\n",
        "numpy_A = np.arange(1, 25, dtype=np.int32) # create a numpy array between 1 and 25\n",
        "numpy_A\n",
        "\n",
        "# X = tf.constant(some_matix) # capital for matrix or tensor\n",
        "# y = tf.constant(some_vector) # non-capital for vector"
      ],
      "metadata": {
        "colab": {
          "base_uri": "https://localhost:8080/"
        },
        "id": "6POVVTnty7TG",
        "outputId": "cedc3dc6-2741-4e1c-a68f-b7d663f26ea4"
      },
      "execution_count": 48,
      "outputs": [
        {
          "output_type": "execute_result",
          "data": {
            "text/plain": [
              "array([ 1,  2,  3,  4,  5,  6,  7,  8,  9, 10, 11, 12, 13, 14, 15, 16, 17,\n",
              "       18, 19, 20, 21, 22, 23, 24], dtype=int32)"
            ]
          },
          "metadata": {},
          "execution_count": 48
        }
      ]
    },
    {
      "cell_type": "code",
      "source": [
        "A = tf.constant(numpy_A)\n",
        "A"
      ],
      "metadata": {
        "colab": {
          "base_uri": "https://localhost:8080/"
        },
        "id": "PjDEDKvhzRD6",
        "outputId": "be26a519-6a22-41cc-815d-a564aedf885b"
      },
      "execution_count": 50,
      "outputs": [
        {
          "output_type": "execute_result",
          "data": {
            "text/plain": [
              "<tf.Tensor: shape=(24,), dtype=int32, numpy=\n",
              "array([ 1,  2,  3,  4,  5,  6,  7,  8,  9, 10, 11, 12, 13, 14, 15, 16, 17,\n",
              "       18, 19, 20, 21, 22, 23, 24], dtype=int32)>"
            ]
          },
          "metadata": {},
          "execution_count": 50
        }
      ]
    },
    {
      "cell_type": "code",
      "source": [
        "# If we want to convert the numpy_A from tensor shape 24 to a 3D tensor\n",
        "# The new dimensions must add up to the original elements (i.e. 2*3*4 = 24)\n",
        "A = tf.constant(numpy_A, shape=(2,3,4)) # This is a tensor(>1D). In order, it converts our vector into 2D, 3D and 4D (as for the args)\n",
        "\n",
        "B = tf.constant(numpy_A) # This is a vector (1D)\n",
        "\n",
        "A, B"
      ],
      "metadata": {
        "colab": {
          "base_uri": "https://localhost:8080/"
        },
        "id": "qmI5VGVlzXvM",
        "outputId": "9bfd94a4-9379-4542-933f-9954373e00f3"
      },
      "execution_count": 55,
      "outputs": [
        {
          "output_type": "execute_result",
          "data": {
            "text/plain": [
              "(<tf.Tensor: shape=(2, 3, 4), dtype=int32, numpy=\n",
              " array([[[ 1,  2,  3,  4],\n",
              "         [ 5,  6,  7,  8],\n",
              "         [ 9, 10, 11, 12]],\n",
              " \n",
              "        [[13, 14, 15, 16],\n",
              "         [17, 18, 19, 20],\n",
              "         [21, 22, 23, 24]]], dtype=int32)>,\n",
              " <tf.Tensor: shape=(24,), dtype=int32, numpy=\n",
              " array([ 1,  2,  3,  4,  5,  6,  7,  8,  9, 10, 11, 12, 13, 14, 15, 16, 17,\n",
              "        18, 19, 20, 21, 22, 23, 24], dtype=int32)>)"
            ]
          },
          "metadata": {},
          "execution_count": 55
        }
      ]
    },
    {
      "cell_type": "markdown",
      "source": [
        "### Getting information from tensors\n",
        "\n",
        "When dealing with tensors you probably want to be aware of the following elements:\n",
        "* Shape :: Number of elements of each dimension of a tensor : tensor.shape\n",
        "* Rank :: Number of tensor dimensions (scalar is rank 0, vector r=1, matrix r=2, tensor r=n) : tensor.ndim\n",
        "* Axis or Dimension :: A particular dimension (indexing) tensor[0], tensor[:,1] (this one gets all elements in the 0 dimension and then the 1st axis)\n",
        "* Size :: total items in the tensor : tf.size(tensor)"
      ],
      "metadata": {
        "id": "Kt8opT9Ezq-j"
      }
    },
    {
      "cell_type": "code",
      "source": [
        "# Create a rank 4 tensor\n",
        "rank_4_tensor = tf.zeros(shape=(2,3,4,5))\n",
        "rank_4_tensor"
      ],
      "metadata": {
        "colab": {
          "base_uri": "https://localhost:8080/"
        },
        "id": "I6yoyck11X1L",
        "outputId": "e38a9bc6-c218-4be5-a5ef-5ede390280d9"
      },
      "execution_count": 58,
      "outputs": [
        {
          "output_type": "execute_result",
          "data": {
            "text/plain": [
              "<tf.Tensor: shape=(2, 3, 4, 5), dtype=float32, numpy=\n",
              "array([[[[0., 0., 0., 0., 0.],\n",
              "         [0., 0., 0., 0., 0.],\n",
              "         [0., 0., 0., 0., 0.],\n",
              "         [0., 0., 0., 0., 0.]],\n",
              "\n",
              "        [[0., 0., 0., 0., 0.],\n",
              "         [0., 0., 0., 0., 0.],\n",
              "         [0., 0., 0., 0., 0.],\n",
              "         [0., 0., 0., 0., 0.]],\n",
              "\n",
              "        [[0., 0., 0., 0., 0.],\n",
              "         [0., 0., 0., 0., 0.],\n",
              "         [0., 0., 0., 0., 0.],\n",
              "         [0., 0., 0., 0., 0.]]],\n",
              "\n",
              "\n",
              "       [[[0., 0., 0., 0., 0.],\n",
              "         [0., 0., 0., 0., 0.],\n",
              "         [0., 0., 0., 0., 0.],\n",
              "         [0., 0., 0., 0., 0.]],\n",
              "\n",
              "        [[0., 0., 0., 0., 0.],\n",
              "         [0., 0., 0., 0., 0.],\n",
              "         [0., 0., 0., 0., 0.],\n",
              "         [0., 0., 0., 0., 0.]],\n",
              "\n",
              "        [[0., 0., 0., 0., 0.],\n",
              "         [0., 0., 0., 0., 0.],\n",
              "         [0., 0., 0., 0., 0.],\n",
              "         [0., 0., 0., 0., 0.]]]], dtype=float32)>"
            ]
          },
          "metadata": {},
          "execution_count": 58
        }
      ]
    },
    {
      "cell_type": "code",
      "source": [
        "rank_4_tensor[0]"
      ],
      "metadata": {
        "colab": {
          "base_uri": "https://localhost:8080/"
        },
        "id": "EaZa304k1yPA",
        "outputId": "eda71868-5d5d-4aaa-db5e-73f15f96183d"
      },
      "execution_count": 61,
      "outputs": [
        {
          "output_type": "execute_result",
          "data": {
            "text/plain": [
              "<tf.Tensor: shape=(3, 4, 5), dtype=float32, numpy=\n",
              "array([[[0., 0., 0., 0., 0.],\n",
              "        [0., 0., 0., 0., 0.],\n",
              "        [0., 0., 0., 0., 0.],\n",
              "        [0., 0., 0., 0., 0.]],\n",
              "\n",
              "       [[0., 0., 0., 0., 0.],\n",
              "        [0., 0., 0., 0., 0.],\n",
              "        [0., 0., 0., 0., 0.],\n",
              "        [0., 0., 0., 0., 0.]],\n",
              "\n",
              "       [[0., 0., 0., 0., 0.],\n",
              "        [0., 0., 0., 0., 0.],\n",
              "        [0., 0., 0., 0., 0.],\n",
              "        [0., 0., 0., 0., 0.]]], dtype=float32)>"
            ]
          },
          "metadata": {},
          "execution_count": 61
        }
      ]
    },
    {
      "cell_type": "code",
      "source": [
        "rank_4_tensor.ndim, rank_4_tensor.shape, tf.size(rank_4_tensor)"
      ],
      "metadata": {
        "colab": {
          "base_uri": "https://localhost:8080/"
        },
        "id": "HepIRTvB1_ux",
        "outputId": "ab2b26a0-845d-4cd9-c468-e3f4b717252e"
      },
      "execution_count": 62,
      "outputs": [
        {
          "output_type": "execute_result",
          "data": {
            "text/plain": [
              "(4, TensorShape([2, 3, 4, 5]), <tf.Tensor: shape=(), dtype=int32, numpy=120>)"
            ]
          },
          "metadata": {},
          "execution_count": 62
        }
      ]
    },
    {
      "cell_type": "code",
      "source": [
        "2 * 3 * 4 * 5"
      ],
      "metadata": {
        "colab": {
          "base_uri": "https://localhost:8080/"
        },
        "id": "UHZLqJ2B2Bm6",
        "outputId": "6c9f1122-1d07-4e1c-f164-e50122ade22e"
      },
      "execution_count": 63,
      "outputs": [
        {
          "output_type": "execute_result",
          "data": {
            "text/plain": [
              "120"
            ]
          },
          "metadata": {},
          "execution_count": 63
        }
      ]
    },
    {
      "cell_type": "code",
      "source": [
        "# Get varios attributes of our tensor\n",
        "print(\"Datatype of every element: \", rank_4_tensor.dtype)\n",
        "print(\"Number of dimensions (rank): \", rank_4_tensor.ndim)\n",
        "print(\"Shape of tensor: \", rank_4_tensor.shape)\n",
        "print(\"Elements along the 0 axis: \", rank_4_tensor.shape[0]) # axis are count from the shape list\n",
        "print(\"Elements along the last axis: \", rank_4_tensor.shape[-1]) # minus one is useful to get the last index (or counting backwards)\n",
        "print(\"Total number of elements in our tensor: \", tf.size(rank_4_tensor))\n",
        "print(\"Total number of elements in our tensor: \", tf.size(rank_4_tensor).numpy()) # A single element for the output with numpy"
      ],
      "metadata": {
        "colab": {
          "base_uri": "https://localhost:8080/"
        },
        "id": "mPw93Rdr2TF0",
        "outputId": "d31be645-022d-4d61-e36a-e33969f5bee6"
      },
      "execution_count": 67,
      "outputs": [
        {
          "output_type": "stream",
          "name": "stdout",
          "text": [
            "Datatype of every element:  <dtype: 'float32'>\n",
            "Number of dimensions (rank):  4\n",
            "Shape of tensor:  (2, 3, 4, 5)\n",
            "Elements along the 0 axis:  2\n",
            "Elements along the last axis:  5\n",
            "Total number of elements in our tensor:  tf.Tensor(120, shape=(), dtype=int32)\n",
            "Total number of elements in our tensor:  120\n"
          ]
        }
      ]
    },
    {
      "cell_type": "markdown",
      "source": [
        "### Indexing tensors\n",
        "\n",
        "Tensors can be indexed just like Python lists."
      ],
      "metadata": {
        "id": "eEklV9982zYe"
      }
    },
    {
      "cell_type": "code",
      "source": [
        "rank_4_tensor"
      ],
      "metadata": {
        "colab": {
          "base_uri": "https://localhost:8080/"
        },
        "id": "nXXgqBBw3yz7",
        "outputId": "43725934-7dbe-4592-85a7-7564afeabdbf"
      },
      "execution_count": 69,
      "outputs": [
        {
          "output_type": "execute_result",
          "data": {
            "text/plain": [
              "<tf.Tensor: shape=(2, 3, 4, 5), dtype=float32, numpy=\n",
              "array([[[[0., 0., 0., 0., 0.],\n",
              "         [0., 0., 0., 0., 0.],\n",
              "         [0., 0., 0., 0., 0.],\n",
              "         [0., 0., 0., 0., 0.]],\n",
              "\n",
              "        [[0., 0., 0., 0., 0.],\n",
              "         [0., 0., 0., 0., 0.],\n",
              "         [0., 0., 0., 0., 0.],\n",
              "         [0., 0., 0., 0., 0.]],\n",
              "\n",
              "        [[0., 0., 0., 0., 0.],\n",
              "         [0., 0., 0., 0., 0.],\n",
              "         [0., 0., 0., 0., 0.],\n",
              "         [0., 0., 0., 0., 0.]]],\n",
              "\n",
              "\n",
              "       [[[0., 0., 0., 0., 0.],\n",
              "         [0., 0., 0., 0., 0.],\n",
              "         [0., 0., 0., 0., 0.],\n",
              "         [0., 0., 0., 0., 0.]],\n",
              "\n",
              "        [[0., 0., 0., 0., 0.],\n",
              "         [0., 0., 0., 0., 0.],\n",
              "         [0., 0., 0., 0., 0.],\n",
              "         [0., 0., 0., 0., 0.]],\n",
              "\n",
              "        [[0., 0., 0., 0., 0.],\n",
              "         [0., 0., 0., 0., 0.],\n",
              "         [0., 0., 0., 0., 0.],\n",
              "         [0., 0., 0., 0., 0.]]]], dtype=float32)>"
            ]
          },
          "metadata": {},
          "execution_count": 69
        }
      ]
    },
    {
      "cell_type": "code",
      "source": [
        "some_list = [1,2,3,4]\n",
        "some_list[:2]"
      ],
      "metadata": {
        "colab": {
          "base_uri": "https://localhost:8080/"
        },
        "id": "Q6-EB14R4HSN",
        "outputId": "05fc1b7d-ac01-48d6-c3ea-4f51f4a493e2"
      },
      "execution_count": 75,
      "outputs": [
        {
          "output_type": "execute_result",
          "data": {
            "text/plain": [
              "[1, 2]"
            ]
          },
          "metadata": {},
          "execution_count": 75
        }
      ]
    },
    {
      "cell_type": "code",
      "source": [
        "# Get the first 2 elements of each dimension\n",
        "rank_4_tensor[:2, :2, :2, :2]"
      ],
      "metadata": {
        "colab": {
          "base_uri": "https://localhost:8080/"
        },
        "id": "m161g2Pz3PZA",
        "outputId": "bce3672a-54fc-48a9-e802-458ccddc14ec"
      },
      "execution_count": 74,
      "outputs": [
        {
          "output_type": "execute_result",
          "data": {
            "text/plain": [
              "<tf.Tensor: shape=(2, 2, 2, 2), dtype=float32, numpy=\n",
              "array([[[[0., 0.],\n",
              "         [0., 0.]],\n",
              "\n",
              "        [[0., 0.],\n",
              "         [0., 0.]]],\n",
              "\n",
              "\n",
              "       [[[0., 0.],\n",
              "         [0., 0.]],\n",
              "\n",
              "        [[0., 0.],\n",
              "         [0., 0.]]]], dtype=float32)>"
            ]
          },
          "metadata": {},
          "execution_count": 74
        }
      ]
    },
    {
      "cell_type": "code",
      "source": [
        "# Get the first element from each dimension from each index except for the final one\n",
        "rank_4_tensor[:1, :1, :1, :] # the ':' without a number = get the whole thing"
      ],
      "metadata": {
        "colab": {
          "base_uri": "https://localhost:8080/"
        },
        "id": "B4q7IWOh4aGN",
        "outputId": "b341438e-9a65-4e9b-c408-8edf09f543f4"
      },
      "execution_count": 81,
      "outputs": [
        {
          "output_type": "execute_result",
          "data": {
            "text/plain": [
              "<tf.Tensor: shape=(1, 1, 1, 5), dtype=float32, numpy=array([[[[0., 0., 0., 0., 0.]]]], dtype=float32)>"
            ]
          },
          "metadata": {},
          "execution_count": 81
        }
      ]
    },
    {
      "cell_type": "code",
      "source": [
        "rank_4_tensor.shape"
      ],
      "metadata": {
        "colab": {
          "base_uri": "https://localhost:8080/"
        },
        "id": "Jm84b2c44tpM",
        "outputId": "75663fea-bc73-4694-9a71-6635c995e04c"
      },
      "execution_count": 82,
      "outputs": [
        {
          "output_type": "execute_result",
          "data": {
            "text/plain": [
              "TensorShape([2, 3, 4, 5])"
            ]
          },
          "metadata": {},
          "execution_count": 82
        }
      ]
    },
    {
      "cell_type": "code",
      "source": [
        "rank_4_tensor[:1, :1, :, :1]"
      ],
      "metadata": {
        "colab": {
          "base_uri": "https://localhost:8080/"
        },
        "id": "PCvoufCJ5HKb",
        "outputId": "7d35f961-e6cb-44f9-a65a-673947098ce1"
      },
      "execution_count": 83,
      "outputs": [
        {
          "output_type": "execute_result",
          "data": {
            "text/plain": [
              "<tf.Tensor: shape=(1, 1, 4, 1), dtype=float32, numpy=\n",
              "array([[[[0.],\n",
              "         [0.],\n",
              "         [0.],\n",
              "         [0.]]]], dtype=float32)>"
            ]
          },
          "metadata": {},
          "execution_count": 83
        }
      ]
    },
    {
      "cell_type": "code",
      "source": [
        "# Create a rank 2 tensor\n",
        "rank_2_tensor = tf.constant([[10,7],\n",
        "                             [3,4]]) # Remember, when in doubt use tf.constant\n",
        "rank_2_tensor.ndim, rank_2_tensor.shape"
      ],
      "metadata": {
        "id": "9XpEIt1_5I-r",
        "colab": {
          "base_uri": "https://localhost:8080/"
        },
        "outputId": "e132323f-60b8-444d-9c76-a67c023b9841"
      },
      "execution_count": 85,
      "outputs": [
        {
          "output_type": "execute_result",
          "data": {
            "text/plain": [
              "(2, TensorShape([2, 2]))"
            ]
          },
          "metadata": {},
          "execution_count": 85
        }
      ]
    },
    {
      "cell_type": "code",
      "source": [
        "rank_2_tensor"
      ],
      "metadata": {
        "colab": {
          "base_uri": "https://localhost:8080/"
        },
        "id": "akUGVvRS_Efx",
        "outputId": "97aef747-b700-4ef4-ca35-d60f1fabb1c1"
      },
      "execution_count": 88,
      "outputs": [
        {
          "output_type": "execute_result",
          "data": {
            "text/plain": [
              "<tf.Tensor: shape=(2, 2), dtype=int32, numpy=\n",
              "array([[10,  7],\n",
              "       [ 3,  4]], dtype=int32)>"
            ]
          },
          "metadata": {},
          "execution_count": 88
        }
      ]
    },
    {
      "cell_type": "code",
      "source": [
        "# Get the last item of each row of our rank_2_tensor\n",
        "rank_2_tensor[-1:,-1:], rank_2_tensor[-1,-1] # None of this worked, the first is getting the last element from the last row, second one idk"
      ],
      "metadata": {
        "colab": {
          "base_uri": "https://localhost:8080/"
        },
        "id": "PMiYs9DY-y28",
        "outputId": "2791bce4-280b-4c1e-8421-466b658cd6ac"
      },
      "execution_count": 90,
      "outputs": [
        {
          "output_type": "execute_result",
          "data": {
            "text/plain": [
              "(<tf.Tensor: shape=(1, 1), dtype=int32, numpy=array([[4]], dtype=int32)>,\n",
              " <tf.Tensor: shape=(), dtype=int32, numpy=4>)"
            ]
          },
          "metadata": {},
          "execution_count": 90
        }
      ]
    },
    {
      "cell_type": "code",
      "source": [
        "rank_2_tensor[:, -1] # We want both rows (so all from 1D, ':') and the last from 2D (-1)"
      ],
      "metadata": {
        "colab": {
          "base_uri": "https://localhost:8080/"
        },
        "id": "msvEt6Jd-_a-",
        "outputId": "dee50f31-bd21-4de0-fbb6-58e67aba3151"
      },
      "execution_count": 91,
      "outputs": [
        {
          "output_type": "execute_result",
          "data": {
            "text/plain": [
              "<tf.Tensor: shape=(2,), dtype=int32, numpy=array([7, 4], dtype=int32)>"
            ]
          },
          "metadata": {},
          "execution_count": 91
        }
      ]
    },
    {
      "cell_type": "code",
      "source": [
        "# To add an extra dimension to our rank_2_tensor\n",
        "rank_3_tensor = rank_2_tensor[..., tf.newaxis] # ... means every axis as before and add a new axis. Alternative to [:, :, tf.newaxis]\n",
        "rank_3_tensor"
      ],
      "metadata": {
        "colab": {
          "base_uri": "https://localhost:8080/"
        },
        "id": "zjTLgMJS_dk1",
        "outputId": "e4458254-2dd7-4940-cae9-edc4e910403d"
      },
      "execution_count": 94,
      "outputs": [
        {
          "output_type": "execute_result",
          "data": {
            "text/plain": [
              "<tf.Tensor: shape=(2, 2, 1), dtype=int32, numpy=\n",
              "array([[[10],\n",
              "        [ 7]],\n",
              "\n",
              "       [[ 3],\n",
              "        [ 4]]], dtype=int32)>"
            ]
          },
          "metadata": {},
          "execution_count": 94
        }
      ]
    },
    {
      "cell_type": "code",
      "source": [
        "# To add an extra dimension to our rank_2_tensor\n",
        "rank_4_tensor = rank_3_tensor[..., tf.newaxis] # ... means keep the same as before but make it 3D (3 dots)\n",
        "rank_4_tensor"
      ],
      "metadata": {
        "colab": {
          "base_uri": "https://localhost:8080/"
        },
        "id": "pnDMSFYC_v7e",
        "outputId": "bfbd1a12-30ce-4f00-e4e5-e89bac73b6a1"
      },
      "execution_count": 95,
      "outputs": [
        {
          "output_type": "execute_result",
          "data": {
            "text/plain": [
              "<tf.Tensor: shape=(2, 2, 1, 1), dtype=int32, numpy=\n",
              "array([[[[10]],\n",
              "\n",
              "        [[ 7]]],\n",
              "\n",
              "\n",
              "       [[[ 3]],\n",
              "\n",
              "        [[ 4]]]], dtype=int32)>"
            ]
          },
          "metadata": {},
          "execution_count": 95
        }
      ]
    },
    {
      "cell_type": "code",
      "source": [
        "# Alternative to tf.newaxis\n",
        "tf.expand_dims(rank_2_tensor, axis = -1) #\"-1\" means expand the final axis"
      ],
      "metadata": {
        "colab": {
          "base_uri": "https://localhost:8080/"
        },
        "id": "hJOVJAA5_xV7",
        "outputId": "0ca54cfd-4751-4149-ec3d-3c04d42ab4b5"
      },
      "execution_count": 96,
      "outputs": [
        {
          "output_type": "execute_result",
          "data": {
            "text/plain": [
              "<tf.Tensor: shape=(2, 2, 1), dtype=int32, numpy=\n",
              "array([[[10],\n",
              "        [ 7]],\n",
              "\n",
              "       [[ 3],\n",
              "        [ 4]]], dtype=int32)>"
            ]
          },
          "metadata": {},
          "execution_count": 96
        }
      ]
    },
    {
      "cell_type": "code",
      "source": [
        "# Alternative to tf.newaxis\n",
        "tf.expand_dims(rank_2_tensor, axis = 0) # \"0\" means expand the axis at 0 (1st D)"
      ],
      "metadata": {
        "colab": {
          "base_uri": "https://localhost:8080/"
        },
        "id": "Hq6ZrL9XAeGc",
        "outputId": "e5392149-2890-4d18-dd8b-662056b44581"
      },
      "execution_count": 97,
      "outputs": [
        {
          "output_type": "execute_result",
          "data": {
            "text/plain": [
              "<tf.Tensor: shape=(1, 2, 2), dtype=int32, numpy=\n",
              "array([[[10,  7],\n",
              "        [ 3,  4]]], dtype=int32)>"
            ]
          },
          "metadata": {},
          "execution_count": 97
        }
      ]
    },
    {
      "cell_type": "code",
      "source": [
        "# Alternative to tf.newaxis\n",
        "tf.expand_dims(rank_2_tensor, axis = 1) #\"1\" means expand the axis at 1 (2D (inside 1D))"
      ],
      "metadata": {
        "colab": {
          "base_uri": "https://localhost:8080/"
        },
        "id": "6v13cTOoAfsH",
        "outputId": "0163984f-1db0-4b42-cee9-654f58b2dc47"
      },
      "execution_count": 98,
      "outputs": [
        {
          "output_type": "execute_result",
          "data": {
            "text/plain": [
              "<tf.Tensor: shape=(2, 1, 2), dtype=int32, numpy=\n",
              "array([[[10,  7]],\n",
              "\n",
              "       [[ 3,  4]]], dtype=int32)>"
            ]
          },
          "metadata": {},
          "execution_count": 98
        }
      ]
    },
    {
      "cell_type": "code",
      "source": [
        "# Alternative to tf.newaxis\n",
        "tf.expand_dims(rank_2_tensor, axis = 2) #\"2\" means expand the axis at 2 (3D inside 2D) in this case equals to the final axis"
      ],
      "metadata": {
        "colab": {
          "base_uri": "https://localhost:8080/"
        },
        "id": "FOLCeCDUAhRD",
        "outputId": "eb88a0dc-492a-4c83-d47c-2da032d51e1b"
      },
      "execution_count": 99,
      "outputs": [
        {
          "output_type": "execute_result",
          "data": {
            "text/plain": [
              "<tf.Tensor: shape=(2, 2, 1), dtype=int32, numpy=\n",
              "array([[[10],\n",
              "        [ 7]],\n",
              "\n",
              "       [[ 3],\n",
              "        [ 4]]], dtype=int32)>"
            ]
          },
          "metadata": {},
          "execution_count": 99
        }
      ]
    },
    {
      "cell_type": "code",
      "source": [
        "rank_2_tensor"
      ],
      "metadata": {
        "colab": {
          "base_uri": "https://localhost:8080/"
        },
        "id": "TFq2nU8mAlGs",
        "outputId": "b240c169-af89-4993-c3ea-766d7a89e4a8"
      },
      "execution_count": 100,
      "outputs": [
        {
          "output_type": "execute_result",
          "data": {
            "text/plain": [
              "<tf.Tensor: shape=(2, 2), dtype=int32, numpy=\n",
              "array([[10,  7],\n",
              "       [ 3,  4]], dtype=int32)>"
            ]
          },
          "metadata": {},
          "execution_count": 100
        }
      ]
    },
    {
      "cell_type": "markdown",
      "source": [
        "# Manipulating tensors (tensor operations)\n",
        "\n",
        "Most of times we get info from operating trough tensors\n",
        "\n",
        "**Basic operations**\n",
        "\n",
        "`+, -, *, /`"
      ],
      "metadata": {
        "id": "x7Wpu5kkBAUK"
      }
    },
    {
      "cell_type": "code",
      "source": [
        "# You can add values to a tensor using the addition operator\n",
        "tensor = tf.constant(\n",
        "    [\n",
        "        [10, 7],\n",
        "        [3, 4]\n",
        "    ]\n",
        ")\n",
        "tensor + 10"
      ],
      "metadata": {
        "colab": {
          "base_uri": "https://localhost:8080/"
        },
        "id": "2R3_iqAnH165",
        "outputId": "10ee7945-18e6-422b-9695-710cbff32f81"
      },
      "execution_count": 107,
      "outputs": [
        {
          "output_type": "execute_result",
          "data": {
            "text/plain": [
              "<tf.Tensor: shape=(2, 2), dtype=int32, numpy=\n",
              "array([[20, 17],\n",
              "       [13, 14]], dtype=int32)>"
            ]
          },
          "metadata": {},
          "execution_count": 107
        }
      ]
    },
    {
      "cell_type": "code",
      "source": [
        "# the original tensor is unchanged\n",
        "tensor"
      ],
      "metadata": {
        "colab": {
          "base_uri": "https://localhost:8080/"
        },
        "id": "7GaE70y2ILQK",
        "outputId": "a0706473-da64-475a-8aaf-bf7305d7a179"
      },
      "execution_count": 108,
      "outputs": [
        {
          "output_type": "execute_result",
          "data": {
            "text/plain": [
              "<tf.Tensor: shape=(2, 2), dtype=int32, numpy=\n",
              "array([[10,  7],\n",
              "       [ 3,  4]], dtype=int32)>"
            ]
          },
          "metadata": {},
          "execution_count": 108
        }
      ]
    },
    {
      "cell_type": "code",
      "source": [
        "# Multiplication also works\n",
        "tensor * 10"
      ],
      "metadata": {
        "colab": {
          "base_uri": "https://localhost:8080/"
        },
        "id": "disTpQ5JIRQ5",
        "outputId": "964fee43-3b0f-4f71-8ec3-eeb69c7347b6"
      },
      "execution_count": 109,
      "outputs": [
        {
          "output_type": "execute_result",
          "data": {
            "text/plain": [
              "<tf.Tensor: shape=(2, 2), dtype=int32, numpy=\n",
              "array([[100,  70],\n",
              "       [ 30,  40]], dtype=int32)>"
            ]
          },
          "metadata": {},
          "execution_count": 109
        }
      ]
    },
    {
      "cell_type": "code",
      "source": [
        "# Substraction\n",
        "tensor - 10"
      ],
      "metadata": {
        "colab": {
          "base_uri": "https://localhost:8080/"
        },
        "id": "hqcMVo7gIg0C",
        "outputId": "d9269614-80c6-439c-9acc-d22bbc9863de"
      },
      "execution_count": 110,
      "outputs": [
        {
          "output_type": "execute_result",
          "data": {
            "text/plain": [
              "<tf.Tensor: shape=(2, 2), dtype=int32, numpy=\n",
              "array([[ 0, -3],\n",
              "       [-7, -6]], dtype=int32)>"
            ]
          },
          "metadata": {},
          "execution_count": 110
        }
      ]
    },
    {
      "cell_type": "code",
      "source": [
        "# However, if you want to speed up your operations you might want to use the tf.math built in operations. for example:\n",
        "tf.multiply(tensor, 10)"
      ],
      "metadata": {
        "colab": {
          "base_uri": "https://localhost:8080/"
        },
        "id": "0l5tXdH1IjQN",
        "outputId": "ae5d9d64-9cc7-41ba-8448-027bacd3478e"
      },
      "execution_count": 111,
      "outputs": [
        {
          "output_type": "execute_result",
          "data": {
            "text/plain": [
              "<tf.Tensor: shape=(2, 2), dtype=int32, numpy=\n",
              "array([[100,  70],\n",
              "       [ 30,  40]], dtype=int32)>"
            ]
          },
          "metadata": {},
          "execution_count": 111
        }
      ]
    },
    {
      "cell_type": "code",
      "source": [
        "# Even after using the built in function the original tensor is still unchanged\n",
        "tensor"
      ],
      "metadata": {
        "colab": {
          "base_uri": "https://localhost:8080/"
        },
        "id": "9BTEIPJDI3Hs",
        "outputId": "dad3b213-4479-4018-8b07-04fd14d7a977"
      },
      "execution_count": 112,
      "outputs": [
        {
          "output_type": "execute_result",
          "data": {
            "text/plain": [
              "<tf.Tensor: shape=(2, 2), dtype=int32, numpy=\n",
              "array([[10,  7],\n",
              "       [ 3,  4]], dtype=int32)>"
            ]
          },
          "metadata": {},
          "execution_count": 112
        }
      ]
    },
    {
      "cell_type": "code",
      "source": [
        "tf.multiply(tensor, tensor) # Pairwise, M1_ij * M2_ij instead of a dot product"
      ],
      "metadata": {
        "colab": {
          "base_uri": "https://localhost:8080/"
        },
        "id": "JRhnlpQHLORm",
        "outputId": "35e46226-5a6d-4c09-f390-880c549786eb"
      },
      "execution_count": 119,
      "outputs": [
        {
          "output_type": "execute_result",
          "data": {
            "text/plain": [
              "<tf.Tensor: shape=(2, 2), dtype=int32, numpy=\n",
              "array([[100,  49],\n",
              "       [  9,  16]], dtype=int32)>"
            ]
          },
          "metadata": {},
          "execution_count": 119
        }
      ]
    },
    {
      "cell_type": "code",
      "source": [
        "# Let's try to see some real difference in runtimes\n",
        "random_tensor_1 = tf.random.Generator.from_seed(3)\n",
        "random_tensor_2 = tf.random.Generator.from_seed(7)\n",
        "\n",
        "random_tensor_1 = tf.random.normal(shape=(100,200,400))\n",
        "random_tensor_2 = tf.random.normal(shape=(100,200,400))\n",
        "\n",
        "random_tensor_1, random_tensor_2"
      ],
      "metadata": {
        "colab": {
          "base_uri": "https://localhost:8080/"
        },
        "id": "_SlfrMqCI-rh",
        "outputId": "5d420eeb-edca-40a2-b9b1-08f73cc0a114"
      },
      "execution_count": 115,
      "outputs": [
        {
          "output_type": "execute_result",
          "data": {
            "text/plain": [
              "(<tf.Tensor: shape=(100, 200, 400), dtype=float32, numpy=\n",
              " array([[[-5.59097350e-01, -5.34721375e-01,  2.37303329e+00, ...,\n",
              "           1.01067054e+00, -7.53074408e-01, -9.76758182e-01],\n",
              "         [-1.42966795e+00,  1.76292405e-01, -3.92474729e-04, ...,\n",
              "          -3.79056394e-01, -1.36322117e+00,  5.01162887e-01],\n",
              "         [-8.65153521e-02,  1.33234775e+00,  3.87389004e-01, ...,\n",
              "          -1.59642637e+00,  2.46941257e+00,  1.27639794e+00],\n",
              "         ...,\n",
              "         [ 7.27385104e-01, -4.30612296e-01, -1.79065585e+00, ...,\n",
              "           3.76371711e-01,  2.16120914e-01, -1.96867302e-01],\n",
              "         [-1.39758992e+00,  4.31511551e-01,  1.14158070e+00, ...,\n",
              "           9.00351048e-01,  1.39498249e-01, -6.00560665e-01],\n",
              "         [ 1.66722929e+00, -1.03196949e-01,  2.59727925e-01, ...,\n",
              "          -6.44158542e-01, -1.16303913e-01,  5.78252435e-01]],\n",
              " \n",
              "        [[-2.48680025e-01, -4.31491613e-01, -1.92662585e+00, ...,\n",
              "          -4.28884119e-01, -6.62429273e-01, -1.64513457e+00],\n",
              "         [-2.02840304e+00, -1.41150630e+00, -6.60302639e-01, ...,\n",
              "          -3.86241943e-01, -3.26740098e+00,  1.05937541e+00],\n",
              "         [-1.25124741e+00, -1.45332754e+00, -3.35286885e-01, ...,\n",
              "          -2.87161618e-01, -1.19168770e+00, -7.18103647e-01],\n",
              "         ...,\n",
              "         [ 1.55132949e-01,  4.09397930e-01, -1.20494604e-01, ...,\n",
              "           7.35036254e-01,  7.56142884e-02, -1.00873327e+00],\n",
              "         [-1.72349846e+00, -3.94515485e-01, -1.20626009e+00, ...,\n",
              "          -3.14323664e-01, -1.89407718e+00, -6.47238910e-01],\n",
              "         [ 4.33992118e-01, -7.85165846e-01,  2.83034355e-03, ...,\n",
              "           1.07708859e+00,  8.59233737e-02, -7.01783240e-01]],\n",
              " \n",
              "        [[ 2.75970411e+00, -6.22259915e-01,  1.58642912e+00, ...,\n",
              "          -4.79929358e-01, -3.20796371e-01,  3.73777509e-01],\n",
              "         [ 5.46622872e-01,  1.50740242e+00,  7.75780499e-01, ...,\n",
              "           3.43625814e-01,  1.34513581e+00,  1.51732814e+00],\n",
              "         [ 9.48031425e-01, -3.35436352e-02, -1.20298755e+00, ...,\n",
              "           6.57795012e-01, -1.18913579e+00, -7.29461968e-01],\n",
              "         ...,\n",
              "         [ 4.51217443e-01,  2.51353741e-01, -5.07556558e-01, ...,\n",
              "          -7.91546106e-01, -1.28209579e+00, -1.07787216e+00],\n",
              "         [ 7.27084041e-01, -1.53060183e-01,  5.31536102e-01, ...,\n",
              "           4.55601178e-02, -1.92949438e+00,  1.08699977e+00],\n",
              "         [ 3.36730868e-01, -6.59302652e-01,  1.09437311e+00, ...,\n",
              "           1.69964641e-01, -6.07633144e-02, -9.56433237e-01]],\n",
              " \n",
              "        ...,\n",
              " \n",
              "        [[-8.80019128e-01,  1.84924468e-01,  1.34161532e+00, ...,\n",
              "           8.04169834e-01,  6.32234752e-01,  1.47989118e+00],\n",
              "         [-2.14028740e+00,  5.99519610e-01, -3.49395089e-02, ...,\n",
              "          -2.90005170e-02,  7.27484107e-01,  1.10842597e+00],\n",
              "         [ 4.83841747e-01, -1.06128776e+00,  9.84037668e-02, ...,\n",
              "          -4.08009470e-01,  3.36540282e-01,  1.79725134e+00],\n",
              "         ...,\n",
              "         [-1.42388120e-01,  1.14731276e+00,  1.10122633e+00, ...,\n",
              "           7.70516157e-01,  1.08166730e+00, -1.15368068e+00],\n",
              "         [ 3.32671218e-02,  2.10348368e+00, -5.78266501e-01, ...,\n",
              "          -5.68182588e-01,  1.83072090e-01, -5.55458665e-01],\n",
              "         [-1.06527591e+00,  1.87085354e+00,  2.22826624e+00, ...,\n",
              "          -4.08728838e-01,  4.32714731e-01, -5.63878834e-01]],\n",
              " \n",
              "        [[-6.03066266e-01,  1.23462880e+00, -9.85530972e-01, ...,\n",
              "           2.79565477e+00, -1.44302464e+00,  1.39527291e-01],\n",
              "         [ 1.19283676e+00, -3.19521636e-01,  2.65337467e-01, ...,\n",
              "           7.02309549e-01,  5.57528377e-01, -4.42045927e-01],\n",
              "         [-1.45062268e-01,  6.21579647e-01, -3.35675776e-01, ...,\n",
              "           1.39280006e-01, -1.16392028e+00, -2.01035459e-02],\n",
              "         ...,\n",
              "         [-8.43160272e-01,  4.53363836e-01,  6.36925220e-01, ...,\n",
              "          -9.81632054e-01, -2.97252387e-01,  6.70984328e-01],\n",
              "         [-3.13060701e-01,  9.97415662e-01,  1.64377034e+00, ...,\n",
              "          -4.83267695e-01,  5.17856359e-01,  1.07921290e+00],\n",
              "         [ 1.50655019e+00,  2.99367577e-01,  2.97329035e-02, ...,\n",
              "          -8.20348620e-01,  6.21697545e-01, -5.84821403e-01]],\n",
              " \n",
              "        [[ 3.09787059e+00, -1.16285944e+00, -7.11471319e-01, ...,\n",
              "          -1.27347872e-01,  5.55343390e-01, -8.61209393e-01],\n",
              "         [-1.18378866e+00, -1.09246039e+00,  1.38996005e+00, ...,\n",
              "          -9.80501294e-01, -9.10430849e-01,  5.64898491e-01],\n",
              "         [-1.27545333e+00,  3.18642676e-01, -1.15589607e+00, ...,\n",
              "          -4.74204063e-01,  7.23878622e-01,  2.67168563e-02],\n",
              "         ...,\n",
              "         [ 1.64416134e-01, -1.92524183e+00,  3.58248539e-02, ...,\n",
              "          -7.90441930e-01,  1.21749220e-02, -4.22565073e-01],\n",
              "         [-2.16613507e+00, -3.15206081e-01, -1.26325801e-01, ...,\n",
              "           5.51344573e-01, -5.71132183e-01, -6.29325390e-01],\n",
              "         [-1.96091247e+00,  7.65864909e-01,  2.65207171e+00, ...,\n",
              "           6.02670722e-02, -1.34399235e-02, -9.89594400e-01]]],\n",
              "       dtype=float32)>,\n",
              " <tf.Tensor: shape=(100, 200, 400), dtype=float32, numpy=\n",
              " array([[[ 0.65648675, -0.4130517 ,  0.33997506, ..., -1.059272  ,\n",
              "          -0.8776045 , -0.8232688 ],\n",
              "         [-0.95482045,  1.6033726 , -1.5146224 , ...,  0.42756692,\n",
              "           0.57281315, -0.72994256],\n",
              "         [ 0.6497009 ,  0.725404  , -0.844731  , ..., -0.01683606,\n",
              "           0.20941465, -1.2812121 ],\n",
              "         ...,\n",
              "         [-1.8435526 ,  0.01612442, -0.5184342 , ..., -1.170659  ,\n",
              "           2.118584  , -0.7017976 ],\n",
              "         [ 0.52482396,  1.9821641 , -0.7072773 , ..., -0.18506376,\n",
              "           1.7433758 ,  0.5586623 ],\n",
              "         [ 0.9780092 ,  0.8766574 , -0.00957768, ...,  0.75012034,\n",
              "           1.3310989 , -0.8380309 ]],\n",
              " \n",
              "        [[-0.67957306, -0.6152609 , -0.32044128, ...,  1.3926072 ,\n",
              "           0.71954787,  0.6386024 ],\n",
              "         [ 0.05684277,  0.5591434 ,  1.0358125 , ..., -0.6750417 ,\n",
              "          -1.4850795 ,  0.75753564],\n",
              "         [ 0.05985604, -0.6036901 ,  0.68554425, ..., -0.03645199,\n",
              "           0.16907847, -0.01056033],\n",
              "         ...,\n",
              "         [ 0.13682172,  0.4059342 ,  0.37162626, ...,  1.8278314 ,\n",
              "           0.9864745 ,  2.0833144 ],\n",
              "         [-0.3504761 , -0.8224939 ,  0.5341327 , ..., -2.1871357 ,\n",
              "          -0.6318559 ,  2.6309307 ],\n",
              "         [ 0.6578143 ,  2.0178072 , -1.1356574 , ..., -0.05615301,\n",
              "           0.20837973,  1.1361365 ]],\n",
              " \n",
              "        [[ 0.66755635,  2.2520149 ,  1.2069807 , ..., -1.7049768 ,\n",
              "           0.8816265 , -0.04198373],\n",
              "         [-0.09146027,  2.681877  , -2.1439419 , ...,  0.24738432,\n",
              "           0.669496  ,  0.7798021 ],\n",
              "         [ 0.9342637 , -0.2564389 , -1.3620119 , ..., -0.5389271 ,\n",
              "          -1.8289255 ,  0.77270657],\n",
              "         ...,\n",
              "         [ 0.11074148,  0.8246339 , -1.4094853 , ...,  0.32567358,\n",
              "          -0.55296767,  0.61522454],\n",
              "         [-0.46049702, -0.96613383,  0.18804084, ...,  0.33398157,\n",
              "          -0.17757161,  0.6180962 ],\n",
              "         [ 0.32902873, -1.1390543 , -0.2660794 , ...,  0.8459901 ,\n",
              "           1.7075126 , -1.3587657 ]],\n",
              " \n",
              "        ...,\n",
              " \n",
              "        [[-0.9712552 , -0.5147273 ,  0.91062987, ...,  0.81111103,\n",
              "          -0.59221447,  0.91832596],\n",
              "         [ 0.9916907 , -0.33523208,  0.72041637, ...,  1.1063567 ,\n",
              "          -1.5301918 , -0.15424825],\n",
              "         [ 0.09334324,  1.6532446 , -0.50782114, ...,  0.2636188 ,\n",
              "           0.69017535,  0.3501658 ],\n",
              "         ...,\n",
              "         [ 1.2306516 , -0.09604412, -0.90547293, ..., -1.2286056 ,\n",
              "           0.77977294,  1.1406434 ],\n",
              "         [-1.254445  , -0.14619145, -0.24812159, ..., -0.30280003,\n",
              "           1.2761903 ,  0.837203  ],\n",
              "         [-0.26716536, -0.11811779, -1.0297676 , ..., -0.56833684,\n",
              "          -1.5105115 ,  0.01056076]],\n",
              " \n",
              "        [[-1.0614507 ,  0.61767775, -0.7193266 , ...,  0.508852  ,\n",
              "          -1.2144036 ,  1.1229556 ],\n",
              "         [-0.71234214,  0.32953182,  0.907219  , ..., -0.16817978,\n",
              "           0.9384504 , -0.1332201 ],\n",
              "         [ 1.0266663 , -0.30452654,  0.27522823, ..., -0.94367653,\n",
              "           0.33700737,  0.89872843],\n",
              "         ...,\n",
              "         [ 0.48964202,  0.11852444,  0.43559536, ...,  0.8860221 ,\n",
              "           0.52896494, -1.9152386 ],\n",
              "         [-0.6114618 ,  1.1829628 , -0.4248008 , ...,  1.331582  ,\n",
              "           0.1610181 , -0.46580976],\n",
              "         [-0.5436779 , -1.5722579 ,  1.1807402 , ..., -0.19672436,\n",
              "           1.07656   ,  0.5431395 ]],\n",
              " \n",
              "        [[-0.20709778, -0.6689665 ,  0.7607909 , ...,  0.6930407 ,\n",
              "          -0.3979765 ,  0.5897025 ],\n",
              "         [-1.1096404 ,  0.3262215 , -0.4054469 , ...,  1.2098848 ,\n",
              "           0.61218   ,  0.12631558],\n",
              "         [ 1.1211153 ,  0.88866466,  0.61498463, ...,  0.45006797,\n",
              "          -0.8805013 , -0.8900896 ],\n",
              "         ...,\n",
              "         [ 2.2473454 , -0.10041796, -0.86306673, ...,  0.00752957,\n",
              "           0.15785034, -0.09752981],\n",
              "         [ 1.1429939 , -0.28372794, -0.6913264 , ...,  0.6464308 ,\n",
              "           1.0898651 , -0.4880997 ],\n",
              "         [ 0.21293548,  0.7250497 , -0.7862431 , ...,  1.8734223 ,\n",
              "           0.93881536,  0.5338525 ]]], dtype=float32)>)"
            ]
          },
          "metadata": {},
          "execution_count": 115
        }
      ]
    },
    {
      "cell_type": "code",
      "source": [
        "# First multiply with python operators\n",
        "random_tensor_1 * random_tensor_2"
      ],
      "metadata": {
        "colab": {
          "base_uri": "https://localhost:8080/"
        },
        "id": "Lm_tqH_aJLtw",
        "outputId": "c204e2d5-b34d-4d1c-d26b-ff90f815ca6d"
      },
      "execution_count": 116,
      "outputs": [
        {
          "output_type": "execute_result",
          "data": {
            "text/plain": [
              "<tf.Tensor: shape=(100, 200, 400), dtype=float32, numpy=\n",
              "array([[[-3.67040008e-01,  2.20867574e-01,  8.06772113e-01, ...,\n",
              "         -1.07057512e+00,  6.60901487e-01,  8.04134488e-01],\n",
              "        [ 1.36507618e+00,  2.82662392e-01,  5.94451034e-04, ...,\n",
              "         -1.62071973e-01, -7.80871034e-01, -3.65820110e-01],\n",
              "        [-5.62091023e-02,  9.66490448e-01, -3.27239484e-01, ...,\n",
              "          2.68775243e-02,  5.17131150e-01, -1.63533652e+00],\n",
              "        ...,\n",
              "        [-1.34097266e+00, -6.94337208e-03,  9.28337276e-01, ...,\n",
              "         -4.40602899e-01,  4.57870305e-01,  1.38161004e-01],\n",
              "        [-7.33488679e-01,  8.55326712e-01, -8.07414114e-01, ...,\n",
              "         -1.66622356e-01,  2.43197873e-01, -3.35510612e-01],\n",
              "        [ 1.63056564e+00, -9.04683694e-02, -2.48759077e-03, ...,\n",
              "         -4.83196437e-01, -1.54812008e-01, -4.84593391e-01]],\n",
              "\n",
              "       [[ 1.68996245e-01,  2.65479922e-01,  6.17370427e-01, ...,\n",
              "         -5.97267091e-01, -4.76649582e-01, -1.05058682e+00],\n",
              "        [-1.15300052e-01, -7.89234459e-01, -6.83949709e-01, ...,\n",
              "          2.60729402e-01,  4.85235023e+00,  8.02514613e-01],\n",
              "        [-7.48947114e-02,  8.77359450e-01, -2.29854003e-01, ...,\n",
              "          1.04676122e-02, -2.01488733e-01,  7.58341234e-03],\n",
              "        ...,\n",
              "        [ 2.12255567e-02,  1.66188627e-01, -4.47789580e-02, ...,\n",
              "          1.34352231e+00,  7.45915696e-02, -2.10150862e+00],\n",
              "        [ 6.04044974e-01,  3.24486583e-01, -6.44302964e-01, ...,\n",
              "          6.87468529e-01,  1.19678390e+00, -1.70284069e+00],\n",
              "        [ 2.85486221e-01, -1.58431339e+00, -3.21430061e-03, ...,\n",
              "         -6.04817681e-02,  1.79046895e-02, -7.97321558e-01]],\n",
              "\n",
              "       [[ 1.84225798e+00, -1.40133858e+00,  1.91478932e+00, ...,\n",
              "          8.18268418e-01, -2.82822579e-01, -1.56925730e-02],\n",
              "        [-4.99942712e-02,  4.04266787e+00, -1.66322827e+00, ...,\n",
              "          8.50076377e-02,  9.00563061e-01,  1.18321562e+00],\n",
              "        [ 8.85711372e-01,  8.60189367e-03,  1.63848341e+00, ...,\n",
              "         -3.54503542e-01,  2.17484069e+00, -5.63660026e-01],\n",
              "        ...,\n",
              "        [ 4.99684885e-02,  2.07274809e-01,  7.15393543e-01, ...,\n",
              "         -2.57785648e-01,  7.08957493e-01, -6.63133383e-01],\n",
              "        [-3.34820032e-01,  1.47876620e-01,  9.99504924e-02, ...,\n",
              "          1.52162397e-02,  3.42623413e-01,  6.71870410e-01],\n",
              "        [ 1.10794127e-01,  7.50981510e-01, -2.91190147e-01, ...,\n",
              "          1.43788412e-01, -1.03754126e-01,  1.29956865e+00]],\n",
              "\n",
              "       ...,\n",
              "\n",
              "       [[ 8.54723155e-01, -9.51856747e-02,  1.22171497e+00, ...,\n",
              "          6.52271032e-01, -3.74418557e-01,  1.35902250e+00],\n",
              "        [-2.12250304e+00, -2.00978205e-01, -2.51709949e-02, ...,\n",
              "         -3.20849158e-02, -1.11319017e+00, -1.70972764e-01],\n",
              "        [ 4.51633595e-02, -1.75456822e+00, -4.99715135e-02, ...,\n",
              "         -1.07558966e-01,  2.32271805e-01,  6.29335999e-01],\n",
              "        ...,\n",
              "        [-1.75230175e-01, -1.10192642e-01, -9.97130632e-01, ...,\n",
              "         -9.46660459e-01,  8.43454897e-01, -1.31593823e+00],\n",
              "        [-4.17317748e-02, -3.07511330e-01,  1.43480405e-01, ...,\n",
              "          1.72045708e-01,  2.33634830e-01, -4.65031683e-01],\n",
              "        [ 2.84604818e-01, -2.20981091e-01, -2.29459643e+00, ...,\n",
              "          2.32295662e-01, -6.53620601e-01, -5.95498923e-03]],\n",
              "\n",
              "       [[ 6.40125096e-01,  7.62602746e-01,  7.08918631e-01, ...,\n",
              "          1.42257452e+00,  1.75241435e+00,  1.56682953e-01],\n",
              "        [-8.49707901e-01, -1.05292544e-01,  2.40719184e-01, ...,\n",
              "         -1.18114263e-01,  5.23212731e-01,  5.88894039e-02],\n",
              "        [-1.48930535e-01, -1.89287499e-01, -9.23874527e-02, ...,\n",
              "         -1.31435275e-01, -3.92249703e-01, -1.80676281e-02],\n",
              "        ...,\n",
              "        [-4.12846714e-01,  5.37346937e-02,  2.77441680e-01, ...,\n",
              "         -8.69747698e-01, -1.57236084e-01, -1.28509510e+00],\n",
              "        [ 1.91424668e-01,  1.17990565e+00, -6.98274970e-01, ...,\n",
              "         -6.43510520e-01,  8.33842456e-02, -5.02707899e-01],\n",
              "        [-8.19078088e-01, -4.70683038e-01,  3.51068340e-02, ...,\n",
              "          1.61382556e-01,  6.69294715e-01, -3.17639619e-01]],\n",
              "\n",
              "       [[-6.41562104e-01,  7.77913988e-01, -5.41280866e-01, ...,\n",
              "         -8.82572606e-02, -2.21013606e-01, -5.07857323e-01],\n",
              "        [ 1.31357968e+00, -3.56384069e-01, -5.63555002e-01, ...,\n",
              "         -1.18629360e+00, -5.57347536e-01,  7.13554770e-02],\n",
              "        [-1.42993033e+00,  2.83166498e-01, -7.10858345e-01, ...,\n",
              "         -2.13424057e-01, -6.37376070e-01, -2.37803943e-02],\n",
              "        ...,\n",
              "        [ 3.69499862e-01,  1.93328872e-01, -3.09192389e-02, ...,\n",
              "         -5.95168630e-03,  1.92181556e-03,  4.12126891e-02],\n",
              "        [-2.47587919e+00,  8.94327760e-02,  8.73323604e-02, ...,\n",
              "          3.56406122e-01, -6.22457027e-01,  3.07173520e-01],\n",
              "        [-4.17547822e-01,  5.55290103e-01, -2.08517313e+00, ...,\n",
              "          1.12905674e-01, -1.26176067e-02, -5.28297484e-01]]],\n",
              "      dtype=float32)>"
            ]
          },
          "metadata": {},
          "execution_count": 116
        }
      ]
    },
    {
      "cell_type": "code",
      "source": [
        "tf.multiply(random_tensor_1, random_tensor_2)"
      ],
      "metadata": {
        "colab": {
          "base_uri": "https://localhost:8080/"
        },
        "id": "XAGUphYeJkHZ",
        "outputId": "35468ce0-b675-46b4-b865-f403214bb78e"
      },
      "execution_count": 118,
      "outputs": [
        {
          "output_type": "execute_result",
          "data": {
            "text/plain": [
              "<tf.Tensor: shape=(100, 200, 400), dtype=float32, numpy=\n",
              "array([[[-3.67040008e-01,  2.20867574e-01,  8.06772113e-01, ...,\n",
              "         -1.07057512e+00,  6.60901487e-01,  8.04134488e-01],\n",
              "        [ 1.36507618e+00,  2.82662392e-01,  5.94451034e-04, ...,\n",
              "         -1.62071973e-01, -7.80871034e-01, -3.65820110e-01],\n",
              "        [-5.62091023e-02,  9.66490448e-01, -3.27239484e-01, ...,\n",
              "          2.68775243e-02,  5.17131150e-01, -1.63533652e+00],\n",
              "        ...,\n",
              "        [-1.34097266e+00, -6.94337208e-03,  9.28337276e-01, ...,\n",
              "         -4.40602899e-01,  4.57870305e-01,  1.38161004e-01],\n",
              "        [-7.33488679e-01,  8.55326712e-01, -8.07414114e-01, ...,\n",
              "         -1.66622356e-01,  2.43197873e-01, -3.35510612e-01],\n",
              "        [ 1.63056564e+00, -9.04683694e-02, -2.48759077e-03, ...,\n",
              "         -4.83196437e-01, -1.54812008e-01, -4.84593391e-01]],\n",
              "\n",
              "       [[ 1.68996245e-01,  2.65479922e-01,  6.17370427e-01, ...,\n",
              "         -5.97267091e-01, -4.76649582e-01, -1.05058682e+00],\n",
              "        [-1.15300052e-01, -7.89234459e-01, -6.83949709e-01, ...,\n",
              "          2.60729402e-01,  4.85235023e+00,  8.02514613e-01],\n",
              "        [-7.48947114e-02,  8.77359450e-01, -2.29854003e-01, ...,\n",
              "          1.04676122e-02, -2.01488733e-01,  7.58341234e-03],\n",
              "        ...,\n",
              "        [ 2.12255567e-02,  1.66188627e-01, -4.47789580e-02, ...,\n",
              "          1.34352231e+00,  7.45915696e-02, -2.10150862e+00],\n",
              "        [ 6.04044974e-01,  3.24486583e-01, -6.44302964e-01, ...,\n",
              "          6.87468529e-01,  1.19678390e+00, -1.70284069e+00],\n",
              "        [ 2.85486221e-01, -1.58431339e+00, -3.21430061e-03, ...,\n",
              "         -6.04817681e-02,  1.79046895e-02, -7.97321558e-01]],\n",
              "\n",
              "       [[ 1.84225798e+00, -1.40133858e+00,  1.91478932e+00, ...,\n",
              "          8.18268418e-01, -2.82822579e-01, -1.56925730e-02],\n",
              "        [-4.99942712e-02,  4.04266787e+00, -1.66322827e+00, ...,\n",
              "          8.50076377e-02,  9.00563061e-01,  1.18321562e+00],\n",
              "        [ 8.85711372e-01,  8.60189367e-03,  1.63848341e+00, ...,\n",
              "         -3.54503542e-01,  2.17484069e+00, -5.63660026e-01],\n",
              "        ...,\n",
              "        [ 4.99684885e-02,  2.07274809e-01,  7.15393543e-01, ...,\n",
              "         -2.57785648e-01,  7.08957493e-01, -6.63133383e-01],\n",
              "        [-3.34820032e-01,  1.47876620e-01,  9.99504924e-02, ...,\n",
              "          1.52162397e-02,  3.42623413e-01,  6.71870410e-01],\n",
              "        [ 1.10794127e-01,  7.50981510e-01, -2.91190147e-01, ...,\n",
              "          1.43788412e-01, -1.03754126e-01,  1.29956865e+00]],\n",
              "\n",
              "       ...,\n",
              "\n",
              "       [[ 8.54723155e-01, -9.51856747e-02,  1.22171497e+00, ...,\n",
              "          6.52271032e-01, -3.74418557e-01,  1.35902250e+00],\n",
              "        [-2.12250304e+00, -2.00978205e-01, -2.51709949e-02, ...,\n",
              "         -3.20849158e-02, -1.11319017e+00, -1.70972764e-01],\n",
              "        [ 4.51633595e-02, -1.75456822e+00, -4.99715135e-02, ...,\n",
              "         -1.07558966e-01,  2.32271805e-01,  6.29335999e-01],\n",
              "        ...,\n",
              "        [-1.75230175e-01, -1.10192642e-01, -9.97130632e-01, ...,\n",
              "         -9.46660459e-01,  8.43454897e-01, -1.31593823e+00],\n",
              "        [-4.17317748e-02, -3.07511330e-01,  1.43480405e-01, ...,\n",
              "          1.72045708e-01,  2.33634830e-01, -4.65031683e-01],\n",
              "        [ 2.84604818e-01, -2.20981091e-01, -2.29459643e+00, ...,\n",
              "          2.32295662e-01, -6.53620601e-01, -5.95498923e-03]],\n",
              "\n",
              "       [[ 6.40125096e-01,  7.62602746e-01,  7.08918631e-01, ...,\n",
              "          1.42257452e+00,  1.75241435e+00,  1.56682953e-01],\n",
              "        [-8.49707901e-01, -1.05292544e-01,  2.40719184e-01, ...,\n",
              "         -1.18114263e-01,  5.23212731e-01,  5.88894039e-02],\n",
              "        [-1.48930535e-01, -1.89287499e-01, -9.23874527e-02, ...,\n",
              "         -1.31435275e-01, -3.92249703e-01, -1.80676281e-02],\n",
              "        ...,\n",
              "        [-4.12846714e-01,  5.37346937e-02,  2.77441680e-01, ...,\n",
              "         -8.69747698e-01, -1.57236084e-01, -1.28509510e+00],\n",
              "        [ 1.91424668e-01,  1.17990565e+00, -6.98274970e-01, ...,\n",
              "         -6.43510520e-01,  8.33842456e-02, -5.02707899e-01],\n",
              "        [-8.19078088e-01, -4.70683038e-01,  3.51068340e-02, ...,\n",
              "          1.61382556e-01,  6.69294715e-01, -3.17639619e-01]],\n",
              "\n",
              "       [[-6.41562104e-01,  7.77913988e-01, -5.41280866e-01, ...,\n",
              "         -8.82572606e-02, -2.21013606e-01, -5.07857323e-01],\n",
              "        [ 1.31357968e+00, -3.56384069e-01, -5.63555002e-01, ...,\n",
              "         -1.18629360e+00, -5.57347536e-01,  7.13554770e-02],\n",
              "        [-1.42993033e+00,  2.83166498e-01, -7.10858345e-01, ...,\n",
              "         -2.13424057e-01, -6.37376070e-01, -2.37803943e-02],\n",
              "        ...,\n",
              "        [ 3.69499862e-01,  1.93328872e-01, -3.09192389e-02, ...,\n",
              "         -5.95168630e-03,  1.92181556e-03,  4.12126891e-02],\n",
              "        [-2.47587919e+00,  8.94327760e-02,  8.73323604e-02, ...,\n",
              "          3.56406122e-01, -6.22457027e-01,  3.07173520e-01],\n",
              "        [-4.17547822e-01,  5.55290103e-01, -2.08517313e+00, ...,\n",
              "          1.12905674e-01, -1.26176067e-02, -5.28297484e-01]]],\n",
              "      dtype=float32)>"
            ]
          },
          "metadata": {},
          "execution_count": 118
        }
      ]
    },
    {
      "cell_type": "markdown",
      "source": [
        "Damn, still no changes in runtime. But, trust me, it helps. Please not those examples above are element wise multiplications instead of dot products\n",
        "\n",
        "**Now let's take a look at the concept of matrix multiplications**\n",
        "\n",
        "One of the most common operations in ML, different from multiplying matrices to a scalar (a simple one for those with a pinch of knowledge in linear algebra), but instead doing dot product multiplications\n",
        "\n",
        "**There are two rules to matrix multiplication:**\n",
        "\n",
        "1. The inner dimensions must match\n",
        "2. The resulting matrix has the shape of the outer dimensions"
      ],
      "metadata": {
        "id": "baAPd2F7Jmlo"
      }
    },
    {
      "cell_type": "code",
      "source": [
        "# Matrix multiplication in tensorflow with tf.linalg.matmul\n",
        "print(tensor)\n",
        "tf.matmul(tensor, tensor), tf.multiply(tensor, tensor) # Just to have an example of the difference between dot product and element wise multiplication"
      ],
      "metadata": {
        "colab": {
          "base_uri": "https://localhost:8080/"
        },
        "id": "aZV-V_IrJwQ-",
        "outputId": "4359bc9e-7edc-490e-8886-7d9aed8e90b9"
      },
      "execution_count": 122,
      "outputs": [
        {
          "output_type": "stream",
          "name": "stdout",
          "text": [
            "tf.Tensor(\n",
            "[[10  7]\n",
            " [ 3  4]], shape=(2, 2), dtype=int32)\n"
          ]
        },
        {
          "output_type": "execute_result",
          "data": {
            "text/plain": [
              "(<tf.Tensor: shape=(2, 2), dtype=int32, numpy=\n",
              " array([[121,  98],\n",
              "        [ 42,  37]], dtype=int32)>,\n",
              " <tf.Tensor: shape=(2, 2), dtype=int32, numpy=\n",
              " array([[100,  49],\n",
              "        [  9,  16]], dtype=int32)>)"
            ]
          },
          "metadata": {},
          "execution_count": 122
        }
      ]
    },
    {
      "cell_type": "code",
      "source": [
        "# Python has its own operator for matrix multiplication '@'\n",
        "tensor @ tensor"
      ],
      "metadata": {
        "colab": {
          "base_uri": "https://localhost:8080/"
        },
        "id": "7uX50tz_LyKe",
        "outputId": "1932d055-9183-4819-ad78-95f737f986d9"
      },
      "execution_count": 123,
      "outputs": [
        {
          "output_type": "execute_result",
          "data": {
            "text/plain": [
              "<tf.Tensor: shape=(2, 2), dtype=int32, numpy=\n",
              "array([[121,  98],\n",
              "       [ 42,  37]], dtype=int32)>"
            ]
          },
          "metadata": {},
          "execution_count": 123
        }
      ]
    },
    {
      "cell_type": "code",
      "source": [
        "# Multiplying tensors of different shapes\n",
        "# Create a (3, 2) tensor\n",
        "X = tf.constant([\n",
        "    [1, 2],\n",
        "    [3, 4],\n",
        "    [6, 7]\n",
        "])\n",
        "\n",
        "# Create another (3, 4) tensor\n",
        "Y = tf.constant([\n",
        "    [7, 8],\n",
        "    [9, 10],\n",
        "    [11, 12]\n",
        "])\n",
        "\n",
        "X, Y"
      ],
      "metadata": {
        "colab": {
          "base_uri": "https://localhost:8080/"
        },
        "id": "52Fp907IMf2h",
        "outputId": "fc1328f4-d521-4858-8fa4-e7c78660600f"
      },
      "execution_count": 126,
      "outputs": [
        {
          "output_type": "execute_result",
          "data": {
            "text/plain": [
              "(<tf.Tensor: shape=(3, 2), dtype=int32, numpy=\n",
              " array([[1, 2],\n",
              "        [3, 4],\n",
              "        [6, 7]], dtype=int32)>,\n",
              " <tf.Tensor: shape=(3, 2), dtype=int32, numpy=\n",
              " array([[ 7,  8],\n",
              "        [ 9, 10],\n",
              "        [11, 12]], dtype=int32)>)"
            ]
          },
          "metadata": {},
          "execution_count": 126
        }
      ]
    },
    {
      "cell_type": "code",
      "source": [
        "# Try to matrix multiply\n",
        "X * Y, tf.matmul(X,Y) # Both will return a size incompatible error."
      ],
      "metadata": {
        "colab": {
          "base_uri": "https://localhost:8080/",
          "height": 365
        },
        "id": "B5iXZi6dPEav",
        "outputId": "72d22bbc-e88f-4e14-d3fa-067fda671089"
      },
      "execution_count": 127,
      "outputs": [
        {
          "output_type": "error",
          "ename": "InvalidArgumentError",
          "evalue": "ignored",
          "traceback": [
            "\u001b[0;31m---------------------------------------------------------------------------\u001b[0m",
            "\u001b[0;31mInvalidArgumentError\u001b[0m                      Traceback (most recent call last)",
            "\u001b[0;32m<ipython-input-127-e03f5875fff9>\u001b[0m in \u001b[0;36m<cell line: 2>\u001b[0;34m()\u001b[0m\n\u001b[1;32m      1\u001b[0m \u001b[0;31m# Try to matrix multiply\u001b[0m\u001b[0;34m\u001b[0m\u001b[0;34m\u001b[0m\u001b[0m\n\u001b[0;32m----> 2\u001b[0;31m \u001b[0mX\u001b[0m \u001b[0;34m*\u001b[0m \u001b[0mY\u001b[0m\u001b[0;34m,\u001b[0m \u001b[0mtf\u001b[0m\u001b[0;34m.\u001b[0m\u001b[0mmatmul\u001b[0m\u001b[0;34m(\u001b[0m\u001b[0mX\u001b[0m\u001b[0;34m,\u001b[0m\u001b[0mY\u001b[0m\u001b[0;34m)\u001b[0m\u001b[0;34m\u001b[0m\u001b[0;34m\u001b[0m\u001b[0m\n\u001b[0m",
            "\u001b[0;32m/usr/local/lib/python3.10/dist-packages/tensorflow/python/util/traceback_utils.py\u001b[0m in \u001b[0;36merror_handler\u001b[0;34m(*args, **kwargs)\u001b[0m\n\u001b[1;32m    151\u001b[0m     \u001b[0;32mexcept\u001b[0m \u001b[0mException\u001b[0m \u001b[0;32mas\u001b[0m \u001b[0me\u001b[0m\u001b[0;34m:\u001b[0m\u001b[0;34m\u001b[0m\u001b[0;34m\u001b[0m\u001b[0m\n\u001b[1;32m    152\u001b[0m       \u001b[0mfiltered_tb\u001b[0m \u001b[0;34m=\u001b[0m \u001b[0m_process_traceback_frames\u001b[0m\u001b[0;34m(\u001b[0m\u001b[0me\u001b[0m\u001b[0;34m.\u001b[0m\u001b[0m__traceback__\u001b[0m\u001b[0;34m)\u001b[0m\u001b[0;34m\u001b[0m\u001b[0;34m\u001b[0m\u001b[0m\n\u001b[0;32m--> 153\u001b[0;31m       \u001b[0;32mraise\u001b[0m \u001b[0me\u001b[0m\u001b[0;34m.\u001b[0m\u001b[0mwith_traceback\u001b[0m\u001b[0;34m(\u001b[0m\u001b[0mfiltered_tb\u001b[0m\u001b[0;34m)\u001b[0m \u001b[0;32mfrom\u001b[0m \u001b[0;32mNone\u001b[0m\u001b[0;34m\u001b[0m\u001b[0;34m\u001b[0m\u001b[0m\n\u001b[0m\u001b[1;32m    154\u001b[0m     \u001b[0;32mfinally\u001b[0m\u001b[0;34m:\u001b[0m\u001b[0;34m\u001b[0m\u001b[0;34m\u001b[0m\u001b[0m\n\u001b[1;32m    155\u001b[0m       \u001b[0;32mdel\u001b[0m \u001b[0mfiltered_tb\u001b[0m\u001b[0;34m\u001b[0m\u001b[0;34m\u001b[0m\u001b[0m\n",
            "\u001b[0;32m/usr/local/lib/python3.10/dist-packages/tensorflow/python/framework/ops.py\u001b[0m in \u001b[0;36mraise_from_not_ok_status\u001b[0;34m(e, name)\u001b[0m\n\u001b[1;32m   6654\u001b[0m \u001b[0;32mdef\u001b[0m \u001b[0mraise_from_not_ok_status\u001b[0m\u001b[0;34m(\u001b[0m\u001b[0me\u001b[0m\u001b[0;34m,\u001b[0m \u001b[0mname\u001b[0m\u001b[0;34m)\u001b[0m\u001b[0;34m:\u001b[0m\u001b[0;34m\u001b[0m\u001b[0;34m\u001b[0m\u001b[0m\n\u001b[1;32m   6655\u001b[0m   \u001b[0me\u001b[0m\u001b[0;34m.\u001b[0m\u001b[0mmessage\u001b[0m \u001b[0;34m+=\u001b[0m \u001b[0;34m(\u001b[0m\u001b[0;34m\" name: \"\u001b[0m \u001b[0;34m+\u001b[0m \u001b[0mstr\u001b[0m\u001b[0;34m(\u001b[0m\u001b[0mname\u001b[0m \u001b[0;32mif\u001b[0m \u001b[0mname\u001b[0m \u001b[0;32mis\u001b[0m \u001b[0;32mnot\u001b[0m \u001b[0;32mNone\u001b[0m \u001b[0;32melse\u001b[0m \u001b[0;34m\"\"\u001b[0m\u001b[0;34m)\u001b[0m\u001b[0;34m)\u001b[0m\u001b[0;34m\u001b[0m\u001b[0;34m\u001b[0m\u001b[0m\n\u001b[0;32m-> 6656\u001b[0;31m   \u001b[0;32mraise\u001b[0m \u001b[0mcore\u001b[0m\u001b[0;34m.\u001b[0m\u001b[0m_status_to_exception\u001b[0m\u001b[0;34m(\u001b[0m\u001b[0me\u001b[0m\u001b[0;34m)\u001b[0m \u001b[0;32mfrom\u001b[0m \u001b[0;32mNone\u001b[0m  \u001b[0;31m# pylint: disable=protected-access\u001b[0m\u001b[0;34m\u001b[0m\u001b[0;34m\u001b[0m\u001b[0m\n\u001b[0m\u001b[1;32m   6657\u001b[0m \u001b[0;34m\u001b[0m\u001b[0m\n\u001b[1;32m   6658\u001b[0m \u001b[0;34m\u001b[0m\u001b[0m\n",
            "\u001b[0;31mInvalidArgumentError\u001b[0m: {{function_node __wrapped__MatMul_device_/job:localhost/replica:0/task:0/device:CPU:0}} Matrix size-incompatible: In[0]: [3,2], In[1]: [3,2] [Op:MatMul] name: "
          ]
        }
      ]
    },
    {
      "cell_type": "code",
      "source": [
        "# So how do I make this inner dimensions match?\n",
        "X.shape, Y.shape, X, Y"
      ],
      "metadata": {
        "id": "FTA5amZnPW98",
        "colab": {
          "base_uri": "https://localhost:8080/"
        },
        "outputId": "417bfd50-4cfb-410a-b55e-2927733a9621"
      },
      "execution_count": 130,
      "outputs": [
        {
          "output_type": "execute_result",
          "data": {
            "text/plain": [
              "(TensorShape([3, 2]),\n",
              " TensorShape([3, 2]),\n",
              " <tf.Tensor: shape=(3, 2), dtype=int32, numpy=\n",
              " array([[1, 2],\n",
              "        [3, 4],\n",
              "        [6, 7]], dtype=int32)>,\n",
              " <tf.Tensor: shape=(3, 2), dtype=int32, numpy=\n",
              " array([[ 7,  8],\n",
              "        [ 9, 10],\n",
              "        [11, 12]], dtype=int32)>)"
            ]
          },
          "metadata": {},
          "execution_count": 130
        }
      ]
    },
    {
      "cell_type": "markdown",
      "source": [
        "#### If I take the second matrix as my utility to fix this I might want to add a dimension to it. However, this are constant tensors!!! Now what?\n",
        "\n",
        " For illustration, here, inside numbers for X 3x2 and Y 3x2 Matrices will be 2 & 3 (3x'2 3'x2) While numbers on the outside is the final matrix shape (3x2).\n",
        "\n",
        " However, as numbers on the inside does not match, this matmul cannot be solved\n",
        "\n",
        "So let's reshape the second matrix again, apparently, even for a constant tensor a reshape() is possible (I guess it is because the content itself does not change)"
      ],
      "metadata": {
        "id": "pwPw7C-DQX4N"
      }
    },
    {
      "cell_type": "code",
      "source": [
        "Y"
      ],
      "metadata": {
        "colab": {
          "base_uri": "https://localhost:8080/"
        },
        "id": "R7CoV0n4e8Z_",
        "outputId": "ab66409a-8b2d-427b-a2e9-554478d8a01c"
      },
      "execution_count": 135,
      "outputs": [
        {
          "output_type": "execute_result",
          "data": {
            "text/plain": [
              "<tf.Tensor: shape=(3, 2), dtype=int32, numpy=\n",
              "array([[ 7,  8],\n",
              "       [ 9, 10],\n",
              "       [11, 12]], dtype=int32)>"
            ]
          },
          "metadata": {},
          "execution_count": 135
        }
      ]
    },
    {
      "cell_type": "code",
      "source": [
        "tf.reshape(Y, shape=(2,3))"
      ],
      "metadata": {
        "colab": {
          "base_uri": "https://localhost:8080/"
        },
        "id": "NF8u8hNLe08r",
        "outputId": "e1de360b-d0ce-4320-c5b4-fff031247066"
      },
      "execution_count": 133,
      "outputs": [
        {
          "output_type": "execute_result",
          "data": {
            "text/plain": [
              "<tf.Tensor: shape=(2, 3), dtype=int32, numpy=\n",
              "array([[ 7,  8,  9],\n",
              "       [10, 11, 12]], dtype=int32)>"
            ]
          },
          "metadata": {},
          "execution_count": 133
        }
      ]
    },
    {
      "cell_type": "code",
      "source": [
        "# Try the multiplicaition now\n",
        "X @ tf.reshape(Y, shape=(2,3)) # It works!"
      ],
      "metadata": {
        "colab": {
          "base_uri": "https://localhost:8080/"
        },
        "id": "7ZLeKX_Ge3r6",
        "outputId": "b0e48926-3b5c-4321-89b1-4ce3c32ef001"
      },
      "execution_count": 136,
      "outputs": [
        {
          "output_type": "execute_result",
          "data": {
            "text/plain": [
              "<tf.Tensor: shape=(3, 3), dtype=int32, numpy=\n",
              "array([[ 27,  30,  33],\n",
              "       [ 61,  68,  75],\n",
              "       [112, 125, 138]], dtype=int32)>"
            ]
          },
          "metadata": {},
          "execution_count": 136
        }
      ]
    },
    {
      "cell_type": "code",
      "source": [
        "# Again, it works using tf.matmul as well\n",
        "tf.matmul(X, tf.reshape(Y, shape=(2,3)))"
      ],
      "metadata": {
        "colab": {
          "base_uri": "https://localhost:8080/"
        },
        "id": "r0-J20dEe6bX",
        "outputId": "2f883e72-029d-4079-dd67-1281d4a743f5"
      },
      "execution_count": 138,
      "outputs": [
        {
          "output_type": "execute_result",
          "data": {
            "text/plain": [
              "<tf.Tensor: shape=(3, 3), dtype=int32, numpy=\n",
              "array([[ 27,  30,  33],\n",
              "       [ 61,  68,  75],\n",
              "       [112, 125, 138]], dtype=int32)>"
            ]
          },
          "metadata": {},
          "execution_count": 138
        }
      ]
    },
    {
      "cell_type": "code",
      "source": [
        "# This will work even if we change X instead of Y\n",
        "tf.matmul(tf.reshape(X, shape=(2,3)), Y)"
      ],
      "metadata": {
        "colab": {
          "base_uri": "https://localhost:8080/"
        },
        "id": "B5VMCPyDfIsV",
        "outputId": "a6a85821-602d-43bb-dce5-6ab77e675e10"
      },
      "execution_count": 139,
      "outputs": [
        {
          "output_type": "execute_result",
          "data": {
            "text/plain": [
              "<tf.Tensor: shape=(2, 2), dtype=int32, numpy=\n",
              "array([[ 58,  64],\n",
              "       [159, 176]], dtype=int32)>"
            ]
          },
          "metadata": {},
          "execution_count": 139
        }
      ]
    },
    {
      "cell_type": "code",
      "source": [
        "# Can do the same with transpose (bc of our dimensions) but the transpose will change numbers in a different way\n",
        "# Transpose shifts the axes, while reshape just shuffles values around to fit your shape (when possible)\n",
        "X, tf.transpose(X), tf.reshape(X, shape=(2,3))"
      ],
      "metadata": {
        "colab": {
          "base_uri": "https://localhost:8080/"
        },
        "id": "ziby6DbZfRQ4",
        "outputId": "f83c6110-a084-4873-eb5c-f4d43ae50efd"
      },
      "execution_count": 140,
      "outputs": [
        {
          "output_type": "execute_result",
          "data": {
            "text/plain": [
              "(<tf.Tensor: shape=(3, 2), dtype=int32, numpy=\n",
              " array([[1, 2],\n",
              "        [3, 4],\n",
              "        [6, 7]], dtype=int32)>,\n",
              " <tf.Tensor: shape=(2, 3), dtype=int32, numpy=\n",
              " array([[1, 3, 6],\n",
              "        [2, 4, 7]], dtype=int32)>,\n",
              " <tf.Tensor: shape=(2, 3), dtype=int32, numpy=\n",
              " array([[1, 2, 3],\n",
              "        [4, 6, 7]], dtype=int32)>)"
            ]
          },
          "metadata": {},
          "execution_count": 140
        }
      ]
    },
    {
      "cell_type": "markdown",
      "source": [
        "_Some times, not all of them, we would need to reshape our data_"
      ],
      "metadata": {
        "id": "Qu4-bbpagWbx"
      }
    },
    {
      "cell_type": "markdown",
      "source": [
        "**The dot product**\n",
        "\n",
        "Matrix multriplication is also referred as the dot product which can be computed using:\n",
        "- `@`\n",
        "- `tf.matmul`\n",
        "\n",
        "Remember that the inner numbers of the matrices to be dot producted need to match, this can be achieved through a reshape or a transposed getting different results for each."
      ],
      "metadata": {
        "id": "rNA3qBpxhL2u"
      }
    },
    {
      "cell_type": "code",
      "source": [
        "#Lets calc the dot product for X and Y using tf.tensordot()\n",
        "tf.tensordot(X, tf.transpose(Y), axes=1) # Needs to receive an axius"
      ],
      "metadata": {
        "id": "SKATGiEbhVNf",
        "colab": {
          "base_uri": "https://localhost:8080/"
        },
        "outputId": "e48a6f7b-3bd2-4f0e-e2c9-dcbdd160870d"
      },
      "execution_count": 141,
      "outputs": [
        {
          "output_type": "execute_result",
          "data": {
            "text/plain": [
              "<tf.Tensor: shape=(3, 3), dtype=int32, numpy=\n",
              "array([[ 23,  29,  35],\n",
              "       [ 53,  67,  81],\n",
              "       [ 98, 124, 150]], dtype=int32)>"
            ]
          },
          "metadata": {},
          "execution_count": 141
        }
      ]
    },
    {
      "cell_type": "code",
      "source": [
        "# Perform matmul with Y transposed\n",
        "tf.matmul(X, tf.transpose(Y))"
      ],
      "metadata": {
        "colab": {
          "base_uri": "https://localhost:8080/"
        },
        "id": "RObTHNSJiDyV",
        "outputId": "0a90b8fb-e6ab-40e0-ff18-891479cc0f46"
      },
      "execution_count": 142,
      "outputs": [
        {
          "output_type": "execute_result",
          "data": {
            "text/plain": [
              "<tf.Tensor: shape=(3, 3), dtype=int32, numpy=\n",
              "array([[ 23,  29,  35],\n",
              "       [ 53,  67,  81],\n",
              "       [ 98, 124, 150]], dtype=int32)>"
            ]
          },
          "metadata": {},
          "execution_count": 142
        }
      ]
    },
    {
      "cell_type": "code",
      "source": [
        "# Now let's perform matmul with reshape\n",
        "tf.matmul(X, tf.reshape(Y, shape=(2,3)))"
      ],
      "metadata": {
        "colab": {
          "base_uri": "https://localhost:8080/"
        },
        "id": "FlvRuRybiOOy",
        "outputId": "3a93deb1-46b7-41e9-f0cb-71fab90bf9ec"
      },
      "execution_count": 143,
      "outputs": [
        {
          "output_type": "execute_result",
          "data": {
            "text/plain": [
              "<tf.Tensor: shape=(3, 3), dtype=int32, numpy=\n",
              "array([[ 27,  30,  33],\n",
              "       [ 61,  68,  75],\n",
              "       [112, 125, 138]], dtype=int32)>"
            ]
          },
          "metadata": {},
          "execution_count": 143
        }
      ]
    },
    {
      "cell_type": "code",
      "source": [
        "# Check values for illustration\n",
        "print(\"Initial Y values: \")\n",
        "print(Y, \"\\n\")\n",
        "\n",
        "print(\"Y reshaped to (2,3): \")\n",
        "print(tf.reshape(Y, shape=(2,3)), \"\\n\")\n",
        "\n",
        "print(\"Transposed values of Y: \")\n",
        "print(tf.transpose(Y), \"\\n\") # This type of \"logging\" is useful to investigate silent errors (errors that will still get the code running but give unexpected behaviors)"
      ],
      "metadata": {
        "colab": {
          "base_uri": "https://localhost:8080/"
        },
        "id": "Xhnmz0fEiXcZ",
        "outputId": "5611b1a8-e90e-49d8-98d4-f55401da2cbc"
      },
      "execution_count": 147,
      "outputs": [
        {
          "output_type": "stream",
          "name": "stdout",
          "text": [
            "Initial Y values: \n",
            "tf.Tensor(\n",
            "[[ 7  8]\n",
            " [ 9 10]\n",
            " [11 12]], shape=(3, 2), dtype=int32) \n",
            "\n",
            "Y reshaped to (2,3): \n",
            "tf.Tensor(\n",
            "[[ 7  8  9]\n",
            " [10 11 12]], shape=(2, 3), dtype=int32) \n",
            "\n",
            "Transposed values of Y: \n",
            "tf.Tensor(\n",
            "[[ 7  9 11]\n",
            " [ 8 10 12]], shape=(2, 3), dtype=int32) \n",
            "\n"
          ]
        }
      ]
    },
    {
      "cell_type": "markdown",
      "source": [
        "Generally when performing matrix multiplications on two tensors with unmatching shapes you'd transpose the matrix rather than reshaping it\n",
        "### Now let's check what if we need to change the datatype of a tensor"
      ],
      "metadata": {
        "id": "0Vkw_kJFimTT"
      }
    },
    {
      "cell_type": "code",
      "source": [
        "# Create a tensor with default float32\n",
        "B = tf.constant([1.7, 7.4])\n",
        "\n",
        "C = tf.constant([7,10])\n",
        "\n",
        "B, C"
      ],
      "metadata": {
        "colab": {
          "base_uri": "https://localhost:8080/"
        },
        "id": "bR-qjUBkjIwz",
        "outputId": "5a9f86ab-09a2-405a-9f70-366850ebf608"
      },
      "execution_count": 151,
      "outputs": [
        {
          "output_type": "execute_result",
          "data": {
            "text/plain": [
              "(<tf.Tensor: shape=(2,), dtype=float32, numpy=array([1.7, 7.4], dtype=float32)>,\n",
              " <tf.Tensor: shape=(2,), dtype=int32, numpy=array([ 7, 10], dtype=int32)>)"
            ]
          },
          "metadata": {},
          "execution_count": 151
        }
      ]
    },
    {
      "cell_type": "code",
      "source": [
        "# Change from float32 to float16 for reduced precision. float32 will have a 32 bit precision while float16 and bfloat16 take half the space\n",
        "B = tf.cast(B, dtype=tf.float16)\n",
        "\n",
        "C = tf.cast(C, dtype=tf.bfloat16)\n",
        "\n",
        "B,C"
      ],
      "metadata": {
        "colab": {
          "base_uri": "https://localhost:8080/"
        },
        "id": "mgppfoMZjfMF",
        "outputId": "e67c1f9f-7b3c-41fe-d8e4-580b21707281"
      },
      "execution_count": 154,
      "outputs": [
        {
          "output_type": "execute_result",
          "data": {
            "text/plain": [
              "(<tf.Tensor: shape=(2,), dtype=float16, numpy=array([1.7, 7.4], dtype=float16)>,\n",
              " <tf.Tensor: shape=(2,), dtype=bfloat16, numpy=array([7, 10], dtype=bfloat16)>)"
            ]
          },
          "metadata": {},
          "execution_count": 154
        }
      ]
    },
    {
      "cell_type": "markdown",
      "source": [
        "### Let's Aggregate tensors now\n",
        "\n",
        "Aggregating tensors = condensing them from multiple values to a smaller amount of values"
      ],
      "metadata": {
        "id": "LpOOa3nej7sK"
      }
    },
    {
      "cell_type": "code",
      "source": [
        "# Get the absolute values (Maybe not the best form of aggregation to start with, but honestly I don't care. I've been coding all day long)\n",
        "D = tf.constant([-7, -10])\n",
        "D"
      ],
      "metadata": {
        "colab": {
          "base_uri": "https://localhost:8080/"
        },
        "id": "b3t8nB3Pl_vO",
        "outputId": "011ac075-6ee3-4bc0-d543-219f864278a7"
      },
      "execution_count": 159,
      "outputs": [
        {
          "output_type": "execute_result",
          "data": {
            "text/plain": [
              "<tf.Tensor: shape=(2,), dtype=int32, numpy=array([ -7, -10], dtype=int32)>"
            ]
          },
          "metadata": {},
          "execution_count": 159
        }
      ]
    },
    {
      "cell_type": "code",
      "source": [
        "tf.abs(D)"
      ],
      "metadata": {
        "colab": {
          "base_uri": "https://localhost:8080/"
        },
        "id": "8xRULnNtmIHM",
        "outputId": "2cf6524c-d2e1-46a8-d583-8245c8ae9308"
      },
      "execution_count": 157,
      "outputs": [
        {
          "output_type": "execute_result",
          "data": {
            "text/plain": [
              "<tf.Tensor: shape=(2,), dtype=int32, numpy=array([ 7, 10], dtype=int32)>"
            ]
          },
          "metadata": {},
          "execution_count": 157
        }
      ]
    },
    {
      "cell_type": "markdown",
      "source": [
        "\n",
        "Let's go through different forms of aggregation:\n",
        "- Minimum\n",
        "- Maximum\n",
        "- The mean\n",
        "- The sum\n",
        "\n",
        "`tf uses the reduce_'something' for aggregation'`"
      ],
      "metadata": {
        "id": "YHAH1tgbmQYx"
      }
    },
    {
      "cell_type": "code",
      "source": [
        "# Create a random tensor with values between 0 and 100 of size 50\n",
        "E = tf.constant(np.random.randint(0,100, size=50))\n",
        "E"
      ],
      "metadata": {
        "colab": {
          "base_uri": "https://localhost:8080/"
        },
        "id": "w8uNORlCmbI_",
        "outputId": "272aaef0-8649-4a4b-b654-253ce09547c3"
      },
      "execution_count": 169,
      "outputs": [
        {
          "output_type": "execute_result",
          "data": {
            "text/plain": [
              "<tf.Tensor: shape=(50,), dtype=int64, numpy=\n",
              "array([30, 45, 85, 37, 63, 35, 72, 83, 79, 29, 53,  8,  7,  5, 76, 43, 82,\n",
              "       48, 17, 65, 48,  0, 14, 51,  2, 47, 69, 86, 39, 17, 35, 67, 84, 67,\n",
              "       25, 37, 50, 68, 75, 33, 89, 23, 13, 69, 73, 91, 83, 11, 59, 25])>"
            ]
          },
          "metadata": {},
          "execution_count": 169
        }
      ]
    },
    {
      "cell_type": "code",
      "source": [
        "tf.size(E), E.ndim, E.shape"
      ],
      "metadata": {
        "colab": {
          "base_uri": "https://localhost:8080/"
        },
        "id": "YPfGtEaomeFr",
        "outputId": "2ee030f5-08f3-4a02-bebd-7306288eaadd"
      },
      "execution_count": 170,
      "outputs": [
        {
          "output_type": "execute_result",
          "data": {
            "text/plain": [
              "(<tf.Tensor: shape=(), dtype=int32, numpy=50>, 1, TensorShape([50]))"
            ]
          },
          "metadata": {},
          "execution_count": 170
        }
      ]
    },
    {
      "cell_type": "code",
      "source": [
        "# Find the minimum\n",
        "tf.reduce_min(E)"
      ],
      "metadata": {
        "colab": {
          "base_uri": "https://localhost:8080/"
        },
        "id": "CbnZ5P8PnRAx",
        "outputId": "0de0ff6f-a8c5-419c-db48-56de85836d94"
      },
      "execution_count": 171,
      "outputs": [
        {
          "output_type": "execute_result",
          "data": {
            "text/plain": [
              "<tf.Tensor: shape=(), dtype=int64, numpy=0>"
            ]
          },
          "metadata": {},
          "execution_count": 171
        }
      ]
    },
    {
      "cell_type": "code",
      "source": [
        "tf.reduce_max(E)"
      ],
      "metadata": {
        "colab": {
          "base_uri": "https://localhost:8080/"
        },
        "id": "O8mo0Cz3nXPF",
        "outputId": "258b9a3f-1f51-45e1-a4db-01b26dca274e"
      },
      "execution_count": 172,
      "outputs": [
        {
          "output_type": "execute_result",
          "data": {
            "text/plain": [
              "<tf.Tensor: shape=(), dtype=int64, numpy=91>"
            ]
          },
          "metadata": {},
          "execution_count": 172
        }
      ]
    },
    {
      "cell_type": "code",
      "source": [
        "tf.reduce_mean(E)"
      ],
      "metadata": {
        "colab": {
          "base_uri": "https://localhost:8080/"
        },
        "id": "w3tpeaRdnbVx",
        "outputId": "cd2260e2-2d13-4142-8e84-207e0edd9e9a"
      },
      "execution_count": 173,
      "outputs": [
        {
          "output_type": "execute_result",
          "data": {
            "text/plain": [
              "<tf.Tensor: shape=(), dtype=int64, numpy=48>"
            ]
          },
          "metadata": {},
          "execution_count": 173
        }
      ]
    },
    {
      "cell_type": "code",
      "source": [
        "tf.reduce_sum(E)"
      ],
      "metadata": {
        "colab": {
          "base_uri": "https://localhost:8080/"
        },
        "id": "7EEBu88kncOH",
        "outputId": "0ecd45e0-405d-42f3-914b-50e194e47f45"
      },
      "execution_count": 174,
      "outputs": [
        {
          "output_type": "execute_result",
          "data": {
            "text/plain": [
              "<tf.Tensor: shape=(), dtype=int64, numpy=2412>"
            ]
          },
          "metadata": {},
          "execution_count": 174
        }
      ]
    },
    {
      "cell_type": "markdown",
      "source": [
        "#### I just figured out I populated the matrix as a normal population instead of properly going truh each of its rows and columns separately, so just skip ahead to the next section"
      ],
      "metadata": {
        "id": "U5yI8xjNqqRn"
      }
    },
    {
      "cell_type": "code",
      "source": [
        "# We can also compute variance using tf operations\n",
        "E_variance = 0\n",
        "for i in E:\n",
        "  E_variance = np.power(i - tf.reduce_mean(E), 2)\n",
        "E_variance = E_variance / tf.size(E)\n",
        "E_variance"
      ],
      "metadata": {
        "colab": {
          "base_uri": "https://localhost:8080/"
        },
        "id": "U3z_R4P7neCz",
        "outputId": "43cf3932-8d81-48eb-d407-70dbd5a4cf96"
      },
      "execution_count": 186,
      "outputs": [
        {
          "output_type": "execute_result",
          "data": {
            "text/plain": [
              "<tf.Tensor: shape=(), dtype=float64, numpy=10.58>"
            ]
          },
          "metadata": {},
          "execution_count": 186
        }
      ]
    },
    {
      "cell_type": "code",
      "source": [
        "# Now the std\n",
        "np.sqrt(E_variance)"
      ],
      "metadata": {
        "colab": {
          "base_uri": "https://localhost:8080/"
        },
        "id": "OfcmzbWsoAHh",
        "outputId": "ce43f5b3-f007-4059-c5f0-9e68a1c8af16"
      },
      "execution_count": 187,
      "outputs": [
        {
          "output_type": "execute_result",
          "data": {
            "text/plain": [
              "3.2526911934581184"
            ]
          },
          "metadata": {},
          "execution_count": 187
        }
      ]
    },
    {
      "cell_type": "markdown",
      "source": [
        "#### Here we do it the right (but lazy) way\n",
        "\n",
        "tf.float32 is usually the default type for most operations"
      ],
      "metadata": {
        "id": "1JCWtf2wq4Ik"
      }
    },
    {
      "cell_type": "code",
      "source": [
        "# Now we can actually do the same importing the tensorflow_probability module\n",
        "import tensorflow_probability as tfp\n",
        "tfp.stats.variance(E)"
      ],
      "metadata": {
        "colab": {
          "base_uri": "https://localhost:8080/"
        },
        "id": "GPjATrmlo_Zv",
        "outputId": "d9ca54fa-a837-4a92-8cb9-b55d4dbcf02a"
      },
      "execution_count": 188,
      "outputs": [
        {
          "output_type": "execute_result",
          "data": {
            "text/plain": [
              "<tf.Tensor: shape=(), dtype=int64, numpy=722>"
            ]
          },
          "metadata": {},
          "execution_count": 188
        }
      ]
    },
    {
      "cell_type": "code",
      "source": [
        "# Now the std (needs dtype set to float (pick the bit precision of your preference, just go ahead))\n",
        "tf.math.reduce_std(tf.cast(E, dtype=tf.float32)) #btw, reduce_std needs to be called from tf.math.reduce_std, don't ask me why.\n",
        "# Also happens with tf.math.reduce_variance, so tensorflow_probability might not be truly necessary"
      ],
      "metadata": {
        "colab": {
          "base_uri": "https://localhost:8080/"
        },
        "id": "bLLfhtq_pY-N",
        "outputId": "d4249c95-eb88-4bb8-840e-99dba724a3e7"
      },
      "execution_count": 200,
      "outputs": [
        {
          "output_type": "execute_result",
          "data": {
            "text/plain": [
              "<tf.Tensor: shape=(), dtype=float32, numpy=26.871962>"
            ]
          },
          "metadata": {},
          "execution_count": 200
        }
      ]
    },
    {
      "cell_type": "markdown",
      "source": [
        "### Let's work the positional maximum and minimum.\n",
        "\n",
        "**It is gonna be necesarry when the representation probability outputs store values for a classifier in a whole column and we want to find the right index to better represent our class**\n",
        "\n",
        "- The positional maximum of a tensor is the element-wise maximum of the tensor along a given axis or dimension. It returns a new tensor with the same shape as the original tensor, except for the axis or dimension that is reduced to a single value.\n",
        "\n",
        "The positional maximum can be computed using the tf.math.maximum function in TensorFlow1.\n",
        "\n",
        "- The positional minimum of a tensor is the element-wise minimum of the tensor along a given axis or dimension. It returns a new tensor with the same shape as the original tensor, except for the axis or dimension that is reduced to a single value."
      ],
      "metadata": {
        "id": "bDVQ2J2Gq-lK"
      }
    },
    {
      "cell_type": "code",
      "source": [
        "# Create a new random tensor for finding pos max and pos min\n",
        "tf.random.set_seed(42)\n",
        "F = tf.random.uniform(shape=[50])\n",
        "F"
      ],
      "metadata": {
        "colab": {
          "base_uri": "https://localhost:8080/"
        },
        "id": "xpiHTodHsW15",
        "outputId": "8e67e40b-7a6d-418a-c04a-a19adfa2af94"
      },
      "execution_count": 203,
      "outputs": [
        {
          "output_type": "execute_result",
          "data": {
            "text/plain": [
              "<tf.Tensor: shape=(50,), dtype=float32, numpy=\n",
              "array([0.6645621 , 0.44100678, 0.3528825 , 0.46448255, 0.03366041,\n",
              "       0.68467236, 0.74011743, 0.8724445 , 0.22632635, 0.22319686,\n",
              "       0.3103881 , 0.7223358 , 0.13318717, 0.5480639 , 0.5746088 ,\n",
              "       0.8996835 , 0.00946367, 0.5212307 , 0.6345445 , 0.1993283 ,\n",
              "       0.72942245, 0.54583454, 0.10756552, 0.6767061 , 0.6602763 ,\n",
              "       0.33695042, 0.60141766, 0.21062577, 0.8527372 , 0.44062173,\n",
              "       0.9485276 , 0.23752594, 0.81179297, 0.5263394 , 0.494308  ,\n",
              "       0.21612847, 0.8457197 , 0.8718841 , 0.3083862 , 0.6868038 ,\n",
              "       0.23764038, 0.7817228 , 0.9671384 , 0.06870162, 0.79873943,\n",
              "       0.66028714, 0.5871513 , 0.16461694, 0.7381023 , 0.32054043],\n",
              "      dtype=float32)>"
            ]
          },
          "metadata": {},
          "execution_count": 203
        }
      ]
    },
    {
      "cell_type": "code",
      "source": [
        "# Maximum element position\n",
        "tf.argmax(F)"
      ],
      "metadata": {
        "colab": {
          "base_uri": "https://localhost:8080/"
        },
        "id": "Xg5kEsTvtDBG",
        "outputId": "dcd7c324-2f6b-474d-d255-e25cfaa7ad80"
      },
      "execution_count": 204,
      "outputs": [
        {
          "output_type": "execute_result",
          "data": {
            "text/plain": [
              "<tf.Tensor: shape=(), dtype=int64, numpy=42>"
            ]
          },
          "metadata": {},
          "execution_count": 204
        }
      ]
    },
    {
      "cell_type": "code",
      "source": [
        "# Index on largest value position\n",
        "F[tf.argmax(F)]"
      ],
      "metadata": {
        "colab": {
          "base_uri": "https://localhost:8080/"
        },
        "id": "II5-T2IStOrh",
        "outputId": "ab5763cc-9416-4233-b006-fa5b6474bf6e"
      },
      "execution_count": 205,
      "outputs": [
        {
          "output_type": "execute_result",
          "data": {
            "text/plain": [
              "<tf.Tensor: shape=(), dtype=float32, numpy=0.9671384>"
            ]
          },
          "metadata": {},
          "execution_count": 205
        }
      ]
    },
    {
      "cell_type": "code",
      "source": [
        "tf.reduce_max(F) # This match (remember we are working on a vector)"
      ],
      "metadata": {
        "colab": {
          "base_uri": "https://localhost:8080/"
        },
        "id": "z5MwrlYNtTNc",
        "outputId": "406a9561-586f-4b94-cd21-1b126016f3ea"
      },
      "execution_count": 207,
      "outputs": [
        {
          "output_type": "execute_result",
          "data": {
            "text/plain": [
              "<tf.Tensor: shape=(), dtype=float32, numpy=0.9671384>"
            ]
          },
          "metadata": {},
          "execution_count": 207
        }
      ]
    },
    {
      "cell_type": "code",
      "source": [
        "# Check for equality\n",
        "assert F[tf.argmax(F)] == tf.reduce_max(F) # Shouldn't return an error if this match"
      ],
      "metadata": {
        "id": "-T1Vg2gbtWTh"
      },
      "execution_count": 208,
      "outputs": []
    },
    {
      "cell_type": "code",
      "source": [
        "# Minimum element position\n",
        "tf.argmin(F)"
      ],
      "metadata": {
        "colab": {
          "base_uri": "https://localhost:8080/"
        },
        "id": "Woc3mBCKtkSm",
        "outputId": "c101bed0-8193-4f36-ea61-5ec4242b1917"
      },
      "execution_count": 209,
      "outputs": [
        {
          "output_type": "execute_result",
          "data": {
            "text/plain": [
              "<tf.Tensor: shape=(), dtype=int64, numpy=16>"
            ]
          },
          "metadata": {},
          "execution_count": 209
        }
      ]
    },
    {
      "cell_type": "code",
      "source": [
        "# Index pos min\n",
        "F[tf.argmin(F)]"
      ],
      "metadata": {
        "colab": {
          "base_uri": "https://localhost:8080/"
        },
        "id": "_gJWY5r6tqKd",
        "outputId": "585f3e74-610f-4e30-8376-9c92ff28675a"
      },
      "execution_count": 210,
      "outputs": [
        {
          "output_type": "execute_result",
          "data": {
            "text/plain": [
              "<tf.Tensor: shape=(), dtype=float32, numpy=0.009463668>"
            ]
          },
          "metadata": {},
          "execution_count": 210
        }
      ]
    },
    {
      "cell_type": "code",
      "source": [
        "# Check\n",
        "assert F[tf.argmin(F)] == tf.reduce_min(F)"
      ],
      "metadata": {
        "id": "nLLjoQZjttPZ"
      },
      "execution_count": 211,
      "outputs": []
    },
    {
      "cell_type": "markdown",
      "source": [
        "### Can we squeeze our tensor? (removing all single dimensions)"
      ],
      "metadata": {
        "id": "AubWrkqVtxxW"
      }
    },
    {
      "cell_type": "code",
      "source": [
        "# Create a tensor to get started\n",
        "tf.random.set_seed(42) # Almost forgot to set the seed\n",
        "G = tf.constant(tf.random.uniform(shape=[50]), shape=(1,1,1,1,50)) # Adding some single dimensions right from the start\n",
        "G # Count the brackets that wrap the 50 dimensions"
      ],
      "metadata": {
        "colab": {
          "base_uri": "https://localhost:8080/"
        },
        "id": "tJYRCCQst6EY",
        "outputId": "96357937-1743-4c4e-f1b2-42f9cfe1485a"
      },
      "execution_count": 213,
      "outputs": [
        {
          "output_type": "execute_result",
          "data": {
            "text/plain": [
              "<tf.Tensor: shape=(1, 1, 1, 1, 50), dtype=float32, numpy=\n",
              "array([[[[[0.6645621 , 0.44100678, 0.3528825 , 0.46448255, 0.03366041,\n",
              "           0.68467236, 0.74011743, 0.8724445 , 0.22632635, 0.22319686,\n",
              "           0.3103881 , 0.7223358 , 0.13318717, 0.5480639 , 0.5746088 ,\n",
              "           0.8996835 , 0.00946367, 0.5212307 , 0.6345445 , 0.1993283 ,\n",
              "           0.72942245, 0.54583454, 0.10756552, 0.6767061 , 0.6602763 ,\n",
              "           0.33695042, 0.60141766, 0.21062577, 0.8527372 , 0.44062173,\n",
              "           0.9485276 , 0.23752594, 0.81179297, 0.5263394 , 0.494308  ,\n",
              "           0.21612847, 0.8457197 , 0.8718841 , 0.3083862 , 0.6868038 ,\n",
              "           0.23764038, 0.7817228 , 0.9671384 , 0.06870162, 0.79873943,\n",
              "           0.66028714, 0.5871513 , 0.16461694, 0.7381023 , 0.32054043]]]]],\n",
              "      dtype=float32)>"
            ]
          },
          "metadata": {},
          "execution_count": 213
        }
      ]
    },
    {
      "cell_type": "code",
      "source": [
        "G.shape # Before squeeze"
      ],
      "metadata": {
        "colab": {
          "base_uri": "https://localhost:8080/"
        },
        "id": "Fpty2bniuFrZ",
        "outputId": "f77f82af-e7ce-49b2-a2e0-c2ed468f71d4"
      },
      "execution_count": 214,
      "outputs": [
        {
          "output_type": "execute_result",
          "data": {
            "text/plain": [
              "TensorShape([1, 1, 1, 1, 50])"
            ]
          },
          "metadata": {},
          "execution_count": 214
        }
      ]
    },
    {
      "cell_type": "code",
      "source": [
        "G_squeezed = tf.squeeze(G)\n",
        "G_squeezed, G_squeezed.shape"
      ],
      "metadata": {
        "colab": {
          "base_uri": "https://localhost:8080/"
        },
        "id": "44Dub2uxuUsK",
        "outputId": "2d97ad2a-f69d-4b4a-cc83-f38fb8bd4cf5"
      },
      "execution_count": 215,
      "outputs": [
        {
          "output_type": "execute_result",
          "data": {
            "text/plain": [
              "(<tf.Tensor: shape=(50,), dtype=float32, numpy=\n",
              " array([0.6645621 , 0.44100678, 0.3528825 , 0.46448255, 0.03366041,\n",
              "        0.68467236, 0.74011743, 0.8724445 , 0.22632635, 0.22319686,\n",
              "        0.3103881 , 0.7223358 , 0.13318717, 0.5480639 , 0.5746088 ,\n",
              "        0.8996835 , 0.00946367, 0.5212307 , 0.6345445 , 0.1993283 ,\n",
              "        0.72942245, 0.54583454, 0.10756552, 0.6767061 , 0.6602763 ,\n",
              "        0.33695042, 0.60141766, 0.21062577, 0.8527372 , 0.44062173,\n",
              "        0.9485276 , 0.23752594, 0.81179297, 0.5263394 , 0.494308  ,\n",
              "        0.21612847, 0.8457197 , 0.8718841 , 0.3083862 , 0.6868038 ,\n",
              "        0.23764038, 0.7817228 , 0.9671384 , 0.06870162, 0.79873943,\n",
              "        0.66028714, 0.5871513 , 0.16461694, 0.7381023 , 0.32054043],\n",
              "       dtype=float32)>,\n",
              " TensorShape([50]))"
            ]
          },
          "metadata": {},
          "execution_count": 215
        }
      ]
    },
    {
      "cell_type": "markdown",
      "source": [
        "### One hot encoding\n",
        "\n",
        "Integer representation for cualitative values. It is a form of numerical encoding for words to pass our NN."
      ],
      "metadata": {
        "id": "DYkUN_UxuaUW"
      }
    },
    {
      "cell_type": "code",
      "source": [
        "# Create a list of indices\n",
        "some_list = [0, 1, 2, 3] # Let's say each index is red, green, blue and purple\n",
        "\n",
        "# One hot encode indices\n",
        "tf.one_hot(some_list, depth=4) # depth is supposed to be the number of elements for the encoding"
      ],
      "metadata": {
        "colab": {
          "base_uri": "https://localhost:8080/"
        },
        "id": "JrRpoC84ukIa",
        "outputId": "dff770b6-56cd-4708-9f54-6cde778ac727"
      },
      "execution_count": 216,
      "outputs": [
        {
          "output_type": "execute_result",
          "data": {
            "text/plain": [
              "<tf.Tensor: shape=(4, 4), dtype=float32, numpy=\n",
              "array([[1., 0., 0., 0.],\n",
              "       [0., 1., 0., 0.],\n",
              "       [0., 0., 1., 0.],\n",
              "       [0., 0., 0., 1.]], dtype=float32)>"
            ]
          },
          "metadata": {},
          "execution_count": 216
        }
      ]
    },
    {
      "cell_type": "code",
      "source": [
        "# You rarely do this in practice but you can specify custom values for hot encoding\n",
        "tf.one_hot(some_list, depth=4, on_value='yo I love deep learning', off_value='I also like to dance') # just for fun, NN love numbers, so please go for 1s and 0s (and everything in between)"
      ],
      "metadata": {
        "colab": {
          "base_uri": "https://localhost:8080/"
        },
        "id": "zKXlhIqju-ls",
        "outputId": "3ed5de96-4d04-41b2-8c9d-cbe24f0a9d28"
      },
      "execution_count": 218,
      "outputs": [
        {
          "output_type": "execute_result",
          "data": {
            "text/plain": [
              "<tf.Tensor: shape=(4, 4), dtype=string, numpy=\n",
              "array([[b'yo I love deep learning', b'I also like to dance',\n",
              "        b'I also like to dance', b'I also like to dance'],\n",
              "       [b'I also like to dance', b'yo I love deep learning',\n",
              "        b'I also like to dance', b'I also like to dance'],\n",
              "       [b'I also like to dance', b'I also like to dance',\n",
              "        b'yo I love deep learning', b'I also like to dance'],\n",
              "       [b'I also like to dance', b'I also like to dance',\n",
              "        b'I also like to dance', b'yo I love deep learning']],\n",
              "      dtype=object)>"
            ]
          },
          "metadata": {},
          "execution_count": 218
        }
      ]
    },
    {
      "cell_type": "markdown",
      "source": [
        "### A few more math functions (element wise)\n",
        "- squaring\n",
        "- log\n",
        "- square root"
      ],
      "metadata": {
        "id": "3blW1-SavTiS"
      }
    },
    {
      "cell_type": "code",
      "source": [
        "# Create new tensor\n",
        "H = tf.range(1,10)\n",
        "H"
      ],
      "metadata": {
        "colab": {
          "base_uri": "https://localhost:8080/"
        },
        "id": "zXcpZ7wkvkRX",
        "outputId": "1339c63f-0ec9-4ce2-c25d-2ef8358e2c67"
      },
      "execution_count": 220,
      "outputs": [
        {
          "output_type": "execute_result",
          "data": {
            "text/plain": [
              "<tf.Tensor: shape=(9,), dtype=int32, numpy=array([1, 2, 3, 4, 5, 6, 7, 8, 9], dtype=int32)>"
            ]
          },
          "metadata": {},
          "execution_count": 220
        }
      ]
    },
    {
      "cell_type": "code",
      "source": [
        "# Get the square\n",
        "tf.square(H)"
      ],
      "metadata": {
        "colab": {
          "base_uri": "https://localhost:8080/"
        },
        "id": "7v8j9nOHvnh6",
        "outputId": "36ada2d9-3b14-4a41-c238-b5d87d5d8d36"
      },
      "execution_count": 221,
      "outputs": [
        {
          "output_type": "execute_result",
          "data": {
            "text/plain": [
              "<tf.Tensor: shape=(9,), dtype=int32, numpy=array([ 1,  4,  9, 16, 25, 36, 49, 64, 81], dtype=int32)>"
            ]
          },
          "metadata": {},
          "execution_count": 221
        }
      ]
    },
    {
      "cell_type": "code",
      "source": [
        "# Get the square root\n",
        "tf.sqrt(tf.cast(H, dtype=tf.float32)) # This will error if using an int type"
      ],
      "metadata": {
        "colab": {
          "base_uri": "https://localhost:8080/"
        },
        "id": "knS9GEg9vp-G",
        "outputId": "f2910cb6-c877-4f02-d0b2-e235e9765ed1"
      },
      "execution_count": 225,
      "outputs": [
        {
          "output_type": "execute_result",
          "data": {
            "text/plain": [
              "<tf.Tensor: shape=(9,), dtype=float32, numpy=\n",
              "array([1.       , 1.4142135, 1.7320508, 2.       , 2.236068 , 2.4494898,\n",
              "       2.6457512, 2.828427 , 3.       ], dtype=float32)>"
            ]
          },
          "metadata": {},
          "execution_count": 225
        }
      ]
    },
    {
      "cell_type": "code",
      "source": [
        "# Find the log\n",
        "tf.math.log(tf.cast(H, dtype=tf.float32)) # This one also need tf.math, again, idk"
      ],
      "metadata": {
        "colab": {
          "base_uri": "https://localhost:8080/"
        },
        "id": "AwN-Yo5jvr9r",
        "outputId": "fcc25516-015e-42a4-808c-234dd3bbbb65"
      },
      "execution_count": 226,
      "outputs": [
        {
          "output_type": "execute_result",
          "data": {
            "text/plain": [
              "<tf.Tensor: shape=(9,), dtype=float32, numpy=\n",
              "array([0.       , 0.6931472, 1.0986123, 1.3862944, 1.609438 , 1.7917595,\n",
              "       1.9459102, 2.0794415, 2.1972246], dtype=float32)>"
            ]
          },
          "metadata": {},
          "execution_count": 226
        }
      ]
    },
    {
      "cell_type": "markdown",
      "source": [
        "### Tensors and NumPy\n",
        "\n",
        "Tensorflow interacts beutifully with NumPy arrays. **One of the main differences is that tensors run on GPU or TPU for faster numerical processing**"
      ],
      "metadata": {
        "id": "VPQaDo07wCUY"
      }
    },
    {
      "cell_type": "code",
      "source": [
        "# Create a tensor from np array\n",
        "J = tf.constant(np.array([3., 7., 10.]))\n",
        "J"
      ],
      "metadata": {
        "colab": {
          "base_uri": "https://localhost:8080/"
        },
        "id": "xaVHh1fuwKSV",
        "outputId": "55bf3548-5600-4e1b-87e1-ad8d5b517581"
      },
      "execution_count": 228,
      "outputs": [
        {
          "output_type": "execute_result",
          "data": {
            "text/plain": [
              "<tf.Tensor: shape=(3,), dtype=float64, numpy=array([ 3.,  7., 10.])>"
            ]
          },
          "metadata": {},
          "execution_count": 228
        }
      ]
    },
    {
      "cell_type": "code",
      "source": [
        "# Convert it back to np array\n",
        "np.array(J), type(np.array(J))"
      ],
      "metadata": {
        "colab": {
          "base_uri": "https://localhost:8080/"
        },
        "id": "rszICXYSwTSA",
        "outputId": "c0af7cb6-0525-4793-eab7-e252fd57f481"
      },
      "execution_count": 229,
      "outputs": [
        {
          "output_type": "execute_result",
          "data": {
            "text/plain": [
              "(array([ 3.,  7., 10.]), numpy.ndarray)"
            ]
          },
          "metadata": {},
          "execution_count": 229
        }
      ]
    },
    {
      "cell_type": "code",
      "source": [
        "# From tensor to np array\n",
        "J.numpy(), type(J.numpy())"
      ],
      "metadata": {
        "colab": {
          "base_uri": "https://localhost:8080/"
        },
        "id": "WZEACp_ewaBs",
        "outputId": "ee804954-2f57-4f2e-8370-f858ec6908b9"
      },
      "execution_count": 230,
      "outputs": [
        {
          "output_type": "execute_result",
          "data": {
            "text/plain": [
              "(array([ 3.,  7., 10.]), numpy.ndarray)"
            ]
          },
          "metadata": {},
          "execution_count": 230
        }
      ]
    },
    {
      "cell_type": "code",
      "source": [
        "J = tf.constant([3.])\n",
        "J.numpy()[0] # When we need specific behaviors that either type won't allow we can change the type and do it"
      ],
      "metadata": {
        "colab": {
          "base_uri": "https://localhost:8080/"
        },
        "id": "FbcQqRHWwi3O",
        "outputId": "88e77cff-50f0-4d45-a21b-4895ec9395b4"
      },
      "execution_count": 232,
      "outputs": [
        {
          "output_type": "execute_result",
          "data": {
            "text/plain": [
              "3.0"
            ]
          },
          "metadata": {},
          "execution_count": 232
        }
      ]
    },
    {
      "cell_type": "code",
      "source": [
        "# The default types of each are slightly different\n",
        "numpy_J = tf.constant(np.array([3., 7., 10.]))\n",
        "tensor_J = tf.constant([3., 7., 10.])\n",
        "\n",
        "# Check the types\n",
        "numpy_J.dtype, tensor_J.dtype"
      ],
      "metadata": {
        "colab": {
          "base_uri": "https://localhost:8080/"
        },
        "id": "VkdLma6Fwn5d",
        "outputId": "bb457708-ef9d-4b58-caff-069f79a068e4"
      },
      "execution_count": 233,
      "outputs": [
        {
          "output_type": "execute_result",
          "data": {
            "text/plain": [
              "(tf.float64, tf.float32)"
            ]
          },
          "metadata": {},
          "execution_count": 233
        }
      ]
    },
    {
      "cell_type": "markdown",
      "source": [
        "### How to find access to GPUS\n",
        "\n",
        "I'll be working this notebook on colab so, if you are not, just get familiar with it and ask for a GPU under the runtime type tab and changing the hardware accelerator.\n",
        "\n",
        "Colabs' free version include Nvidia K80s, T4s, P4s and P100s GPUs. Last one being the fastest but you'll be assigned based on availability. If higher power is needed, A100s are available for Colab Pro users and TPUs work in a similar way. When you ask for access to this hardware your runtime will restart."
      ],
      "metadata": {
        "id": "UpXqAbjsxBSy"
      }
    },
    {
      "cell_type": "code",
      "source": [
        "# this is before asking for a GPU, so all we have is CPU. Only ask for GPU when neede to save computing units\n",
        "tf.config.list_physical_devices()"
      ],
      "metadata": {
        "colab": {
          "base_uri": "https://localhost:8080/"
        },
        "id": "oeVu48RPxuXQ",
        "outputId": "d1f3c08b-0f08-4823-c869-66d1df50a6d0"
      },
      "execution_count": 236,
      "outputs": [
        {
          "output_type": "execute_result",
          "data": {
            "text/plain": [
              "[PhysicalDevice(name='/physical_device:CPU:0', device_type='CPU')]"
            ]
          },
          "metadata": {},
          "execution_count": 236
        }
      ]
    },
    {
      "cell_type": "markdown",
      "source": [
        "> If you have access to a CUDA-enabled GPU, TensorFlow will automatically use it\n",
        "\n",
        "**Good news is that by now you should have a great understanding over tensorflow fundamentals**\n",
        "\n",
        "I have some pending exercises that will be soon added to the repo"
      ],
      "metadata": {
        "id": "1-KxfjNgxyYh"
      }
    }
  ]
}